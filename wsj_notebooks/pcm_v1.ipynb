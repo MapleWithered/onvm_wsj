{
 "cells": [
  {
   "cell_type": "code",
   "execution_count": 213,
   "id": "initial_id",
   "metadata": {
    "collapsed": true,
    "ExecuteTime": {
     "end_time": "2024-03-05T07:31:18.148880Z",
     "start_time": "2024-03-05T07:31:18.136193Z"
    }
   },
   "outputs": [],
   "source": [
    "import os\n",
    "import re\n",
    "import glob\n",
    "import numpy as np\n",
    "import pandas as pd\n",
    "from copy import deepcopy\n",
    "import csv\n",
    "import seaborn as sns\n",
    "import sklearn\n",
    "from sklearn import model_selection\n",
    "import lightgbm as lgb\n",
    "\n",
    "import matplotlib.ticker as mticker\n",
    "\n",
    "import matplotlib.pyplot as plt\n",
    "from tqdm import tqdm"
   ]
  },
  {
   "cell_type": "code",
   "outputs": [],
   "source": [
    "# Specify the data path and experiment name\n",
    "current_path = \"../wsj-data\"\n",
    "exp_type = \"random_input\"\n",
    "test_exp_num = \"exp-7\""
   ],
   "metadata": {
    "collapsed": false,
    "ExecuteTime": {
     "end_time": "2024-03-05T07:31:18.380162Z",
     "start_time": "2024-03-05T07:31:18.375363Z"
    }
   },
   "id": "114db3bb9f9e2f4d",
   "execution_count": 214
  },
  {
   "cell_type": "code",
   "outputs": [],
   "source": [
    "experiments = [\"exp-7\"]\n",
    "\n",
    "target = \"output\"  # latency\n",
    "dt = True  # True\n",
    "trainer = \"gbdt\"\n",
    "preprocessing_drop_features = False  # False"
   ],
   "metadata": {
    "collapsed": false,
    "ExecuteTime": {
     "end_time": "2024-03-05T07:31:18.426225Z",
     "start_time": "2024-03-05T07:31:18.415545Z"
    }
   },
   "id": "6b077de39f69e64c",
   "execution_count": 215
  },
  {
   "cell_type": "code",
   "outputs": [],
   "source": [
    "def read_2headers(exp_type, exp_num, file):\n",
    "    file_path = os.path.join(current_path, exp_type, exp_num, file)\n",
    "\n",
    "    with open(file_path, newline='') as csvfile:\n",
    "        reader = csv.reader(csvfile)\n",
    "        headers_1 = next(reader)\n",
    "        headers_2 = next(reader)\n",
    "        headers = [i + \" \" + j for i, j in zip(headers_1, headers_2)]\n",
    "    return headers, headers_1, headers_2"
   ],
   "metadata": {
    "collapsed": false,
    "ExecuteTime": {
     "end_time": "2024-03-05T07:31:18.457167Z",
     "start_time": "2024-03-05T07:31:18.442418Z"
    }
   },
   "id": "8b97bf16128b1598",
   "execution_count": 216
  },
  {
   "cell_type": "code",
   "outputs": [],
   "source": [
    "_, headers_1, headers_2 = read_2headers(exp_type, test_exp_num, \"bridge-pcm.csv\")"
   ],
   "metadata": {
    "collapsed": false,
    "ExecuteTime": {
     "end_time": "2024-03-05T07:31:18.472263Z",
     "start_time": "2024-03-05T07:31:18.465727Z"
    }
   },
   "id": "6835a041068d84f3",
   "execution_count": 217
  },
  {
   "cell_type": "code",
   "outputs": [],
   "source": [
    "def get_sockets(headers_1):\n",
    "    socket_num_set = set()\n",
    "    for header in headers_1:\n",
    "        if \"Socket\" in header:\n",
    "            index_socket = header.find(\"Socket \")\n",
    "            socket_num = header[index_socket + 7]\n",
    "            socket_num_set.add(int(socket_num))\n",
    "    return socket_num_set\n",
    "\n",
    "\n",
    "def get_core_socket(headers_1):\n",
    "    core_num_set = set()\n",
    "    for header in headers_1:\n",
    "        if \"Core\" in header:\n",
    "            # pattern: Core7 (Socket 0)\n",
    "            # we want 7 and 0\n",
    "            index_core = header.find(\"Core\")\n",
    "            index_socket = header.find(\"Socket\")\n",
    "            if index_core == -1 or index_socket == -1:\n",
    "                continue\n",
    "            core_num = header[index_core + 4]\n",
    "            socket_num = header[index_socket + 7]\n",
    "            core_num_set.add((int(core_num), int(socket_num)))\n",
    "    assert len(core_num_set) <= 1, str(core_num_set)\n",
    "    if len(core_num_set) == 1:\n",
    "        return list(core_num_set)[0]\n",
    "    else:\n",
    "        return None"
   ],
   "metadata": {
    "collapsed": false,
    "ExecuteTime": {
     "end_time": "2024-03-05T07:31:18.502842Z",
     "start_time": "2024-03-05T07:31:18.484248Z"
    }
   },
   "id": "bdea1729c0e7331e",
   "execution_count": 218
  },
  {
   "cell_type": "code",
   "outputs": [
    {
     "name": "stdout",
     "output_type": "stream",
     "text": [
      "{0, 1}\n",
      "(7, 0)\n"
     ]
    }
   ],
   "source": [
    "print(get_sockets(headers_1))\n",
    "print(get_core_socket(headers_1))"
   ],
   "metadata": {
    "collapsed": false,
    "ExecuteTime": {
     "end_time": "2024-03-05T07:31:18.533945Z",
     "start_time": "2024-03-05T07:31:18.516423Z"
    }
   },
   "id": "fd0bdf95fae11fbe",
   "execution_count": 219
  },
  {
   "cell_type": "code",
   "outputs": [],
   "source": [
    "def remove_index_of_socket_core(headers_1, core_socket):\n",
    "    if core_socket is None:\n",
    "        return headers_1\n",
    "    # deepcopy\n",
    "    headers_1 = deepcopy(headers_1)\n",
    "    for i in range(len(headers_1)):\n",
    "        if \"Socket\" in headers_1[i] and \"Core\" in headers_1[i]:\n",
    "            assert headers_1[i] == f\"Core{core_socket[0]} (Socket {core_socket[1]})\"\n",
    "            headers_1[i] = f\"Core (Socket)\"\n",
    "    return headers_1"
   ],
   "metadata": {
    "collapsed": false,
    "ExecuteTime": {
     "end_time": "2024-03-05T07:31:18.580088Z",
     "start_time": "2024-03-05T07:31:18.564737Z"
    }
   },
   "id": "3a1d3535100c811e",
   "execution_count": 220
  },
  {
   "cell_type": "code",
   "outputs": [
    {
     "name": "stdout",
     "output_type": "stream",
     "text": [
      "['System Date', 'System Time', 'Socket 0 EXEC', 'Socket 0 IPC', 'Socket 0 FREQ', 'Socket 0 AFREQ', 'Socket 0 L3MISS', 'Socket 0 L2MISS', 'Socket 0 L3HIT', 'Socket 0 L2HIT', 'Socket 0 L3MPI', 'Socket 0 L2MPI', 'Socket 0 L3OCC', 'Socket 0 READ', 'Socket 0 WRITE', 'Socket 0 LOCAL', 'Socket 0 TEMP', 'Socket 0 INST', 'Socket 0 ACYC', 'Socket 0 TIME(ticks)', 'Socket 0 PhysIPC', 'Socket 0 PhysIPC%', 'Socket 0 INSTnom', 'Socket 0 INSTnom%', 'Socket 1 EXEC', 'Socket 1 IPC', 'Socket 1 FREQ', 'Socket 1 AFREQ', 'Socket 1 L3MISS', 'Socket 1 L2MISS', 'Socket 1 L3HIT', 'Socket 1 L2HIT', 'Socket 1 L3MPI', 'Socket 1 L2MPI', 'Socket 1 L3OCC', 'Socket 1 READ', 'Socket 1 WRITE', 'Socket 1 LOCAL', 'Socket 1 TEMP', 'Socket 1 INST', 'Socket 1 ACYC', 'Socket 1 TIME(ticks)', 'Socket 1 PhysIPC', 'Socket 1 PhysIPC%', 'Socket 1 INSTnom', 'Socket 1 INSTnom%', 'SKT0 Core C-State C0res%', 'SKT0 Core C-State C1res%', 'SKT0 Core C-State C3res%', 'SKT0 Core C-State C6res%', 'SKT0 Core C-State C7res%', 'SKT0 Package C-State C0res%', 'SKT0 Package C-State C2res%', 'SKT0 Package C-State C3res%', 'SKT0 Package C-State C6res%', 'SKT0 Package C-State C7res%', 'SKT1 Core C-State C0res%', 'SKT1 Core C-State C1res%', 'SKT1 Core C-State C3res%', 'SKT1 Core C-State C6res%', 'SKT1 Core C-State C7res%', 'SKT1 Package C-State C0res%', 'SKT1 Package C-State C2res%', 'SKT1 Package C-State C3res%', 'SKT1 Package C-State C6res%', 'SKT1 Package C-State C7res%', 'Proc Energy (Joules) SKT0', 'Proc Energy (Joules) SKT1', 'DRAM Energy (Joules) SKT0', 'DRAM Energy (Joules) SKT1', 'LLCRDMISSLAT (ns) SKT0', 'LLCRDMISSLAT (ns) SKT1', 'UncFREQ (Ghz) SKT0', 'UncFREQ (Ghz) SKT1', 'Core (Socket) EXEC', 'Core (Socket) IPC', 'Core (Socket) FREQ', 'Core (Socket) AFREQ', 'Core (Socket) L3MISS', 'Core (Socket) L2MISS', 'Core (Socket) L3HIT', 'Core (Socket) L2HIT', 'Core (Socket) L3MPI', 'Core (Socket) L2MPI', 'Core (Socket) L3OCC', 'Core (Socket) C0res%', 'Core (Socket) C1res%', 'Core (Socket) C3res%', 'Core (Socket) C6res%', 'Core (Socket) C7res%', 'Core (Socket) TEMP', 'Core (Socket) INST', 'Core (Socket) ACYC', 'Core (Socket) TIME(ticks)', 'Core (Socket) PhysIPC', 'Core (Socket) PhysIPC%', 'Core (Socket) INSTnom', 'Core (Socket) INSTnom%', ' ']\n"
     ]
    }
   ],
   "source": [
    "headers_1_new = remove_index_of_socket_core(headers_1, get_core_socket(headers_1))\n",
    "headers = [i + \" \" + j for i, j in zip(headers_1_new, headers_2)]\n",
    "print(headers)"
   ],
   "metadata": {
    "collapsed": false,
    "ExecuteTime": {
     "end_time": "2024-03-05T07:31:18.595651Z",
     "start_time": "2024-03-05T07:31:18.585767Z"
    }
   },
   "id": "294a7ba2cf04b0e5",
   "execution_count": 221
  },
  {
   "cell_type": "code",
   "outputs": [],
   "source": [
    "def get_pcm_data_2headers(exp_type, exp_num, file):\n",
    "    _, headers_1, headers_2 = read_2headers(exp_type, exp_num, file)\n",
    "    headers_1_new = remove_index_of_socket_core(headers_1, get_core_socket(headers_1))\n",
    "    headers = [i + \" \" + j for i, j in zip(headers_1_new, headers_2)]\n",
    "\n",
    "    file_path = os.path.join(current_path, exp_type, exp_num, file)\n",
    "    data = pd.read_csv(file_path, names=headers, skiprows=2)\n",
    "    # delete the columns if it's NaN\n",
    "    data = data.dropna(axis=1, how='all')\n",
    "    return data"
   ],
   "metadata": {
    "collapsed": false,
    "ExecuteTime": {
     "end_time": "2024-03-05T07:31:18.642291Z",
     "start_time": "2024-03-05T07:31:18.627881Z"
    }
   },
   "id": "fec2b6d8b28940ac",
   "execution_count": 222
  },
  {
   "cell_type": "code",
   "outputs": [
    {
     "data": {
      "text/plain": "     System Date   System Time  Socket 0 EXEC  Socket 0 IPC  Socket 0 FREQ  \\\n0     2024-02-26  12:13:13.936           0.17          2.75           0.06   \n1     2024-02-26  12:13:14.936           0.15          2.32           0.06   \n2     2024-02-26  12:13:15.936           0.15          2.40           0.06   \n3     2024-02-26  12:13:16.937           0.15          2.32           0.06   \n4     2024-02-26  12:13:17.936           0.15          2.35           0.06   \n...          ...           ...            ...           ...            ...   \n1478  2024-02-26  12:37:52.137           0.16          2.60           0.06   \n1479  2024-02-26  12:37:53.136           0.17          2.57           0.07   \n1480  2024-02-26  12:37:54.136           0.16          2.58           0.06   \n1481  2024-02-26  12:37:55.136           0.15          2.61           0.06   \n1482  2024-02-26  12:37:56.136           0.16          2.64           0.06   \n\n      Socket 0 AFREQ  Socket 0 L3MISS  Socket 0 L2MISS  Socket 0 L3HIT  \\\n0               1.12             0.09            12.83            0.99   \n1               1.12             0.08            15.45            0.99   \n2               1.12             0.08            15.83            1.00   \n3               1.12             0.09            15.47            0.99   \n4               1.12             0.07            15.62            1.00   \n...              ...              ...              ...             ...   \n1478            1.12             0.05            18.68            1.00   \n1479            1.12             0.03            18.73            1.00   \n1480            1.12             0.07            18.44            1.00   \n1481            1.12             0.03            18.37            1.00   \n1482            1.12             0.03            18.90            1.00   \n\n      Socket 0 L2HIT  ...  Core (Socket) C6res%  Core (Socket) C7res%  \\\n0               0.27  ...                   0.0                   0.0   \n1               0.37  ...                   0.0                   0.0   \n2               0.37  ...                   0.0                   0.0   \n3               0.39  ...                   0.0                   0.0   \n4               0.39  ...                   0.0                   0.0   \n...              ...  ...                   ...                   ...   \n1478            0.34  ...                   0.0                   0.0   \n1479            0.38  ...                   0.0                   0.0   \n1480            0.34  ...                   0.0                   0.0   \n1481            0.28  ...                   0.0                   0.0   \n1482            0.30  ...                   0.0                   0.0   \n\n      Core (Socket) TEMP  Core (Socket) INST  Core (Socket) ACYC  \\\n0                     49             1425.00              455.27   \n1                     49             1125.87              405.15   \n2                     49             1144.18              405.30   \n3                     48             1101.78              401.08   \n4                     47             1107.31              398.45   \n...                  ...                 ...                 ...   \n1478                  36             1158.08              407.88   \n1479                  36             1165.35              412.50   \n1480                  36             1193.54              411.95   \n1481                  36             1134.46              402.04   \n1482                  36             1186.63              415.68   \n\n      Core (Socket) TIME(ticks)  Core (Socket) PhysIPC  \\\n0                       2599.04                   6.26   \n1                       2595.90                   5.56   \n2                       2598.07                   5.65   \n3                       2598.13                   5.49   \n4                       2595.52                   5.56   \n...                         ...                    ...   \n1478                    2598.10                   5.68   \n1479                    2595.53                   5.65   \n1480                    2595.47                   5.79   \n1481                    2598.54                   5.64   \n1482                    2595.78                   5.71   \n\n      Core (Socket) PhysIPC%  Core (Socket) INSTnom  Core (Socket) INSTnom%  \n0                     156.50                   1.10                   27.41  \n1                     138.94                   0.87                   21.69  \n2                     141.15                   0.88                   22.02  \n3                     137.35                   0.85                   21.20  \n4                     138.95                   0.85                   21.33  \n...                      ...                    ...                     ...  \n1478                  141.96                   0.89                   22.29  \n1479                  141.25                   0.90                   22.45  \n1480                  144.86                   0.92                   22.99  \n1481                  141.09                   0.87                   21.83  \n1482                  142.73                   0.91                   22.86  \n\n[1483 rows x 98 columns]",
      "text/html": "<div>\n<style scoped>\n    .dataframe tbody tr th:only-of-type {\n        vertical-align: middle;\n    }\n\n    .dataframe tbody tr th {\n        vertical-align: top;\n    }\n\n    .dataframe thead th {\n        text-align: right;\n    }\n</style>\n<table border=\"1\" class=\"dataframe\">\n  <thead>\n    <tr style=\"text-align: right;\">\n      <th></th>\n      <th>System Date</th>\n      <th>System Time</th>\n      <th>Socket 0 EXEC</th>\n      <th>Socket 0 IPC</th>\n      <th>Socket 0 FREQ</th>\n      <th>Socket 0 AFREQ</th>\n      <th>Socket 0 L3MISS</th>\n      <th>Socket 0 L2MISS</th>\n      <th>Socket 0 L3HIT</th>\n      <th>Socket 0 L2HIT</th>\n      <th>...</th>\n      <th>Core (Socket) C6res%</th>\n      <th>Core (Socket) C7res%</th>\n      <th>Core (Socket) TEMP</th>\n      <th>Core (Socket) INST</th>\n      <th>Core (Socket) ACYC</th>\n      <th>Core (Socket) TIME(ticks)</th>\n      <th>Core (Socket) PhysIPC</th>\n      <th>Core (Socket) PhysIPC%</th>\n      <th>Core (Socket) INSTnom</th>\n      <th>Core (Socket) INSTnom%</th>\n    </tr>\n  </thead>\n  <tbody>\n    <tr>\n      <th>0</th>\n      <td>2024-02-26</td>\n      <td>12:13:13.936</td>\n      <td>0.17</td>\n      <td>2.75</td>\n      <td>0.06</td>\n      <td>1.12</td>\n      <td>0.09</td>\n      <td>12.83</td>\n      <td>0.99</td>\n      <td>0.27</td>\n      <td>...</td>\n      <td>0.0</td>\n      <td>0.0</td>\n      <td>49</td>\n      <td>1425.00</td>\n      <td>455.27</td>\n      <td>2599.04</td>\n      <td>6.26</td>\n      <td>156.50</td>\n      <td>1.10</td>\n      <td>27.41</td>\n    </tr>\n    <tr>\n      <th>1</th>\n      <td>2024-02-26</td>\n      <td>12:13:14.936</td>\n      <td>0.15</td>\n      <td>2.32</td>\n      <td>0.06</td>\n      <td>1.12</td>\n      <td>0.08</td>\n      <td>15.45</td>\n      <td>0.99</td>\n      <td>0.37</td>\n      <td>...</td>\n      <td>0.0</td>\n      <td>0.0</td>\n      <td>49</td>\n      <td>1125.87</td>\n      <td>405.15</td>\n      <td>2595.90</td>\n      <td>5.56</td>\n      <td>138.94</td>\n      <td>0.87</td>\n      <td>21.69</td>\n    </tr>\n    <tr>\n      <th>2</th>\n      <td>2024-02-26</td>\n      <td>12:13:15.936</td>\n      <td>0.15</td>\n      <td>2.40</td>\n      <td>0.06</td>\n      <td>1.12</td>\n      <td>0.08</td>\n      <td>15.83</td>\n      <td>1.00</td>\n      <td>0.37</td>\n      <td>...</td>\n      <td>0.0</td>\n      <td>0.0</td>\n      <td>49</td>\n      <td>1144.18</td>\n      <td>405.30</td>\n      <td>2598.07</td>\n      <td>5.65</td>\n      <td>141.15</td>\n      <td>0.88</td>\n      <td>22.02</td>\n    </tr>\n    <tr>\n      <th>3</th>\n      <td>2024-02-26</td>\n      <td>12:13:16.937</td>\n      <td>0.15</td>\n      <td>2.32</td>\n      <td>0.06</td>\n      <td>1.12</td>\n      <td>0.09</td>\n      <td>15.47</td>\n      <td>0.99</td>\n      <td>0.39</td>\n      <td>...</td>\n      <td>0.0</td>\n      <td>0.0</td>\n      <td>48</td>\n      <td>1101.78</td>\n      <td>401.08</td>\n      <td>2598.13</td>\n      <td>5.49</td>\n      <td>137.35</td>\n      <td>0.85</td>\n      <td>21.20</td>\n    </tr>\n    <tr>\n      <th>4</th>\n      <td>2024-02-26</td>\n      <td>12:13:17.936</td>\n      <td>0.15</td>\n      <td>2.35</td>\n      <td>0.06</td>\n      <td>1.12</td>\n      <td>0.07</td>\n      <td>15.62</td>\n      <td>1.00</td>\n      <td>0.39</td>\n      <td>...</td>\n      <td>0.0</td>\n      <td>0.0</td>\n      <td>47</td>\n      <td>1107.31</td>\n      <td>398.45</td>\n      <td>2595.52</td>\n      <td>5.56</td>\n      <td>138.95</td>\n      <td>0.85</td>\n      <td>21.33</td>\n    </tr>\n    <tr>\n      <th>...</th>\n      <td>...</td>\n      <td>...</td>\n      <td>...</td>\n      <td>...</td>\n      <td>...</td>\n      <td>...</td>\n      <td>...</td>\n      <td>...</td>\n      <td>...</td>\n      <td>...</td>\n      <td>...</td>\n      <td>...</td>\n      <td>...</td>\n      <td>...</td>\n      <td>...</td>\n      <td>...</td>\n      <td>...</td>\n      <td>...</td>\n      <td>...</td>\n      <td>...</td>\n      <td>...</td>\n    </tr>\n    <tr>\n      <th>1478</th>\n      <td>2024-02-26</td>\n      <td>12:37:52.137</td>\n      <td>0.16</td>\n      <td>2.60</td>\n      <td>0.06</td>\n      <td>1.12</td>\n      <td>0.05</td>\n      <td>18.68</td>\n      <td>1.00</td>\n      <td>0.34</td>\n      <td>...</td>\n      <td>0.0</td>\n      <td>0.0</td>\n      <td>36</td>\n      <td>1158.08</td>\n      <td>407.88</td>\n      <td>2598.10</td>\n      <td>5.68</td>\n      <td>141.96</td>\n      <td>0.89</td>\n      <td>22.29</td>\n    </tr>\n    <tr>\n      <th>1479</th>\n      <td>2024-02-26</td>\n      <td>12:37:53.136</td>\n      <td>0.17</td>\n      <td>2.57</td>\n      <td>0.07</td>\n      <td>1.12</td>\n      <td>0.03</td>\n      <td>18.73</td>\n      <td>1.00</td>\n      <td>0.38</td>\n      <td>...</td>\n      <td>0.0</td>\n      <td>0.0</td>\n      <td>36</td>\n      <td>1165.35</td>\n      <td>412.50</td>\n      <td>2595.53</td>\n      <td>5.65</td>\n      <td>141.25</td>\n      <td>0.90</td>\n      <td>22.45</td>\n    </tr>\n    <tr>\n      <th>1480</th>\n      <td>2024-02-26</td>\n      <td>12:37:54.136</td>\n      <td>0.16</td>\n      <td>2.58</td>\n      <td>0.06</td>\n      <td>1.12</td>\n      <td>0.07</td>\n      <td>18.44</td>\n      <td>1.00</td>\n      <td>0.34</td>\n      <td>...</td>\n      <td>0.0</td>\n      <td>0.0</td>\n      <td>36</td>\n      <td>1193.54</td>\n      <td>411.95</td>\n      <td>2595.47</td>\n      <td>5.79</td>\n      <td>144.86</td>\n      <td>0.92</td>\n      <td>22.99</td>\n    </tr>\n    <tr>\n      <th>1481</th>\n      <td>2024-02-26</td>\n      <td>12:37:55.136</td>\n      <td>0.15</td>\n      <td>2.61</td>\n      <td>0.06</td>\n      <td>1.12</td>\n      <td>0.03</td>\n      <td>18.37</td>\n      <td>1.00</td>\n      <td>0.28</td>\n      <td>...</td>\n      <td>0.0</td>\n      <td>0.0</td>\n      <td>36</td>\n      <td>1134.46</td>\n      <td>402.04</td>\n      <td>2598.54</td>\n      <td>5.64</td>\n      <td>141.09</td>\n      <td>0.87</td>\n      <td>21.83</td>\n    </tr>\n    <tr>\n      <th>1482</th>\n      <td>2024-02-26</td>\n      <td>12:37:56.136</td>\n      <td>0.16</td>\n      <td>2.64</td>\n      <td>0.06</td>\n      <td>1.12</td>\n      <td>0.03</td>\n      <td>18.90</td>\n      <td>1.00</td>\n      <td>0.30</td>\n      <td>...</td>\n      <td>0.0</td>\n      <td>0.0</td>\n      <td>36</td>\n      <td>1186.63</td>\n      <td>415.68</td>\n      <td>2595.78</td>\n      <td>5.71</td>\n      <td>142.73</td>\n      <td>0.91</td>\n      <td>22.86</td>\n    </tr>\n  </tbody>\n</table>\n<p>1483 rows × 98 columns</p>\n</div>"
     },
     "execution_count": 223,
     "metadata": {},
     "output_type": "execute_result"
    }
   ],
   "source": [
    "get_pcm_data_2headers(exp_type, test_exp_num, \"bridge-pcm.csv\")"
   ],
   "metadata": {
    "collapsed": false,
    "ExecuteTime": {
     "end_time": "2024-03-05T07:31:18.703294Z",
     "start_time": "2024-03-05T07:31:18.666392Z"
    }
   },
   "id": "de8f1a5b13870505",
   "execution_count": 223
  },
  {
   "cell_type": "code",
   "outputs": [
    {
     "data": {
      "text/plain": "     System Date   System Time  Socket 0 EXEC  Socket 0 IPC  Socket 0 FREQ  \\\n0     2024-02-26  12:13:12.768           1.10          3.37           0.33   \n1     2024-02-26  12:13:13.769           0.21          2.93           0.07   \n2     2024-02-26  12:13:14.769           0.15          2.31           0.06   \n3     2024-02-26  12:13:15.769           0.15          2.39           0.06   \n4     2024-02-26  12:13:16.769           0.15          2.36           0.06   \n...          ...           ...            ...           ...            ...   \n1480  2024-02-26  12:37:52.961           0.17          2.57           0.06   \n1481  2024-02-26  12:37:53.962           0.16          2.51           0.06   \n1482  2024-02-26  12:37:54.961           0.16          2.63           0.06   \n1483  2024-02-26  12:37:55.961           0.16          2.61           0.06   \n1484  2024-02-26  12:37:56.962           0.16          2.64           0.06   \n\n      Socket 0 AFREQ  Socket 0 L3MISS  Socket 0 L2MISS  Socket 0 L3HIT  \\\n0               1.12             0.14             9.63            0.99   \n1               1.12             0.09            10.85            0.99   \n2               1.12             0.11            15.48            0.99   \n3               1.12             0.07            15.84            1.00   \n4               1.12             0.08            15.34            0.99   \n...              ...              ...              ...             ...   \n1480            1.12             0.04            18.68            1.00   \n1481            1.12             0.09            18.08            0.99   \n1482            1.12             0.05            18.86            1.00   \n1483            1.12             0.03            18.88            1.00   \n1484            1.12             0.03            18.49            1.00   \n\n      Socket 0 L2HIT  ...  Core (Socket) C6res%  Core (Socket) C7res%  \\\n0               0.83  ...                   0.0                   0.0   \n1               0.30  ...                   0.0                   0.0   \n2               0.37  ...                   0.0                   0.0   \n3               0.36  ...                   0.0                   0.0   \n4               0.39  ...                   0.0                   0.0   \n...              ...  ...                   ...                   ...   \n1480            0.37  ...                   0.0                   0.0   \n1481            0.36  ...                   0.0                   0.0   \n1482            0.29  ...                   0.0                   0.0   \n1483            0.29  ...                   0.0                   0.0   \n1484            0.36  ...                   0.0                   0.0   \n\n      Core (Socket) TEMP  Core (Socket) INST  Core (Socket) ACYC  \\\n0                     45             7873.40             2114.41   \n1                     46             1690.60              503.48   \n2                     45             1173.38              406.39   \n3                     45             1195.00              408.39   \n4                     45             1145.00              392.95   \n...                  ...                 ...                 ...   \n1480                  34             1188.43              409.43   \n1481                  33             1193.49              404.55   \n1482                  34             1207.85              413.26   \n1483                  33             1206.74              415.34   \n1484                  33             1180.35              399.90   \n\n      Core (Socket) TIME(ticks)  Core (Socket) PhysIPC  \\\n0                       2599.50                   7.45   \n1                       2597.42                   6.72   \n2                       2598.50                   5.77   \n3                       2598.08                   5.85   \n4                       2595.47                   5.83   \n...                         ...                    ...   \n1480                    2594.92                   5.81   \n1481                    2599.86                   5.90   \n1482                    2595.11                   5.85   \n1483                    2597.40                   5.81   \n1484                    2597.57                   5.90   \n\n      Core (Socket) PhysIPC%  Core (Socket) INSTnom  Core (Socket) INSTnom%  \n0                     186.18                   6.06                  151.44  \n1                     167.89                   1.30                   32.54  \n2                     144.37                   0.90                   22.58  \n3                     146.31                   0.92                   23.00  \n4                     145.69                   0.88                   22.06  \n...                      ...                    ...                     ...  \n1480                  145.13                   0.92                   22.90  \n1481                  147.51                   0.92                   22.95  \n1482                  146.14                   0.93                   23.27  \n1483                  145.27                   0.93                   23.23  \n1484                  147.58                   0.91                   22.72  \n\n[1485 rows x 98 columns]",
      "text/html": "<div>\n<style scoped>\n    .dataframe tbody tr th:only-of-type {\n        vertical-align: middle;\n    }\n\n    .dataframe tbody tr th {\n        vertical-align: top;\n    }\n\n    .dataframe thead th {\n        text-align: right;\n    }\n</style>\n<table border=\"1\" class=\"dataframe\">\n  <thead>\n    <tr style=\"text-align: right;\">\n      <th></th>\n      <th>System Date</th>\n      <th>System Time</th>\n      <th>Socket 0 EXEC</th>\n      <th>Socket 0 IPC</th>\n      <th>Socket 0 FREQ</th>\n      <th>Socket 0 AFREQ</th>\n      <th>Socket 0 L3MISS</th>\n      <th>Socket 0 L2MISS</th>\n      <th>Socket 0 L3HIT</th>\n      <th>Socket 0 L2HIT</th>\n      <th>...</th>\n      <th>Core (Socket) C6res%</th>\n      <th>Core (Socket) C7res%</th>\n      <th>Core (Socket) TEMP</th>\n      <th>Core (Socket) INST</th>\n      <th>Core (Socket) ACYC</th>\n      <th>Core (Socket) TIME(ticks)</th>\n      <th>Core (Socket) PhysIPC</th>\n      <th>Core (Socket) PhysIPC%</th>\n      <th>Core (Socket) INSTnom</th>\n      <th>Core (Socket) INSTnom%</th>\n    </tr>\n  </thead>\n  <tbody>\n    <tr>\n      <th>0</th>\n      <td>2024-02-26</td>\n      <td>12:13:12.768</td>\n      <td>1.10</td>\n      <td>3.37</td>\n      <td>0.33</td>\n      <td>1.12</td>\n      <td>0.14</td>\n      <td>9.63</td>\n      <td>0.99</td>\n      <td>0.83</td>\n      <td>...</td>\n      <td>0.0</td>\n      <td>0.0</td>\n      <td>45</td>\n      <td>7873.40</td>\n      <td>2114.41</td>\n      <td>2599.50</td>\n      <td>7.45</td>\n      <td>186.18</td>\n      <td>6.06</td>\n      <td>151.44</td>\n    </tr>\n    <tr>\n      <th>1</th>\n      <td>2024-02-26</td>\n      <td>12:13:13.769</td>\n      <td>0.21</td>\n      <td>2.93</td>\n      <td>0.07</td>\n      <td>1.12</td>\n      <td>0.09</td>\n      <td>10.85</td>\n      <td>0.99</td>\n      <td>0.30</td>\n      <td>...</td>\n      <td>0.0</td>\n      <td>0.0</td>\n      <td>46</td>\n      <td>1690.60</td>\n      <td>503.48</td>\n      <td>2597.42</td>\n      <td>6.72</td>\n      <td>167.89</td>\n      <td>1.30</td>\n      <td>32.54</td>\n    </tr>\n    <tr>\n      <th>2</th>\n      <td>2024-02-26</td>\n      <td>12:13:14.769</td>\n      <td>0.15</td>\n      <td>2.31</td>\n      <td>0.06</td>\n      <td>1.12</td>\n      <td>0.11</td>\n      <td>15.48</td>\n      <td>0.99</td>\n      <td>0.37</td>\n      <td>...</td>\n      <td>0.0</td>\n      <td>0.0</td>\n      <td>45</td>\n      <td>1173.38</td>\n      <td>406.39</td>\n      <td>2598.50</td>\n      <td>5.77</td>\n      <td>144.37</td>\n      <td>0.90</td>\n      <td>22.58</td>\n    </tr>\n    <tr>\n      <th>3</th>\n      <td>2024-02-26</td>\n      <td>12:13:15.769</td>\n      <td>0.15</td>\n      <td>2.39</td>\n      <td>0.06</td>\n      <td>1.12</td>\n      <td>0.07</td>\n      <td>15.84</td>\n      <td>1.00</td>\n      <td>0.36</td>\n      <td>...</td>\n      <td>0.0</td>\n      <td>0.0</td>\n      <td>45</td>\n      <td>1195.00</td>\n      <td>408.39</td>\n      <td>2598.08</td>\n      <td>5.85</td>\n      <td>146.31</td>\n      <td>0.92</td>\n      <td>23.00</td>\n    </tr>\n    <tr>\n      <th>4</th>\n      <td>2024-02-26</td>\n      <td>12:13:16.769</td>\n      <td>0.15</td>\n      <td>2.36</td>\n      <td>0.06</td>\n      <td>1.12</td>\n      <td>0.08</td>\n      <td>15.34</td>\n      <td>0.99</td>\n      <td>0.39</td>\n      <td>...</td>\n      <td>0.0</td>\n      <td>0.0</td>\n      <td>45</td>\n      <td>1145.00</td>\n      <td>392.95</td>\n      <td>2595.47</td>\n      <td>5.83</td>\n      <td>145.69</td>\n      <td>0.88</td>\n      <td>22.06</td>\n    </tr>\n    <tr>\n      <th>...</th>\n      <td>...</td>\n      <td>...</td>\n      <td>...</td>\n      <td>...</td>\n      <td>...</td>\n      <td>...</td>\n      <td>...</td>\n      <td>...</td>\n      <td>...</td>\n      <td>...</td>\n      <td>...</td>\n      <td>...</td>\n      <td>...</td>\n      <td>...</td>\n      <td>...</td>\n      <td>...</td>\n      <td>...</td>\n      <td>...</td>\n      <td>...</td>\n      <td>...</td>\n      <td>...</td>\n    </tr>\n    <tr>\n      <th>1480</th>\n      <td>2024-02-26</td>\n      <td>12:37:52.961</td>\n      <td>0.17</td>\n      <td>2.57</td>\n      <td>0.06</td>\n      <td>1.12</td>\n      <td>0.04</td>\n      <td>18.68</td>\n      <td>1.00</td>\n      <td>0.37</td>\n      <td>...</td>\n      <td>0.0</td>\n      <td>0.0</td>\n      <td>34</td>\n      <td>1188.43</td>\n      <td>409.43</td>\n      <td>2594.92</td>\n      <td>5.81</td>\n      <td>145.13</td>\n      <td>0.92</td>\n      <td>22.90</td>\n    </tr>\n    <tr>\n      <th>1481</th>\n      <td>2024-02-26</td>\n      <td>12:37:53.962</td>\n      <td>0.16</td>\n      <td>2.51</td>\n      <td>0.06</td>\n      <td>1.12</td>\n      <td>0.09</td>\n      <td>18.08</td>\n      <td>0.99</td>\n      <td>0.36</td>\n      <td>...</td>\n      <td>0.0</td>\n      <td>0.0</td>\n      <td>33</td>\n      <td>1193.49</td>\n      <td>404.55</td>\n      <td>2599.86</td>\n      <td>5.90</td>\n      <td>147.51</td>\n      <td>0.92</td>\n      <td>22.95</td>\n    </tr>\n    <tr>\n      <th>1482</th>\n      <td>2024-02-26</td>\n      <td>12:37:54.961</td>\n      <td>0.16</td>\n      <td>2.63</td>\n      <td>0.06</td>\n      <td>1.12</td>\n      <td>0.05</td>\n      <td>18.86</td>\n      <td>1.00</td>\n      <td>0.29</td>\n      <td>...</td>\n      <td>0.0</td>\n      <td>0.0</td>\n      <td>34</td>\n      <td>1207.85</td>\n      <td>413.26</td>\n      <td>2595.11</td>\n      <td>5.85</td>\n      <td>146.14</td>\n      <td>0.93</td>\n      <td>23.27</td>\n    </tr>\n    <tr>\n      <th>1483</th>\n      <td>2024-02-26</td>\n      <td>12:37:55.961</td>\n      <td>0.16</td>\n      <td>2.61</td>\n      <td>0.06</td>\n      <td>1.12</td>\n      <td>0.03</td>\n      <td>18.88</td>\n      <td>1.00</td>\n      <td>0.29</td>\n      <td>...</td>\n      <td>0.0</td>\n      <td>0.0</td>\n      <td>33</td>\n      <td>1206.74</td>\n      <td>415.34</td>\n      <td>2597.40</td>\n      <td>5.81</td>\n      <td>145.27</td>\n      <td>0.93</td>\n      <td>23.23</td>\n    </tr>\n    <tr>\n      <th>1484</th>\n      <td>2024-02-26</td>\n      <td>12:37:56.962</td>\n      <td>0.16</td>\n      <td>2.64</td>\n      <td>0.06</td>\n      <td>1.12</td>\n      <td>0.03</td>\n      <td>18.49</td>\n      <td>1.00</td>\n      <td>0.36</td>\n      <td>...</td>\n      <td>0.0</td>\n      <td>0.0</td>\n      <td>33</td>\n      <td>1180.35</td>\n      <td>399.90</td>\n      <td>2597.57</td>\n      <td>5.90</td>\n      <td>147.58</td>\n      <td>0.91</td>\n      <td>22.72</td>\n    </tr>\n  </tbody>\n</table>\n<p>1485 rows × 98 columns</p>\n</div>"
     },
     "execution_count": 224,
     "metadata": {},
     "output_type": "execute_result"
    }
   ],
   "source": [
    "get_pcm_data_2headers(exp_type, test_exp_num, \"firewall-pcm.csv\")"
   ],
   "metadata": {
    "collapsed": false,
    "ExecuteTime": {
     "end_time": "2024-03-05T07:31:18.733483Z",
     "start_time": "2024-03-05T07:31:18.704719Z"
    }
   },
   "id": "8e1cc150e58e506c",
   "execution_count": 224
  },
  {
   "cell_type": "code",
   "outputs": [
    {
     "data": {
      "text/plain": "     System Date   System Time  Socket 0 EXEC  Socket 0 IPC  Socket 0 FREQ  \\\n0     2024-02-26  12:13:13.404           0.34          3.27           0.10   \n1     2024-02-26  12:13:14.405           0.14          2.42           0.06   \n2     2024-02-26  12:13:15.404           0.15          2.35           0.06   \n3     2024-02-26  12:13:16.405           0.15          2.39           0.06   \n4     2024-02-26  12:13:17.405           0.15          2.32           0.06   \n...          ...           ...            ...           ...            ...   \n1479  2024-02-26  12:37:52.588           0.16          2.62           0.06   \n1480  2024-02-26  12:37:53.588           0.16          2.46           0.07   \n1481  2024-02-26  12:37:54.589           0.17          2.68           0.06   \n1482  2024-02-26  12:37:55.589           0.16          2.59           0.06   \n1483  2024-02-26  12:37:56.589           0.16          2.63           0.06   \n\n      Socket 0 AFREQ  Socket 0 L3MISS  Socket 0 L2MISS  Socket 0 L3HIT  \\\n0               1.12             0.10             7.30            0.99   \n1               1.12             0.09            15.15            0.99   \n2               1.12             0.08            15.52            0.99   \n3               1.12             0.09            15.86            0.99   \n4               1.12             0.07            15.39            1.00   \n...              ...              ...              ...             ...   \n1479            1.12             0.03            18.65            1.00   \n1480            1.12             0.10            18.15            0.99   \n1481            1.12             0.03            19.01            1.00   \n1482            1.12             0.04            18.72            1.00   \n1483            1.12             0.03            18.47            1.00   \n\n      Socket 0 L2HIT  ...  Core (Socket) C6res%  Core (Socket) C7res%  \\\n0               0.53  ...                   0.0                   0.0   \n1               0.31  ...                   0.0                   0.0   \n2               0.36  ...                   0.0                   0.0   \n3               0.39  ...                   0.0                   0.0   \n4               0.39  ...                   0.0                   0.0   \n...              ...  ...                   ...                   ...   \n1479            0.34  ...                   0.0                   0.0   \n1480            0.39  ...                   0.0                   0.0   \n1481            0.32  ...                   0.0                   0.0   \n1482            0.26  ...                   0.0                   0.0   \n1483            0.33  ...                   0.0                   0.0   \n\n      Core (Socket) TEMP  Core (Socket) INST  Core (Socket) ACYC  \\\n0                     46             2610.35              728.88   \n1                     47             1051.98              396.62   \n2                     47             1059.33              402.58   \n3                     47             1087.14              402.77   \n4                     46             1036.68              390.57   \n...                  ...                 ...                 ...   \n1479                  35             1206.94              405.03   \n1480                  35             1186.12              403.63   \n1481                  35             1237.59              411.18   \n1482                  36             1210.34              411.83   \n1483                  36             1196.83              401.31   \n\n      Core (Socket) TIME(ticks)  Core (Socket) PhysIPC  \\\n0                       2599.41                   7.16   \n1                       2598.77                   5.30   \n2                       2595.35                   5.26   \n3                       2598.04                   5.40   \n4                       2598.20                   5.31   \n...                         ...                    ...   \n1479                    2597.19                   5.96   \n1480                    2597.27                   5.88   \n1481                    2597.53                   6.02   \n1482                    2597.31                   5.88   \n1483                    2597.49                   5.96   \n\n      Core (Socket) PhysIPC%  Core (Socket) INSTnom  Core (Socket) INSTnom%  \n0                     179.07                   2.01                   50.21  \n1                     132.62                   0.81                   20.24  \n2                     131.57                   0.82                   20.41  \n3                     134.96                   0.84                   20.92  \n4                     132.71                   0.80                   19.95  \n...                      ...                    ...                     ...  \n1479                  149.00                   0.93                   23.24  \n1480                  146.93                   0.91                   22.83  \n1481                  150.49                   0.95                   23.82  \n1482                  146.95                   0.93                   23.30  \n1483                  149.11                   0.92                   23.04  \n\n[1484 rows x 98 columns]",
      "text/html": "<div>\n<style scoped>\n    .dataframe tbody tr th:only-of-type {\n        vertical-align: middle;\n    }\n\n    .dataframe tbody tr th {\n        vertical-align: top;\n    }\n\n    .dataframe thead th {\n        text-align: right;\n    }\n</style>\n<table border=\"1\" class=\"dataframe\">\n  <thead>\n    <tr style=\"text-align: right;\">\n      <th></th>\n      <th>System Date</th>\n      <th>System Time</th>\n      <th>Socket 0 EXEC</th>\n      <th>Socket 0 IPC</th>\n      <th>Socket 0 FREQ</th>\n      <th>Socket 0 AFREQ</th>\n      <th>Socket 0 L3MISS</th>\n      <th>Socket 0 L2MISS</th>\n      <th>Socket 0 L3HIT</th>\n      <th>Socket 0 L2HIT</th>\n      <th>...</th>\n      <th>Core (Socket) C6res%</th>\n      <th>Core (Socket) C7res%</th>\n      <th>Core (Socket) TEMP</th>\n      <th>Core (Socket) INST</th>\n      <th>Core (Socket) ACYC</th>\n      <th>Core (Socket) TIME(ticks)</th>\n      <th>Core (Socket) PhysIPC</th>\n      <th>Core (Socket) PhysIPC%</th>\n      <th>Core (Socket) INSTnom</th>\n      <th>Core (Socket) INSTnom%</th>\n    </tr>\n  </thead>\n  <tbody>\n    <tr>\n      <th>0</th>\n      <td>2024-02-26</td>\n      <td>12:13:13.404</td>\n      <td>0.34</td>\n      <td>3.27</td>\n      <td>0.10</td>\n      <td>1.12</td>\n      <td>0.10</td>\n      <td>7.30</td>\n      <td>0.99</td>\n      <td>0.53</td>\n      <td>...</td>\n      <td>0.0</td>\n      <td>0.0</td>\n      <td>46</td>\n      <td>2610.35</td>\n      <td>728.88</td>\n      <td>2599.41</td>\n      <td>7.16</td>\n      <td>179.07</td>\n      <td>2.01</td>\n      <td>50.21</td>\n    </tr>\n    <tr>\n      <th>1</th>\n      <td>2024-02-26</td>\n      <td>12:13:14.405</td>\n      <td>0.14</td>\n      <td>2.42</td>\n      <td>0.06</td>\n      <td>1.12</td>\n      <td>0.09</td>\n      <td>15.15</td>\n      <td>0.99</td>\n      <td>0.31</td>\n      <td>...</td>\n      <td>0.0</td>\n      <td>0.0</td>\n      <td>47</td>\n      <td>1051.98</td>\n      <td>396.62</td>\n      <td>2598.77</td>\n      <td>5.30</td>\n      <td>132.62</td>\n      <td>0.81</td>\n      <td>20.24</td>\n    </tr>\n    <tr>\n      <th>2</th>\n      <td>2024-02-26</td>\n      <td>12:13:15.404</td>\n      <td>0.15</td>\n      <td>2.35</td>\n      <td>0.06</td>\n      <td>1.12</td>\n      <td>0.08</td>\n      <td>15.52</td>\n      <td>0.99</td>\n      <td>0.36</td>\n      <td>...</td>\n      <td>0.0</td>\n      <td>0.0</td>\n      <td>47</td>\n      <td>1059.33</td>\n      <td>402.58</td>\n      <td>2595.35</td>\n      <td>5.26</td>\n      <td>131.57</td>\n      <td>0.82</td>\n      <td>20.41</td>\n    </tr>\n    <tr>\n      <th>3</th>\n      <td>2024-02-26</td>\n      <td>12:13:16.405</td>\n      <td>0.15</td>\n      <td>2.39</td>\n      <td>0.06</td>\n      <td>1.12</td>\n      <td>0.09</td>\n      <td>15.86</td>\n      <td>0.99</td>\n      <td>0.39</td>\n      <td>...</td>\n      <td>0.0</td>\n      <td>0.0</td>\n      <td>47</td>\n      <td>1087.14</td>\n      <td>402.77</td>\n      <td>2598.04</td>\n      <td>5.40</td>\n      <td>134.96</td>\n      <td>0.84</td>\n      <td>20.92</td>\n    </tr>\n    <tr>\n      <th>4</th>\n      <td>2024-02-26</td>\n      <td>12:13:17.405</td>\n      <td>0.15</td>\n      <td>2.32</td>\n      <td>0.06</td>\n      <td>1.12</td>\n      <td>0.07</td>\n      <td>15.39</td>\n      <td>1.00</td>\n      <td>0.39</td>\n      <td>...</td>\n      <td>0.0</td>\n      <td>0.0</td>\n      <td>46</td>\n      <td>1036.68</td>\n      <td>390.57</td>\n      <td>2598.20</td>\n      <td>5.31</td>\n      <td>132.71</td>\n      <td>0.80</td>\n      <td>19.95</td>\n    </tr>\n    <tr>\n      <th>...</th>\n      <td>...</td>\n      <td>...</td>\n      <td>...</td>\n      <td>...</td>\n      <td>...</td>\n      <td>...</td>\n      <td>...</td>\n      <td>...</td>\n      <td>...</td>\n      <td>...</td>\n      <td>...</td>\n      <td>...</td>\n      <td>...</td>\n      <td>...</td>\n      <td>...</td>\n      <td>...</td>\n      <td>...</td>\n      <td>...</td>\n      <td>...</td>\n      <td>...</td>\n      <td>...</td>\n    </tr>\n    <tr>\n      <th>1479</th>\n      <td>2024-02-26</td>\n      <td>12:37:52.588</td>\n      <td>0.16</td>\n      <td>2.62</td>\n      <td>0.06</td>\n      <td>1.12</td>\n      <td>0.03</td>\n      <td>18.65</td>\n      <td>1.00</td>\n      <td>0.34</td>\n      <td>...</td>\n      <td>0.0</td>\n      <td>0.0</td>\n      <td>35</td>\n      <td>1206.94</td>\n      <td>405.03</td>\n      <td>2597.19</td>\n      <td>5.96</td>\n      <td>149.00</td>\n      <td>0.93</td>\n      <td>23.24</td>\n    </tr>\n    <tr>\n      <th>1480</th>\n      <td>2024-02-26</td>\n      <td>12:37:53.588</td>\n      <td>0.16</td>\n      <td>2.46</td>\n      <td>0.07</td>\n      <td>1.12</td>\n      <td>0.10</td>\n      <td>18.15</td>\n      <td>0.99</td>\n      <td>0.39</td>\n      <td>...</td>\n      <td>0.0</td>\n      <td>0.0</td>\n      <td>35</td>\n      <td>1186.12</td>\n      <td>403.63</td>\n      <td>2597.27</td>\n      <td>5.88</td>\n      <td>146.93</td>\n      <td>0.91</td>\n      <td>22.83</td>\n    </tr>\n    <tr>\n      <th>1481</th>\n      <td>2024-02-26</td>\n      <td>12:37:54.589</td>\n      <td>0.17</td>\n      <td>2.68</td>\n      <td>0.06</td>\n      <td>1.12</td>\n      <td>0.03</td>\n      <td>19.01</td>\n      <td>1.00</td>\n      <td>0.32</td>\n      <td>...</td>\n      <td>0.0</td>\n      <td>0.0</td>\n      <td>35</td>\n      <td>1237.59</td>\n      <td>411.18</td>\n      <td>2597.53</td>\n      <td>6.02</td>\n      <td>150.49</td>\n      <td>0.95</td>\n      <td>23.82</td>\n    </tr>\n    <tr>\n      <th>1482</th>\n      <td>2024-02-26</td>\n      <td>12:37:55.589</td>\n      <td>0.16</td>\n      <td>2.59</td>\n      <td>0.06</td>\n      <td>1.12</td>\n      <td>0.04</td>\n      <td>18.72</td>\n      <td>1.00</td>\n      <td>0.26</td>\n      <td>...</td>\n      <td>0.0</td>\n      <td>0.0</td>\n      <td>36</td>\n      <td>1210.34</td>\n      <td>411.83</td>\n      <td>2597.31</td>\n      <td>5.88</td>\n      <td>146.95</td>\n      <td>0.93</td>\n      <td>23.30</td>\n    </tr>\n    <tr>\n      <th>1483</th>\n      <td>2024-02-26</td>\n      <td>12:37:56.589</td>\n      <td>0.16</td>\n      <td>2.63</td>\n      <td>0.06</td>\n      <td>1.12</td>\n      <td>0.03</td>\n      <td>18.47</td>\n      <td>1.00</td>\n      <td>0.33</td>\n      <td>...</td>\n      <td>0.0</td>\n      <td>0.0</td>\n      <td>36</td>\n      <td>1196.83</td>\n      <td>401.31</td>\n      <td>2597.49</td>\n      <td>5.96</td>\n      <td>149.11</td>\n      <td>0.92</td>\n      <td>23.04</td>\n    </tr>\n  </tbody>\n</table>\n<p>1484 rows × 98 columns</p>\n</div>"
     },
     "execution_count": 225,
     "metadata": {},
     "output_type": "execute_result"
    }
   ],
   "source": [
    "get_pcm_data_2headers(exp_type, test_exp_num, \"ndpi_stats-pcm.csv\")"
   ],
   "metadata": {
    "collapsed": false,
    "ExecuteTime": {
     "end_time": "2024-03-05T07:31:18.779787Z",
     "start_time": "2024-03-05T07:31:18.734567Z"
    }
   },
   "id": "4678f68c00497ad2",
   "execution_count": 225
  },
  {
   "cell_type": "code",
   "outputs": [
    {
     "data": {
      "text/plain": "     System Date   System Time  Socket 0 EXEC  Socket 0 IPC  Socket 0 FREQ  \\\n0     2024-02-26  12:13:13.504           0.30          3.34           0.09   \n1     2024-02-26  12:13:14.505           0.15          2.35           0.06   \n2     2024-02-26  12:13:15.505           0.15          2.37           0.06   \n3     2024-02-26  12:13:16.505           0.15          2.37           0.06   \n4     2024-02-26  12:13:17.505           0.15          2.35           0.06   \n...          ...           ...            ...           ...            ...   \n1479  2024-02-26  12:37:52.704           0.16          2.58           0.06   \n1480  2024-02-26  12:37:53.704           0.16          2.50           0.07   \n1481  2024-02-26  12:37:54.704           0.16          2.64           0.06   \n1482  2024-02-26  12:37:55.704           0.16          2.62           0.06   \n1483  2024-02-26  12:37:56.704           0.17          2.65           0.06   \n\n      Socket 0 AFREQ  Socket 0 L3MISS  Socket 0 L2MISS  Socket 0 L3HIT  \\\n0               1.12             0.08             6.66            0.99   \n1               1.12             0.09            15.37            0.99   \n2               1.12             0.09            15.75            0.99   \n3               1.12             0.08            15.42            0.99   \n4               1.12             0.08            15.90            1.00   \n...              ...              ...              ...             ...   \n1479            1.12             0.04            18.84            1.00   \n1480            1.12             0.10            18.36            0.99   \n1481            1.12             0.03            18.68            1.00   \n1482            1.12             0.03            18.85            1.00   \n1483            1.12             0.05            19.09            1.00   \n\n      Socket 0 L2HIT  ...  Core (Socket) C6res%  Core (Socket) C7res%  \\\n0               0.51  ...                   0.0                   0.0   \n1               0.33  ...                   0.0                   0.0   \n2               0.35  ...                   0.0                   0.0   \n3               0.40  ...                   0.0                   0.0   \n4               0.39  ...                   0.0                   0.0   \n...              ...  ...                   ...                   ...   \n1479            0.34  ...                   0.0                   0.0   \n1480            0.38  ...                   0.0                   0.0   \n1481            0.30  ...                   0.0                   0.0   \n1482            0.28  ...                   0.0                   0.0   \n1483            0.33  ...                   0.0                   0.0   \n\n      Core (Socket) TEMP  Core (Socket) INST  Core (Socket) ACYC  \\\n0                     45             2336.40              646.17   \n1                     45             1194.22              414.67   \n2                     45             1226.81              415.52   \n3                     45             1190.93              403.47   \n4                     45             1220.11              416.41   \n...                  ...                 ...                 ...   \n1479                  33             1278.53              415.79   \n1480                  34             1270.75              410.99   \n1481                  34             1273.35              409.35   \n1482                  34             1287.34              415.93   \n1483                  33             1306.35              415.76   \n\n      Core (Socket) TIME(ticks)  Core (Socket) PhysIPC  \\\n0                       2599.39                   7.23   \n1                       2598.67                   5.76   \n2                       2598.06                   5.90   \n3                       2595.62                   5.90   \n4                       2598.07                   5.86   \n...                         ...                    ...   \n1479                    2597.03                   6.15   \n1480                    2597.17                   6.18   \n1481                    2597.47                   6.22   \n1482                    2597.21                   6.19   \n1483                    2597.23                   6.28   \n\n      Core (Socket) PhysIPC%  Core (Socket) INSTnom  Core (Socket) INSTnom%  \n0                     180.79                   1.80                   44.94  \n1                     144.00                   0.92                   22.98  \n2                     147.62                   0.94                   23.61  \n3                     147.59                   0.92                   22.94  \n4                     146.50                   0.94                   23.48  \n...                      ...                    ...                     ...  \n1479                  153.75                   0.98                   24.61  \n1480                  154.60                   0.98                   24.46  \n1481                  155.54                   0.98                   24.51  \n1482                  154.75                   0.99                   24.78  \n1483                  157.10                   1.01                   25.15  \n\n[1484 rows x 98 columns]",
      "text/html": "<div>\n<style scoped>\n    .dataframe tbody tr th:only-of-type {\n        vertical-align: middle;\n    }\n\n    .dataframe tbody tr th {\n        vertical-align: top;\n    }\n\n    .dataframe thead th {\n        text-align: right;\n    }\n</style>\n<table border=\"1\" class=\"dataframe\">\n  <thead>\n    <tr style=\"text-align: right;\">\n      <th></th>\n      <th>System Date</th>\n      <th>System Time</th>\n      <th>Socket 0 EXEC</th>\n      <th>Socket 0 IPC</th>\n      <th>Socket 0 FREQ</th>\n      <th>Socket 0 AFREQ</th>\n      <th>Socket 0 L3MISS</th>\n      <th>Socket 0 L2MISS</th>\n      <th>Socket 0 L3HIT</th>\n      <th>Socket 0 L2HIT</th>\n      <th>...</th>\n      <th>Core (Socket) C6res%</th>\n      <th>Core (Socket) C7res%</th>\n      <th>Core (Socket) TEMP</th>\n      <th>Core (Socket) INST</th>\n      <th>Core (Socket) ACYC</th>\n      <th>Core (Socket) TIME(ticks)</th>\n      <th>Core (Socket) PhysIPC</th>\n      <th>Core (Socket) PhysIPC%</th>\n      <th>Core (Socket) INSTnom</th>\n      <th>Core (Socket) INSTnom%</th>\n    </tr>\n  </thead>\n  <tbody>\n    <tr>\n      <th>0</th>\n      <td>2024-02-26</td>\n      <td>12:13:13.504</td>\n      <td>0.30</td>\n      <td>3.34</td>\n      <td>0.09</td>\n      <td>1.12</td>\n      <td>0.08</td>\n      <td>6.66</td>\n      <td>0.99</td>\n      <td>0.51</td>\n      <td>...</td>\n      <td>0.0</td>\n      <td>0.0</td>\n      <td>45</td>\n      <td>2336.40</td>\n      <td>646.17</td>\n      <td>2599.39</td>\n      <td>7.23</td>\n      <td>180.79</td>\n      <td>1.80</td>\n      <td>44.94</td>\n    </tr>\n    <tr>\n      <th>1</th>\n      <td>2024-02-26</td>\n      <td>12:13:14.505</td>\n      <td>0.15</td>\n      <td>2.35</td>\n      <td>0.06</td>\n      <td>1.12</td>\n      <td>0.09</td>\n      <td>15.37</td>\n      <td>0.99</td>\n      <td>0.33</td>\n      <td>...</td>\n      <td>0.0</td>\n      <td>0.0</td>\n      <td>45</td>\n      <td>1194.22</td>\n      <td>414.67</td>\n      <td>2598.67</td>\n      <td>5.76</td>\n      <td>144.00</td>\n      <td>0.92</td>\n      <td>22.98</td>\n    </tr>\n    <tr>\n      <th>2</th>\n      <td>2024-02-26</td>\n      <td>12:13:15.505</td>\n      <td>0.15</td>\n      <td>2.37</td>\n      <td>0.06</td>\n      <td>1.12</td>\n      <td>0.09</td>\n      <td>15.75</td>\n      <td>0.99</td>\n      <td>0.35</td>\n      <td>...</td>\n      <td>0.0</td>\n      <td>0.0</td>\n      <td>45</td>\n      <td>1226.81</td>\n      <td>415.52</td>\n      <td>2598.06</td>\n      <td>5.90</td>\n      <td>147.62</td>\n      <td>0.94</td>\n      <td>23.61</td>\n    </tr>\n    <tr>\n      <th>3</th>\n      <td>2024-02-26</td>\n      <td>12:13:16.505</td>\n      <td>0.15</td>\n      <td>2.37</td>\n      <td>0.06</td>\n      <td>1.12</td>\n      <td>0.08</td>\n      <td>15.42</td>\n      <td>0.99</td>\n      <td>0.40</td>\n      <td>...</td>\n      <td>0.0</td>\n      <td>0.0</td>\n      <td>45</td>\n      <td>1190.93</td>\n      <td>403.47</td>\n      <td>2595.62</td>\n      <td>5.90</td>\n      <td>147.59</td>\n      <td>0.92</td>\n      <td>22.94</td>\n    </tr>\n    <tr>\n      <th>4</th>\n      <td>2024-02-26</td>\n      <td>12:13:17.505</td>\n      <td>0.15</td>\n      <td>2.35</td>\n      <td>0.06</td>\n      <td>1.12</td>\n      <td>0.08</td>\n      <td>15.90</td>\n      <td>1.00</td>\n      <td>0.39</td>\n      <td>...</td>\n      <td>0.0</td>\n      <td>0.0</td>\n      <td>45</td>\n      <td>1220.11</td>\n      <td>416.41</td>\n      <td>2598.07</td>\n      <td>5.86</td>\n      <td>146.50</td>\n      <td>0.94</td>\n      <td>23.48</td>\n    </tr>\n    <tr>\n      <th>...</th>\n      <td>...</td>\n      <td>...</td>\n      <td>...</td>\n      <td>...</td>\n      <td>...</td>\n      <td>...</td>\n      <td>...</td>\n      <td>...</td>\n      <td>...</td>\n      <td>...</td>\n      <td>...</td>\n      <td>...</td>\n      <td>...</td>\n      <td>...</td>\n      <td>...</td>\n      <td>...</td>\n      <td>...</td>\n      <td>...</td>\n      <td>...</td>\n      <td>...</td>\n      <td>...</td>\n    </tr>\n    <tr>\n      <th>1479</th>\n      <td>2024-02-26</td>\n      <td>12:37:52.704</td>\n      <td>0.16</td>\n      <td>2.58</td>\n      <td>0.06</td>\n      <td>1.12</td>\n      <td>0.04</td>\n      <td>18.84</td>\n      <td>1.00</td>\n      <td>0.34</td>\n      <td>...</td>\n      <td>0.0</td>\n      <td>0.0</td>\n      <td>33</td>\n      <td>1278.53</td>\n      <td>415.79</td>\n      <td>2597.03</td>\n      <td>6.15</td>\n      <td>153.75</td>\n      <td>0.98</td>\n      <td>24.61</td>\n    </tr>\n    <tr>\n      <th>1480</th>\n      <td>2024-02-26</td>\n      <td>12:37:53.704</td>\n      <td>0.16</td>\n      <td>2.50</td>\n      <td>0.07</td>\n      <td>1.12</td>\n      <td>0.10</td>\n      <td>18.36</td>\n      <td>0.99</td>\n      <td>0.38</td>\n      <td>...</td>\n      <td>0.0</td>\n      <td>0.0</td>\n      <td>34</td>\n      <td>1270.75</td>\n      <td>410.99</td>\n      <td>2597.17</td>\n      <td>6.18</td>\n      <td>154.60</td>\n      <td>0.98</td>\n      <td>24.46</td>\n    </tr>\n    <tr>\n      <th>1481</th>\n      <td>2024-02-26</td>\n      <td>12:37:54.704</td>\n      <td>0.16</td>\n      <td>2.64</td>\n      <td>0.06</td>\n      <td>1.12</td>\n      <td>0.03</td>\n      <td>18.68</td>\n      <td>1.00</td>\n      <td>0.30</td>\n      <td>...</td>\n      <td>0.0</td>\n      <td>0.0</td>\n      <td>34</td>\n      <td>1273.35</td>\n      <td>409.35</td>\n      <td>2597.47</td>\n      <td>6.22</td>\n      <td>155.54</td>\n      <td>0.98</td>\n      <td>24.51</td>\n    </tr>\n    <tr>\n      <th>1482</th>\n      <td>2024-02-26</td>\n      <td>12:37:55.704</td>\n      <td>0.16</td>\n      <td>2.62</td>\n      <td>0.06</td>\n      <td>1.12</td>\n      <td>0.03</td>\n      <td>18.85</td>\n      <td>1.00</td>\n      <td>0.28</td>\n      <td>...</td>\n      <td>0.0</td>\n      <td>0.0</td>\n      <td>34</td>\n      <td>1287.34</td>\n      <td>415.93</td>\n      <td>2597.21</td>\n      <td>6.19</td>\n      <td>154.75</td>\n      <td>0.99</td>\n      <td>24.78</td>\n    </tr>\n    <tr>\n      <th>1483</th>\n      <td>2024-02-26</td>\n      <td>12:37:56.704</td>\n      <td>0.17</td>\n      <td>2.65</td>\n      <td>0.06</td>\n      <td>1.12</td>\n      <td>0.05</td>\n      <td>19.09</td>\n      <td>1.00</td>\n      <td>0.33</td>\n      <td>...</td>\n      <td>0.0</td>\n      <td>0.0</td>\n      <td>33</td>\n      <td>1306.35</td>\n      <td>415.76</td>\n      <td>2597.23</td>\n      <td>6.28</td>\n      <td>157.10</td>\n      <td>1.01</td>\n      <td>25.15</td>\n    </tr>\n  </tbody>\n</table>\n<p>1484 rows × 98 columns</p>\n</div>"
     },
     "execution_count": 226,
     "metadata": {},
     "output_type": "execute_result"
    }
   ],
   "source": [
    "get_pcm_data_2headers(exp_type, test_exp_num, \"nf_router-pcm.csv\")"
   ],
   "metadata": {
    "collapsed": false,
    "ExecuteTime": {
     "end_time": "2024-03-05T07:31:18.811446Z",
     "start_time": "2024-03-05T07:31:18.781297Z"
    }
   },
   "id": "46c9fbb1096fd99a",
   "execution_count": 226
  },
  {
   "cell_type": "code",
   "outputs": [
    {
     "data": {
      "text/plain": "     System Date   System Time  Socket 0 EXEC  Socket 0 IPC  Socket 0 FREQ  \\\n0     2024-02-26  12:13:13.793           0.21          2.99           0.07   \n1     2024-02-26  12:13:14.793           0.14          2.32           0.06   \n2     2024-02-26  12:13:15.793           0.15          2.41           0.06   \n3     2024-02-26  12:13:16.793           0.15          2.33           0.06   \n4     2024-02-26  12:13:17.793           0.15          2.34           0.06   \n...          ...           ...            ...           ...            ...   \n1479  2024-02-26  12:37:52.978           0.17          2.57           0.06   \n1480  2024-02-26  12:37:53.978           0.16          2.55           0.06   \n1481  2024-02-26  12:37:54.978           0.16          2.61           0.06   \n1482  2024-02-26  12:37:55.978           0.16          2.64           0.06   \n1483  2024-02-26  12:37:56.978           0.17          2.60           0.06   \n\n      Socket 0 AFREQ  Socket 0 L3MISS  Socket 0 L2MISS  Socket 0 L3HIT  \\\n0               1.12             0.08            10.26            0.99   \n1               1.12             0.08            15.04            0.99   \n2               1.12             0.07            15.92            1.00   \n3               1.12             0.09            15.74            0.99   \n4               1.12             0.08            15.76            0.99   \n...              ...              ...              ...             ...   \n1479            1.12             0.03            18.91            1.00   \n1480            1.12             0.09            17.95            0.99   \n1481            1.12             0.04            18.79            1.00   \n1482            1.12             0.04            19.04            1.00   \n1483            1.12             0.04            18.88            1.00   \n\n      Socket 0 L2HIT  ...  Core (Socket) C6res%  Core (Socket) C7res%  \\\n0               0.30  ...                   0.0                   0.0   \n1               0.38  ...                   0.0                   0.0   \n2               0.35  ...                   0.0                   0.0   \n3               0.39  ...                   0.0                   0.0   \n4               0.39  ...                   0.0                   0.0   \n...              ...  ...                   ...                   ...   \n1479            0.37  ...                   0.0                   0.0   \n1480            0.36  ...                   0.0                   0.0   \n1481            0.29  ...                   0.0                   0.0   \n1482            0.30  ...                   0.0                   0.0   \n1483            0.36  ...                   0.0                   0.0   \n\n      Core (Socket) TEMP  Core (Socket) INST  Core (Socket) ACYC  \\\n0                     46             1650.17              503.29   \n1                     46             1080.03              394.15   \n2                     46             1132.69              405.40   \n3                     47             1113.67              404.43   \n4                     46             1113.63              403.55   \n...                  ...                 ...                 ...   \n1479                  35             1220.22              412.06   \n1480                  35             1194.32              399.06   \n1481                  34             1217.94              412.11   \n1482                  34             1234.60              412.07   \n1483                  35             1227.82              411.87   \n\n      Core (Socket) TIME(ticks)  Core (Socket) PhysIPC  \\\n0                       2602.73                   6.56   \n1                       2592.26                   5.48   \n2                       2601.26                   5.59   \n3                       2597.69                   5.51   \n4                       2597.67                   5.52   \n...                         ...                    ...   \n1479                    2597.03                   5.92   \n1480                    2597.21                   5.99   \n1481                    2597.31                   5.91   \n1482                    2597.05                   5.99   \n1483                    2597.04                   5.96   \n\n      Core (Socket) PhysIPC%  Core (Socket) INSTnom  Core (Socket) INSTnom%  \n0                     163.94                   1.27                   31.70  \n1                     137.01                   0.83                   20.83  \n2                     139.70                   0.87                   21.77  \n3                     137.68                   0.86                   21.44  \n4                     137.98                   0.86                   21.44  \n...                      ...                    ...                     ...  \n1479                  148.07                   0.94                   23.49  \n1480                  149.64                   0.92                   22.99  \n1481                  147.77                   0.94                   23.45  \n1482                  149.80                   0.95                   23.77  \n1483                  149.06                   0.95                   23.64  \n\n[1484 rows x 98 columns]",
      "text/html": "<div>\n<style scoped>\n    .dataframe tbody tr th:only-of-type {\n        vertical-align: middle;\n    }\n\n    .dataframe tbody tr th {\n        vertical-align: top;\n    }\n\n    .dataframe thead th {\n        text-align: right;\n    }\n</style>\n<table border=\"1\" class=\"dataframe\">\n  <thead>\n    <tr style=\"text-align: right;\">\n      <th></th>\n      <th>System Date</th>\n      <th>System Time</th>\n      <th>Socket 0 EXEC</th>\n      <th>Socket 0 IPC</th>\n      <th>Socket 0 FREQ</th>\n      <th>Socket 0 AFREQ</th>\n      <th>Socket 0 L3MISS</th>\n      <th>Socket 0 L2MISS</th>\n      <th>Socket 0 L3HIT</th>\n      <th>Socket 0 L2HIT</th>\n      <th>...</th>\n      <th>Core (Socket) C6res%</th>\n      <th>Core (Socket) C7res%</th>\n      <th>Core (Socket) TEMP</th>\n      <th>Core (Socket) INST</th>\n      <th>Core (Socket) ACYC</th>\n      <th>Core (Socket) TIME(ticks)</th>\n      <th>Core (Socket) PhysIPC</th>\n      <th>Core (Socket) PhysIPC%</th>\n      <th>Core (Socket) INSTnom</th>\n      <th>Core (Socket) INSTnom%</th>\n    </tr>\n  </thead>\n  <tbody>\n    <tr>\n      <th>0</th>\n      <td>2024-02-26</td>\n      <td>12:13:13.793</td>\n      <td>0.21</td>\n      <td>2.99</td>\n      <td>0.07</td>\n      <td>1.12</td>\n      <td>0.08</td>\n      <td>10.26</td>\n      <td>0.99</td>\n      <td>0.30</td>\n      <td>...</td>\n      <td>0.0</td>\n      <td>0.0</td>\n      <td>46</td>\n      <td>1650.17</td>\n      <td>503.29</td>\n      <td>2602.73</td>\n      <td>6.56</td>\n      <td>163.94</td>\n      <td>1.27</td>\n      <td>31.70</td>\n    </tr>\n    <tr>\n      <th>1</th>\n      <td>2024-02-26</td>\n      <td>12:13:14.793</td>\n      <td>0.14</td>\n      <td>2.32</td>\n      <td>0.06</td>\n      <td>1.12</td>\n      <td>0.08</td>\n      <td>15.04</td>\n      <td>0.99</td>\n      <td>0.38</td>\n      <td>...</td>\n      <td>0.0</td>\n      <td>0.0</td>\n      <td>46</td>\n      <td>1080.03</td>\n      <td>394.15</td>\n      <td>2592.26</td>\n      <td>5.48</td>\n      <td>137.01</td>\n      <td>0.83</td>\n      <td>20.83</td>\n    </tr>\n    <tr>\n      <th>2</th>\n      <td>2024-02-26</td>\n      <td>12:13:15.793</td>\n      <td>0.15</td>\n      <td>2.41</td>\n      <td>0.06</td>\n      <td>1.12</td>\n      <td>0.07</td>\n      <td>15.92</td>\n      <td>1.00</td>\n      <td>0.35</td>\n      <td>...</td>\n      <td>0.0</td>\n      <td>0.0</td>\n      <td>46</td>\n      <td>1132.69</td>\n      <td>405.40</td>\n      <td>2601.26</td>\n      <td>5.59</td>\n      <td>139.70</td>\n      <td>0.87</td>\n      <td>21.77</td>\n    </tr>\n    <tr>\n      <th>3</th>\n      <td>2024-02-26</td>\n      <td>12:13:16.793</td>\n      <td>0.15</td>\n      <td>2.33</td>\n      <td>0.06</td>\n      <td>1.12</td>\n      <td>0.09</td>\n      <td>15.74</td>\n      <td>0.99</td>\n      <td>0.39</td>\n      <td>...</td>\n      <td>0.0</td>\n      <td>0.0</td>\n      <td>47</td>\n      <td>1113.67</td>\n      <td>404.43</td>\n      <td>2597.69</td>\n      <td>5.51</td>\n      <td>137.68</td>\n      <td>0.86</td>\n      <td>21.44</td>\n    </tr>\n    <tr>\n      <th>4</th>\n      <td>2024-02-26</td>\n      <td>12:13:17.793</td>\n      <td>0.15</td>\n      <td>2.34</td>\n      <td>0.06</td>\n      <td>1.12</td>\n      <td>0.08</td>\n      <td>15.76</td>\n      <td>0.99</td>\n      <td>0.39</td>\n      <td>...</td>\n      <td>0.0</td>\n      <td>0.0</td>\n      <td>46</td>\n      <td>1113.63</td>\n      <td>403.55</td>\n      <td>2597.67</td>\n      <td>5.52</td>\n      <td>137.98</td>\n      <td>0.86</td>\n      <td>21.44</td>\n    </tr>\n    <tr>\n      <th>...</th>\n      <td>...</td>\n      <td>...</td>\n      <td>...</td>\n      <td>...</td>\n      <td>...</td>\n      <td>...</td>\n      <td>...</td>\n      <td>...</td>\n      <td>...</td>\n      <td>...</td>\n      <td>...</td>\n      <td>...</td>\n      <td>...</td>\n      <td>...</td>\n      <td>...</td>\n      <td>...</td>\n      <td>...</td>\n      <td>...</td>\n      <td>...</td>\n      <td>...</td>\n      <td>...</td>\n    </tr>\n    <tr>\n      <th>1479</th>\n      <td>2024-02-26</td>\n      <td>12:37:52.978</td>\n      <td>0.17</td>\n      <td>2.57</td>\n      <td>0.06</td>\n      <td>1.12</td>\n      <td>0.03</td>\n      <td>18.91</td>\n      <td>1.00</td>\n      <td>0.37</td>\n      <td>...</td>\n      <td>0.0</td>\n      <td>0.0</td>\n      <td>35</td>\n      <td>1220.22</td>\n      <td>412.06</td>\n      <td>2597.03</td>\n      <td>5.92</td>\n      <td>148.07</td>\n      <td>0.94</td>\n      <td>23.49</td>\n    </tr>\n    <tr>\n      <th>1480</th>\n      <td>2024-02-26</td>\n      <td>12:37:53.978</td>\n      <td>0.16</td>\n      <td>2.55</td>\n      <td>0.06</td>\n      <td>1.12</td>\n      <td>0.09</td>\n      <td>17.95</td>\n      <td>0.99</td>\n      <td>0.36</td>\n      <td>...</td>\n      <td>0.0</td>\n      <td>0.0</td>\n      <td>35</td>\n      <td>1194.32</td>\n      <td>399.06</td>\n      <td>2597.21</td>\n      <td>5.99</td>\n      <td>149.64</td>\n      <td>0.92</td>\n      <td>22.99</td>\n    </tr>\n    <tr>\n      <th>1481</th>\n      <td>2024-02-26</td>\n      <td>12:37:54.978</td>\n      <td>0.16</td>\n      <td>2.61</td>\n      <td>0.06</td>\n      <td>1.12</td>\n      <td>0.04</td>\n      <td>18.79</td>\n      <td>1.00</td>\n      <td>0.29</td>\n      <td>...</td>\n      <td>0.0</td>\n      <td>0.0</td>\n      <td>34</td>\n      <td>1217.94</td>\n      <td>412.11</td>\n      <td>2597.31</td>\n      <td>5.91</td>\n      <td>147.77</td>\n      <td>0.94</td>\n      <td>23.45</td>\n    </tr>\n    <tr>\n      <th>1482</th>\n      <td>2024-02-26</td>\n      <td>12:37:55.978</td>\n      <td>0.16</td>\n      <td>2.64</td>\n      <td>0.06</td>\n      <td>1.12</td>\n      <td>0.04</td>\n      <td>19.04</td>\n      <td>1.00</td>\n      <td>0.30</td>\n      <td>...</td>\n      <td>0.0</td>\n      <td>0.0</td>\n      <td>34</td>\n      <td>1234.60</td>\n      <td>412.07</td>\n      <td>2597.05</td>\n      <td>5.99</td>\n      <td>149.80</td>\n      <td>0.95</td>\n      <td>23.77</td>\n    </tr>\n    <tr>\n      <th>1483</th>\n      <td>2024-02-26</td>\n      <td>12:37:56.978</td>\n      <td>0.17</td>\n      <td>2.60</td>\n      <td>0.06</td>\n      <td>1.12</td>\n      <td>0.04</td>\n      <td>18.88</td>\n      <td>1.00</td>\n      <td>0.36</td>\n      <td>...</td>\n      <td>0.0</td>\n      <td>0.0</td>\n      <td>35</td>\n      <td>1227.82</td>\n      <td>411.87</td>\n      <td>2597.04</td>\n      <td>5.96</td>\n      <td>149.06</td>\n      <td>0.95</td>\n      <td>23.64</td>\n    </tr>\n  </tbody>\n</table>\n<p>1484 rows × 98 columns</p>\n</div>"
     },
     "execution_count": 227,
     "metadata": {},
     "output_type": "execute_result"
    }
   ],
   "source": [
    "get_pcm_data_2headers(exp_type, test_exp_num, \"payload_scan-pcm.csv\")"
   ],
   "metadata": {
    "collapsed": false,
    "ExecuteTime": {
     "end_time": "2024-03-05T07:31:18.842858Z",
     "start_time": "2024-03-05T07:31:18.812446Z"
    }
   },
   "id": "d5498b7e9a4730ba",
   "execution_count": 227
  },
  {
   "cell_type": "code",
   "outputs": [
    {
     "data": {
      "text/plain": "     System Date   System Time  Socket 0 EXEC  Socket 0 IPC  Socket 0 FREQ  \\\n0     2024-02-26  12:13:14.333           0.14          2.35           0.06   \n1     2024-02-26  12:13:15.332           0.15          2.35           0.06   \n2     2024-02-26  12:13:16.332           0.15          2.40           0.06   \n3     2024-02-26  12:13:17.332           0.14          2.32           0.06   \n4     2024-02-26  12:13:18.332           0.15          2.41           0.06   \n...          ...           ...            ...           ...            ...   \n1478  2024-02-26  12:37:52.526           0.16          2.56           0.06   \n1479  2024-02-26  12:37:53.526           0.17          2.51           0.07   \n1480  2024-02-26  12:37:54.526           0.16          2.62           0.06   \n1481  2024-02-26  12:37:55.526           0.16          2.63           0.06   \n1482  2024-02-26  12:37:56.526           0.16          2.67           0.06   \n\n      Socket 0 AFREQ  Socket 0 L3MISS  Socket 0 L2MISS  Socket 0 L3HIT  \\\n0               1.12             0.09            15.14            0.99   \n1               1.12             0.08            15.51            0.99   \n2               1.12             0.09            15.71            0.99   \n3               1.12             0.09            15.27            0.99   \n4               1.12             0.09            15.92            0.99   \n...              ...              ...              ...             ...   \n1478            1.12             0.05            18.85            1.00   \n1479            1.12             0.10            18.50            0.99   \n1480            1.12             0.04            18.30            1.00   \n1481            1.12             0.03            18.82            1.00   \n1482            1.12             0.03            18.93            1.00   \n\n      Socket 0 L2HIT  ...  Core (Socket) C6res%  Core (Socket) C7res%  \\\n0               0.30  ...                   0.0                   0.0   \n1               0.35  ...                   0.0                   0.0   \n2               0.40  ...                   0.0                   0.0   \n3               0.39  ...                   0.0                   0.0   \n4               0.39  ...                   0.0                   0.0   \n...              ...  ...                   ...                   ...   \n1478            0.34  ...                   0.0                   0.0   \n1479            0.38  ...                   0.0                   0.0   \n1480            0.33  ...                   0.0                   0.0   \n1481            0.24  ...                   0.0                   0.0   \n1482            0.33  ...                   0.0                   0.0   \n\n      Core (Socket) TEMP  Core (Socket) INST  Core (Socket) ACYC  \\\n0                     48              547.93              396.54   \n1                     48              560.72              400.92   \n2                     48              570.94              396.94   \n3                     47              549.12              388.07   \n4                     46              574.27              398.74   \n...                  ...                 ...                 ...   \n1478                  35              787.66              410.57   \n1479                  35              762.14              408.62   \n1480                  35              766.68              400.39   \n1481                  35              789.46              413.27   \n1482                  36              791.51              408.67   \n\n      Core (Socket) TIME(ticks)  Core (Socket) PhysIPC  \\\n0                       2599.91                   2.76   \n1                       2595.43                   2.80   \n2                       2597.57                   2.88   \n3                       2597.65                   2.83   \n4                       2597.26                   2.88   \n...                         ...                    ...   \n1478                    2596.99                   3.84   \n1479                    2597.44                   3.73   \n1480                    2598.02                   3.83   \n1481                    2596.93                   3.82   \n1482                    2596.95                   3.87   \n\n      Core (Socket) PhysIPC%  Core (Socket) INSTnom  Core (Socket) INSTnom%  \n0                      69.09                   0.42                   10.54  \n1                      69.93                   0.43                   10.80  \n2                      71.92                   0.44                   10.99  \n3                      70.75                   0.42                   10.57  \n4                      72.01                   0.44                   11.05  \n...                      ...                    ...                     ...  \n1478                   95.92                   0.61                   15.16  \n1479                   93.26                   0.59                   14.67  \n1480                   95.74                   0.59                   14.76  \n1481                   95.51                   0.61                   15.20  \n1482                   96.84                   0.61                   15.24  \n\n[1483 rows x 98 columns]",
      "text/html": "<div>\n<style scoped>\n    .dataframe tbody tr th:only-of-type {\n        vertical-align: middle;\n    }\n\n    .dataframe tbody tr th {\n        vertical-align: top;\n    }\n\n    .dataframe thead th {\n        text-align: right;\n    }\n</style>\n<table border=\"1\" class=\"dataframe\">\n  <thead>\n    <tr style=\"text-align: right;\">\n      <th></th>\n      <th>System Date</th>\n      <th>System Time</th>\n      <th>Socket 0 EXEC</th>\n      <th>Socket 0 IPC</th>\n      <th>Socket 0 FREQ</th>\n      <th>Socket 0 AFREQ</th>\n      <th>Socket 0 L3MISS</th>\n      <th>Socket 0 L2MISS</th>\n      <th>Socket 0 L3HIT</th>\n      <th>Socket 0 L2HIT</th>\n      <th>...</th>\n      <th>Core (Socket) C6res%</th>\n      <th>Core (Socket) C7res%</th>\n      <th>Core (Socket) TEMP</th>\n      <th>Core (Socket) INST</th>\n      <th>Core (Socket) ACYC</th>\n      <th>Core (Socket) TIME(ticks)</th>\n      <th>Core (Socket) PhysIPC</th>\n      <th>Core (Socket) PhysIPC%</th>\n      <th>Core (Socket) INSTnom</th>\n      <th>Core (Socket) INSTnom%</th>\n    </tr>\n  </thead>\n  <tbody>\n    <tr>\n      <th>0</th>\n      <td>2024-02-26</td>\n      <td>12:13:14.333</td>\n      <td>0.14</td>\n      <td>2.35</td>\n      <td>0.06</td>\n      <td>1.12</td>\n      <td>0.09</td>\n      <td>15.14</td>\n      <td>0.99</td>\n      <td>0.30</td>\n      <td>...</td>\n      <td>0.0</td>\n      <td>0.0</td>\n      <td>48</td>\n      <td>547.93</td>\n      <td>396.54</td>\n      <td>2599.91</td>\n      <td>2.76</td>\n      <td>69.09</td>\n      <td>0.42</td>\n      <td>10.54</td>\n    </tr>\n    <tr>\n      <th>1</th>\n      <td>2024-02-26</td>\n      <td>12:13:15.332</td>\n      <td>0.15</td>\n      <td>2.35</td>\n      <td>0.06</td>\n      <td>1.12</td>\n      <td>0.08</td>\n      <td>15.51</td>\n      <td>0.99</td>\n      <td>0.35</td>\n      <td>...</td>\n      <td>0.0</td>\n      <td>0.0</td>\n      <td>48</td>\n      <td>560.72</td>\n      <td>400.92</td>\n      <td>2595.43</td>\n      <td>2.80</td>\n      <td>69.93</td>\n      <td>0.43</td>\n      <td>10.80</td>\n    </tr>\n    <tr>\n      <th>2</th>\n      <td>2024-02-26</td>\n      <td>12:13:16.332</td>\n      <td>0.15</td>\n      <td>2.40</td>\n      <td>0.06</td>\n      <td>1.12</td>\n      <td>0.09</td>\n      <td>15.71</td>\n      <td>0.99</td>\n      <td>0.40</td>\n      <td>...</td>\n      <td>0.0</td>\n      <td>0.0</td>\n      <td>48</td>\n      <td>570.94</td>\n      <td>396.94</td>\n      <td>2597.57</td>\n      <td>2.88</td>\n      <td>71.92</td>\n      <td>0.44</td>\n      <td>10.99</td>\n    </tr>\n    <tr>\n      <th>3</th>\n      <td>2024-02-26</td>\n      <td>12:13:17.332</td>\n      <td>0.14</td>\n      <td>2.32</td>\n      <td>0.06</td>\n      <td>1.12</td>\n      <td>0.09</td>\n      <td>15.27</td>\n      <td>0.99</td>\n      <td>0.39</td>\n      <td>...</td>\n      <td>0.0</td>\n      <td>0.0</td>\n      <td>47</td>\n      <td>549.12</td>\n      <td>388.07</td>\n      <td>2597.65</td>\n      <td>2.83</td>\n      <td>70.75</td>\n      <td>0.42</td>\n      <td>10.57</td>\n    </tr>\n    <tr>\n      <th>4</th>\n      <td>2024-02-26</td>\n      <td>12:13:18.332</td>\n      <td>0.15</td>\n      <td>2.41</td>\n      <td>0.06</td>\n      <td>1.12</td>\n      <td>0.09</td>\n      <td>15.92</td>\n      <td>0.99</td>\n      <td>0.39</td>\n      <td>...</td>\n      <td>0.0</td>\n      <td>0.0</td>\n      <td>46</td>\n      <td>574.27</td>\n      <td>398.74</td>\n      <td>2597.26</td>\n      <td>2.88</td>\n      <td>72.01</td>\n      <td>0.44</td>\n      <td>11.05</td>\n    </tr>\n    <tr>\n      <th>...</th>\n      <td>...</td>\n      <td>...</td>\n      <td>...</td>\n      <td>...</td>\n      <td>...</td>\n      <td>...</td>\n      <td>...</td>\n      <td>...</td>\n      <td>...</td>\n      <td>...</td>\n      <td>...</td>\n      <td>...</td>\n      <td>...</td>\n      <td>...</td>\n      <td>...</td>\n      <td>...</td>\n      <td>...</td>\n      <td>...</td>\n      <td>...</td>\n      <td>...</td>\n      <td>...</td>\n    </tr>\n    <tr>\n      <th>1478</th>\n      <td>2024-02-26</td>\n      <td>12:37:52.526</td>\n      <td>0.16</td>\n      <td>2.56</td>\n      <td>0.06</td>\n      <td>1.12</td>\n      <td>0.05</td>\n      <td>18.85</td>\n      <td>1.00</td>\n      <td>0.34</td>\n      <td>...</td>\n      <td>0.0</td>\n      <td>0.0</td>\n      <td>35</td>\n      <td>787.66</td>\n      <td>410.57</td>\n      <td>2596.99</td>\n      <td>3.84</td>\n      <td>95.92</td>\n      <td>0.61</td>\n      <td>15.16</td>\n    </tr>\n    <tr>\n      <th>1479</th>\n      <td>2024-02-26</td>\n      <td>12:37:53.526</td>\n      <td>0.17</td>\n      <td>2.51</td>\n      <td>0.07</td>\n      <td>1.12</td>\n      <td>0.10</td>\n      <td>18.50</td>\n      <td>0.99</td>\n      <td>0.38</td>\n      <td>...</td>\n      <td>0.0</td>\n      <td>0.0</td>\n      <td>35</td>\n      <td>762.14</td>\n      <td>408.62</td>\n      <td>2597.44</td>\n      <td>3.73</td>\n      <td>93.26</td>\n      <td>0.59</td>\n      <td>14.67</td>\n    </tr>\n    <tr>\n      <th>1480</th>\n      <td>2024-02-26</td>\n      <td>12:37:54.526</td>\n      <td>0.16</td>\n      <td>2.62</td>\n      <td>0.06</td>\n      <td>1.12</td>\n      <td>0.04</td>\n      <td>18.30</td>\n      <td>1.00</td>\n      <td>0.33</td>\n      <td>...</td>\n      <td>0.0</td>\n      <td>0.0</td>\n      <td>35</td>\n      <td>766.68</td>\n      <td>400.39</td>\n      <td>2598.02</td>\n      <td>3.83</td>\n      <td>95.74</td>\n      <td>0.59</td>\n      <td>14.76</td>\n    </tr>\n    <tr>\n      <th>1481</th>\n      <td>2024-02-26</td>\n      <td>12:37:55.526</td>\n      <td>0.16</td>\n      <td>2.63</td>\n      <td>0.06</td>\n      <td>1.12</td>\n      <td>0.03</td>\n      <td>18.82</td>\n      <td>1.00</td>\n      <td>0.24</td>\n      <td>...</td>\n      <td>0.0</td>\n      <td>0.0</td>\n      <td>35</td>\n      <td>789.46</td>\n      <td>413.27</td>\n      <td>2596.93</td>\n      <td>3.82</td>\n      <td>95.51</td>\n      <td>0.61</td>\n      <td>15.20</td>\n    </tr>\n    <tr>\n      <th>1482</th>\n      <td>2024-02-26</td>\n      <td>12:37:56.526</td>\n      <td>0.16</td>\n      <td>2.67</td>\n      <td>0.06</td>\n      <td>1.12</td>\n      <td>0.03</td>\n      <td>18.93</td>\n      <td>1.00</td>\n      <td>0.33</td>\n      <td>...</td>\n      <td>0.0</td>\n      <td>0.0</td>\n      <td>36</td>\n      <td>791.51</td>\n      <td>408.67</td>\n      <td>2596.95</td>\n      <td>3.87</td>\n      <td>96.84</td>\n      <td>0.61</td>\n      <td>15.24</td>\n    </tr>\n  </tbody>\n</table>\n<p>1483 rows × 98 columns</p>\n</div>"
     },
     "execution_count": 228,
     "metadata": {},
     "output_type": "execute_result"
    }
   ],
   "source": [
    "get_pcm_data_2headers(exp_type, test_exp_num, \"rx-pcm.csv\")"
   ],
   "metadata": {
    "collapsed": false,
    "ExecuteTime": {
     "end_time": "2024-03-05T07:31:18.873886Z",
     "start_time": "2024-03-05T07:31:18.843861Z"
    }
   },
   "id": "1c9273650803fe38",
   "execution_count": 228
  },
  {
   "cell_type": "code",
   "outputs": [
    {
     "data": {
      "text/plain": "     System Date   System Time  Socket 0 EXEC  Socket 0 IPC  Socket 0 FREQ  \\\n0     2024-02-26  12:13:14.309           0.14          2.44           0.06   \n1     2024-02-26  12:13:15.309           0.15          2.36           0.06   \n2     2024-02-26  12:13:16.309           0.15          2.40           0.06   \n3     2024-02-26  12:13:17.310           0.15          2.33           0.06   \n4     2024-02-26  12:13:18.309           0.15          2.31           0.06   \n...          ...           ...            ...           ...            ...   \n1478  2024-02-26  12:37:52.499           0.16          2.67           0.06   \n1479  2024-02-26  12:37:53.499           0.16          2.42           0.07   \n1480  2024-02-26  12:37:54.499           0.16          2.66           0.06   \n1481  2024-02-26  12:37:55.499           0.16          2.63           0.06   \n1482  2024-02-26  12:37:56.499           0.16          2.63           0.06   \n\n      Socket 0 AFREQ  Socket 0 L3MISS  Socket 0 L2MISS  Socket 0 L3HIT  \\\n0               1.12             0.08            15.09            0.99   \n1               1.12             0.08            15.52            0.99   \n2               1.12             0.08            15.83            1.00   \n3               1.12             0.09            15.27            0.99   \n4               1.12             0.08            15.78            0.99   \n...              ...              ...              ...             ...   \n1478            1.12             0.03            18.94            1.00   \n1479            1.12             0.10            17.92            0.99   \n1480            1.12             0.03            18.72            1.00   \n1481            1.12             0.04            18.84            1.00   \n1482            1.12             0.03            18.85            1.00   \n\n      Socket 0 L2HIT  ...  Core (Socket) C6res%  Core (Socket) C7res%  \\\n0               0.29  ...                   0.0                   0.0   \n1               0.35  ...                   0.0                   0.0   \n2               0.39  ...                   0.0                   0.0   \n3               0.40  ...                   0.0                   0.0   \n4               0.39  ...                   0.0                   0.0   \n...              ...  ...                   ...                   ...   \n1478            0.34  ...                   0.0                   0.0   \n1479            0.39  ...                   0.0                   0.0   \n1480            0.34  ...                   0.0                   0.0   \n1481            0.24  ...                   0.0                   0.0   \n1482            0.33  ...                   0.0                   0.0   \n\n      Core (Socket) TEMP  Core (Socket) INST  Core (Socket) ACYC  \\\n0                     43              934.12              400.51   \n1                     43              932.79              404.47   \n2                     44              952.75              405.81   \n3                     42              909.76              394.91   \n4                     43              926.02              407.42   \n...                  ...                 ...                 ...   \n1478                  30             1068.99              411.46   \n1479                  31              994.87              400.83   \n1480                  32             1075.99              411.96   \n1481                  31             1057.07              412.95   \n1482                  32             1069.02              412.74   \n\n      Core (Socket) TIME(ticks)  Core (Socket) PhysIPC  \\\n0                       2599.79                   4.66   \n1                       2596.04                   4.61   \n2                       2597.98                   4.70   \n3                       2598.52                   4.61   \n4                       2595.58                   4.55   \n...                         ...                    ...   \n1478                    2597.12                   5.20   \n1479                    2597.18                   4.96   \n1480                    2597.80                   5.22   \n1481                    2597.46                   5.12   \n1482                    2597.32                   5.18   \n\n      Core (Socket) PhysIPC%  Core (Socket) INSTnom  Core (Socket) INSTnom%  \n0                     116.62                   0.72                   17.96  \n1                     115.31                   0.72                   17.97  \n2                     117.39                   0.73                   18.34  \n3                     115.19                   0.70                   17.51  \n4                     113.64                   0.71                   17.84  \n...                      ...                    ...                     ...  \n1478                  129.90                   0.82                   20.58  \n1479                  124.10                   0.77                   19.15  \n1480                  130.59                   0.83                   20.71  \n1481                  127.99                   0.81                   20.35  \n1482                  129.50                   0.82                   20.58  \n\n[1483 rows x 98 columns]",
      "text/html": "<div>\n<style scoped>\n    .dataframe tbody tr th:only-of-type {\n        vertical-align: middle;\n    }\n\n    .dataframe tbody tr th {\n        vertical-align: top;\n    }\n\n    .dataframe thead th {\n        text-align: right;\n    }\n</style>\n<table border=\"1\" class=\"dataframe\">\n  <thead>\n    <tr style=\"text-align: right;\">\n      <th></th>\n      <th>System Date</th>\n      <th>System Time</th>\n      <th>Socket 0 EXEC</th>\n      <th>Socket 0 IPC</th>\n      <th>Socket 0 FREQ</th>\n      <th>Socket 0 AFREQ</th>\n      <th>Socket 0 L3MISS</th>\n      <th>Socket 0 L2MISS</th>\n      <th>Socket 0 L3HIT</th>\n      <th>Socket 0 L2HIT</th>\n      <th>...</th>\n      <th>Core (Socket) C6res%</th>\n      <th>Core (Socket) C7res%</th>\n      <th>Core (Socket) TEMP</th>\n      <th>Core (Socket) INST</th>\n      <th>Core (Socket) ACYC</th>\n      <th>Core (Socket) TIME(ticks)</th>\n      <th>Core (Socket) PhysIPC</th>\n      <th>Core (Socket) PhysIPC%</th>\n      <th>Core (Socket) INSTnom</th>\n      <th>Core (Socket) INSTnom%</th>\n    </tr>\n  </thead>\n  <tbody>\n    <tr>\n      <th>0</th>\n      <td>2024-02-26</td>\n      <td>12:13:14.309</td>\n      <td>0.14</td>\n      <td>2.44</td>\n      <td>0.06</td>\n      <td>1.12</td>\n      <td>0.08</td>\n      <td>15.09</td>\n      <td>0.99</td>\n      <td>0.29</td>\n      <td>...</td>\n      <td>0.0</td>\n      <td>0.0</td>\n      <td>43</td>\n      <td>934.12</td>\n      <td>400.51</td>\n      <td>2599.79</td>\n      <td>4.66</td>\n      <td>116.62</td>\n      <td>0.72</td>\n      <td>17.96</td>\n    </tr>\n    <tr>\n      <th>1</th>\n      <td>2024-02-26</td>\n      <td>12:13:15.309</td>\n      <td>0.15</td>\n      <td>2.36</td>\n      <td>0.06</td>\n      <td>1.12</td>\n      <td>0.08</td>\n      <td>15.52</td>\n      <td>0.99</td>\n      <td>0.35</td>\n      <td>...</td>\n      <td>0.0</td>\n      <td>0.0</td>\n      <td>43</td>\n      <td>932.79</td>\n      <td>404.47</td>\n      <td>2596.04</td>\n      <td>4.61</td>\n      <td>115.31</td>\n      <td>0.72</td>\n      <td>17.97</td>\n    </tr>\n    <tr>\n      <th>2</th>\n      <td>2024-02-26</td>\n      <td>12:13:16.309</td>\n      <td>0.15</td>\n      <td>2.40</td>\n      <td>0.06</td>\n      <td>1.12</td>\n      <td>0.08</td>\n      <td>15.83</td>\n      <td>1.00</td>\n      <td>0.39</td>\n      <td>...</td>\n      <td>0.0</td>\n      <td>0.0</td>\n      <td>44</td>\n      <td>952.75</td>\n      <td>405.81</td>\n      <td>2597.98</td>\n      <td>4.70</td>\n      <td>117.39</td>\n      <td>0.73</td>\n      <td>18.34</td>\n    </tr>\n    <tr>\n      <th>3</th>\n      <td>2024-02-26</td>\n      <td>12:13:17.310</td>\n      <td>0.15</td>\n      <td>2.33</td>\n      <td>0.06</td>\n      <td>1.12</td>\n      <td>0.09</td>\n      <td>15.27</td>\n      <td>0.99</td>\n      <td>0.40</td>\n      <td>...</td>\n      <td>0.0</td>\n      <td>0.0</td>\n      <td>42</td>\n      <td>909.76</td>\n      <td>394.91</td>\n      <td>2598.52</td>\n      <td>4.61</td>\n      <td>115.19</td>\n      <td>0.70</td>\n      <td>17.51</td>\n    </tr>\n    <tr>\n      <th>4</th>\n      <td>2024-02-26</td>\n      <td>12:13:18.309</td>\n      <td>0.15</td>\n      <td>2.31</td>\n      <td>0.06</td>\n      <td>1.12</td>\n      <td>0.08</td>\n      <td>15.78</td>\n      <td>0.99</td>\n      <td>0.39</td>\n      <td>...</td>\n      <td>0.0</td>\n      <td>0.0</td>\n      <td>43</td>\n      <td>926.02</td>\n      <td>407.42</td>\n      <td>2595.58</td>\n      <td>4.55</td>\n      <td>113.64</td>\n      <td>0.71</td>\n      <td>17.84</td>\n    </tr>\n    <tr>\n      <th>...</th>\n      <td>...</td>\n      <td>...</td>\n      <td>...</td>\n      <td>...</td>\n      <td>...</td>\n      <td>...</td>\n      <td>...</td>\n      <td>...</td>\n      <td>...</td>\n      <td>...</td>\n      <td>...</td>\n      <td>...</td>\n      <td>...</td>\n      <td>...</td>\n      <td>...</td>\n      <td>...</td>\n      <td>...</td>\n      <td>...</td>\n      <td>...</td>\n      <td>...</td>\n      <td>...</td>\n    </tr>\n    <tr>\n      <th>1478</th>\n      <td>2024-02-26</td>\n      <td>12:37:52.499</td>\n      <td>0.16</td>\n      <td>2.67</td>\n      <td>0.06</td>\n      <td>1.12</td>\n      <td>0.03</td>\n      <td>18.94</td>\n      <td>1.00</td>\n      <td>0.34</td>\n      <td>...</td>\n      <td>0.0</td>\n      <td>0.0</td>\n      <td>30</td>\n      <td>1068.99</td>\n      <td>411.46</td>\n      <td>2597.12</td>\n      <td>5.20</td>\n      <td>129.90</td>\n      <td>0.82</td>\n      <td>20.58</td>\n    </tr>\n    <tr>\n      <th>1479</th>\n      <td>2024-02-26</td>\n      <td>12:37:53.499</td>\n      <td>0.16</td>\n      <td>2.42</td>\n      <td>0.07</td>\n      <td>1.12</td>\n      <td>0.10</td>\n      <td>17.92</td>\n      <td>0.99</td>\n      <td>0.39</td>\n      <td>...</td>\n      <td>0.0</td>\n      <td>0.0</td>\n      <td>31</td>\n      <td>994.87</td>\n      <td>400.83</td>\n      <td>2597.18</td>\n      <td>4.96</td>\n      <td>124.10</td>\n      <td>0.77</td>\n      <td>19.15</td>\n    </tr>\n    <tr>\n      <th>1480</th>\n      <td>2024-02-26</td>\n      <td>12:37:54.499</td>\n      <td>0.16</td>\n      <td>2.66</td>\n      <td>0.06</td>\n      <td>1.12</td>\n      <td>0.03</td>\n      <td>18.72</td>\n      <td>1.00</td>\n      <td>0.34</td>\n      <td>...</td>\n      <td>0.0</td>\n      <td>0.0</td>\n      <td>32</td>\n      <td>1075.99</td>\n      <td>411.96</td>\n      <td>2597.80</td>\n      <td>5.22</td>\n      <td>130.59</td>\n      <td>0.83</td>\n      <td>20.71</td>\n    </tr>\n    <tr>\n      <th>1481</th>\n      <td>2024-02-26</td>\n      <td>12:37:55.499</td>\n      <td>0.16</td>\n      <td>2.63</td>\n      <td>0.06</td>\n      <td>1.12</td>\n      <td>0.04</td>\n      <td>18.84</td>\n      <td>1.00</td>\n      <td>0.24</td>\n      <td>...</td>\n      <td>0.0</td>\n      <td>0.0</td>\n      <td>31</td>\n      <td>1057.07</td>\n      <td>412.95</td>\n      <td>2597.46</td>\n      <td>5.12</td>\n      <td>127.99</td>\n      <td>0.81</td>\n      <td>20.35</td>\n    </tr>\n    <tr>\n      <th>1482</th>\n      <td>2024-02-26</td>\n      <td>12:37:56.499</td>\n      <td>0.16</td>\n      <td>2.63</td>\n      <td>0.06</td>\n      <td>1.12</td>\n      <td>0.03</td>\n      <td>18.85</td>\n      <td>1.00</td>\n      <td>0.33</td>\n      <td>...</td>\n      <td>0.0</td>\n      <td>0.0</td>\n      <td>32</td>\n      <td>1069.02</td>\n      <td>412.74</td>\n      <td>2597.32</td>\n      <td>5.18</td>\n      <td>129.50</td>\n      <td>0.82</td>\n      <td>20.58</td>\n    </tr>\n  </tbody>\n</table>\n<p>1483 rows × 98 columns</p>\n</div>"
     },
     "execution_count": 229,
     "metadata": {},
     "output_type": "execute_result"
    }
   ],
   "source": [
    "get_pcm_data_2headers(exp_type, test_exp_num, \"tx-pcm.csv\")"
   ],
   "metadata": {
    "collapsed": false,
    "ExecuteTime": {
     "end_time": "2024-03-05T07:31:18.905056Z",
     "start_time": "2024-03-05T07:31:18.874888Z"
    }
   },
   "id": "7968bd49f2209ed2",
   "execution_count": 229
  },
  {
   "cell_type": "code",
   "outputs": [],
   "source": [
    "def get_pcm_data_memory(exp_type, exp_num, file):\n",
    "    _, headers_1, headers_2 = read_2headers(exp_type, exp_num, file)\n",
    "    headers_1[0] = \"System\"\n",
    "    headers_1[1] = \"System\"\n",
    "    headers = [i + \" \" + j for i, j in zip(headers_1, headers_2)]\n",
    "\n",
    "    assert \"memory\" in file\n",
    "\n",
    "    file_path = os.path.join(current_path, exp_type, exp_num, file)\n",
    "    data = pd.read_csv(file_path, names=headers, skiprows=2)\n",
    "    # delete the columns if it's NaN\n",
    "    data = data.dropna(axis=1, how='all')\n",
    "    return data"
   ],
   "metadata": {
    "collapsed": false,
    "ExecuteTime": {
     "end_time": "2024-03-05T07:31:18.921317Z",
     "start_time": "2024-03-05T07:31:18.906058Z"
    }
   },
   "id": "28b7cf4caa503c9b",
   "execution_count": 230
  },
  {
   "cell_type": "code",
   "outputs": [
    {
     "data": {
      "text/plain": "     System Date   System Time  SKT0 Ch0Read  SKT0 Ch0Write  SKT0 Ch1Read  \\\n0     2024-02-26  12:13:14.251        148.94         207.59        543.79   \n1     2024-02-26  12:13:15.251        153.33         212.78        563.77   \n2     2024-02-26  12:13:16.251        151.62         209.93        559.26   \n3     2024-02-26  12:13:17.251        149.99         206.26        554.59   \n4     2024-02-26  12:13:18.251        148.97         205.01        550.76   \n...          ...           ...           ...            ...           ...   \n1478  2024-02-26  12:37:52.446         74.90         150.58        267.02   \n1479  2024-02-26  12:37:53.446         84.39         162.86        297.82   \n1480  2024-02-26  12:37:54.447         80.34         162.15        284.61   \n1481  2024-02-26  12:37:55.447         75.01         151.83        266.82   \n1482  2024-02-26  12:37:56.447         75.68         152.76        269.56   \n\n      SKT0 Ch1Write  SKT0 Mem Read (MB/s)  SKT0 Mem Write (MB/s)  \\\n0            403.84                692.73                 611.43   \n1            417.56                717.11                 630.35   \n2            413.68                710.88                 623.62   \n3            408.73                704.58                 614.99   \n4            406.23                699.73                 611.24   \n...             ...                   ...                    ...   \n1478         253.25                341.92                 403.83   \n1479         276.33                382.21                 439.19   \n1480         271.44                364.95                 433.59   \n1481         254.68                341.84                 406.51   \n1482         256.33                345.24                 409.09   \n\n      SKT0 P. Write (T/s)  SKT0 Memory (MB/s)  ...  SKT1 Ch0Write  \\\n0              2012765306             1304.16  ...           8.87   \n1              2133370598             1347.45  ...           6.83   \n2              2133103792             1334.49  ...           6.71   \n3              2133069675             1319.57  ...           5.60   \n4              2132932266             1310.97  ...           6.64   \n...                   ...                 ...  ...            ...   \n1478           2132420003              745.74  ...           5.21   \n1479           2132642497              821.40  ...          17.74   \n1480           2134862016              798.54  ...           8.89   \n1481           2132497060              748.34  ...           5.57   \n1482           2133259365              754.33  ...           6.18   \n\n      SKT1 Ch1Read  SKT1 Ch1Write  SKT1 Mem Read (MB/s)  \\\n0           217.83           5.66                437.66   \n1           217.89           3.40                437.76   \n2           215.18           3.26                432.96   \n3           208.51           2.16                419.94   \n4           208.07           3.21                418.69   \n...            ...            ...                   ...   \n1478        182.07           1.83                367.06   \n1479        205.35          14.33                413.11   \n1480        204.62           5.45                412.32   \n1481        190.93           2.18                384.04   \n1482        189.87           2.76                381.93   \n\n      SKT1 Mem Write (MB/s)  SKT1 P. Write (T/s)  SKT1 Memory (MB/s)  \\\n0                     14.54           2012999134              452.20   \n1                     10.23           2133483506              448.00   \n2                      9.97           2132962705              442.93   \n3                      7.76           2133134684              427.70   \n4                      9.85           2132809241              428.54   \n...                     ...                  ...                 ...   \n1478                   7.04           2132475102              374.10   \n1479                  32.06           2132734473              445.18   \n1480                  14.34           2134805364              426.65   \n1481                   7.75           2132438267              391.79   \n1482                   8.94           2133146621              390.88   \n\n      System Read  System Write  System Memory  \n0         1130.39        625.97        1756.36  \n1         1154.87        640.58        1795.45  \n2         1143.84        633.58        1777.42  \n3         1124.52        622.75        1747.27  \n4         1118.42        621.09        1739.51  \n...           ...           ...            ...  \n1478       708.97        410.87        1119.85  \n1479       795.32        471.25        1266.57  \n1480       777.27        447.93        1225.20  \n1481       725.87        414.26        1140.13  \n1482       727.17        418.03        1145.20  \n\n[1483 rows x 21 columns]",
      "text/html": "<div>\n<style scoped>\n    .dataframe tbody tr th:only-of-type {\n        vertical-align: middle;\n    }\n\n    .dataframe tbody tr th {\n        vertical-align: top;\n    }\n\n    .dataframe thead th {\n        text-align: right;\n    }\n</style>\n<table border=\"1\" class=\"dataframe\">\n  <thead>\n    <tr style=\"text-align: right;\">\n      <th></th>\n      <th>System Date</th>\n      <th>System Time</th>\n      <th>SKT0 Ch0Read</th>\n      <th>SKT0 Ch0Write</th>\n      <th>SKT0 Ch1Read</th>\n      <th>SKT0 Ch1Write</th>\n      <th>SKT0 Mem Read (MB/s)</th>\n      <th>SKT0 Mem Write (MB/s)</th>\n      <th>SKT0 P. Write (T/s)</th>\n      <th>SKT0 Memory (MB/s)</th>\n      <th>...</th>\n      <th>SKT1 Ch0Write</th>\n      <th>SKT1 Ch1Read</th>\n      <th>SKT1 Ch1Write</th>\n      <th>SKT1 Mem Read (MB/s)</th>\n      <th>SKT1 Mem Write (MB/s)</th>\n      <th>SKT1 P. Write (T/s)</th>\n      <th>SKT1 Memory (MB/s)</th>\n      <th>System Read</th>\n      <th>System Write</th>\n      <th>System Memory</th>\n    </tr>\n  </thead>\n  <tbody>\n    <tr>\n      <th>0</th>\n      <td>2024-02-26</td>\n      <td>12:13:14.251</td>\n      <td>148.94</td>\n      <td>207.59</td>\n      <td>543.79</td>\n      <td>403.84</td>\n      <td>692.73</td>\n      <td>611.43</td>\n      <td>2012765306</td>\n      <td>1304.16</td>\n      <td>...</td>\n      <td>8.87</td>\n      <td>217.83</td>\n      <td>5.66</td>\n      <td>437.66</td>\n      <td>14.54</td>\n      <td>2012999134</td>\n      <td>452.20</td>\n      <td>1130.39</td>\n      <td>625.97</td>\n      <td>1756.36</td>\n    </tr>\n    <tr>\n      <th>1</th>\n      <td>2024-02-26</td>\n      <td>12:13:15.251</td>\n      <td>153.33</td>\n      <td>212.78</td>\n      <td>563.77</td>\n      <td>417.56</td>\n      <td>717.11</td>\n      <td>630.35</td>\n      <td>2133370598</td>\n      <td>1347.45</td>\n      <td>...</td>\n      <td>6.83</td>\n      <td>217.89</td>\n      <td>3.40</td>\n      <td>437.76</td>\n      <td>10.23</td>\n      <td>2133483506</td>\n      <td>448.00</td>\n      <td>1154.87</td>\n      <td>640.58</td>\n      <td>1795.45</td>\n    </tr>\n    <tr>\n      <th>2</th>\n      <td>2024-02-26</td>\n      <td>12:13:16.251</td>\n      <td>151.62</td>\n      <td>209.93</td>\n      <td>559.26</td>\n      <td>413.68</td>\n      <td>710.88</td>\n      <td>623.62</td>\n      <td>2133103792</td>\n      <td>1334.49</td>\n      <td>...</td>\n      <td>6.71</td>\n      <td>215.18</td>\n      <td>3.26</td>\n      <td>432.96</td>\n      <td>9.97</td>\n      <td>2132962705</td>\n      <td>442.93</td>\n      <td>1143.84</td>\n      <td>633.58</td>\n      <td>1777.42</td>\n    </tr>\n    <tr>\n      <th>3</th>\n      <td>2024-02-26</td>\n      <td>12:13:17.251</td>\n      <td>149.99</td>\n      <td>206.26</td>\n      <td>554.59</td>\n      <td>408.73</td>\n      <td>704.58</td>\n      <td>614.99</td>\n      <td>2133069675</td>\n      <td>1319.57</td>\n      <td>...</td>\n      <td>5.60</td>\n      <td>208.51</td>\n      <td>2.16</td>\n      <td>419.94</td>\n      <td>7.76</td>\n      <td>2133134684</td>\n      <td>427.70</td>\n      <td>1124.52</td>\n      <td>622.75</td>\n      <td>1747.27</td>\n    </tr>\n    <tr>\n      <th>4</th>\n      <td>2024-02-26</td>\n      <td>12:13:18.251</td>\n      <td>148.97</td>\n      <td>205.01</td>\n      <td>550.76</td>\n      <td>406.23</td>\n      <td>699.73</td>\n      <td>611.24</td>\n      <td>2132932266</td>\n      <td>1310.97</td>\n      <td>...</td>\n      <td>6.64</td>\n      <td>208.07</td>\n      <td>3.21</td>\n      <td>418.69</td>\n      <td>9.85</td>\n      <td>2132809241</td>\n      <td>428.54</td>\n      <td>1118.42</td>\n      <td>621.09</td>\n      <td>1739.51</td>\n    </tr>\n    <tr>\n      <th>...</th>\n      <td>...</td>\n      <td>...</td>\n      <td>...</td>\n      <td>...</td>\n      <td>...</td>\n      <td>...</td>\n      <td>...</td>\n      <td>...</td>\n      <td>...</td>\n      <td>...</td>\n      <td>...</td>\n      <td>...</td>\n      <td>...</td>\n      <td>...</td>\n      <td>...</td>\n      <td>...</td>\n      <td>...</td>\n      <td>...</td>\n      <td>...</td>\n      <td>...</td>\n      <td>...</td>\n    </tr>\n    <tr>\n      <th>1478</th>\n      <td>2024-02-26</td>\n      <td>12:37:52.446</td>\n      <td>74.90</td>\n      <td>150.58</td>\n      <td>267.02</td>\n      <td>253.25</td>\n      <td>341.92</td>\n      <td>403.83</td>\n      <td>2132420003</td>\n      <td>745.74</td>\n      <td>...</td>\n      <td>5.21</td>\n      <td>182.07</td>\n      <td>1.83</td>\n      <td>367.06</td>\n      <td>7.04</td>\n      <td>2132475102</td>\n      <td>374.10</td>\n      <td>708.97</td>\n      <td>410.87</td>\n      <td>1119.85</td>\n    </tr>\n    <tr>\n      <th>1479</th>\n      <td>2024-02-26</td>\n      <td>12:37:53.446</td>\n      <td>84.39</td>\n      <td>162.86</td>\n      <td>297.82</td>\n      <td>276.33</td>\n      <td>382.21</td>\n      <td>439.19</td>\n      <td>2132642497</td>\n      <td>821.40</td>\n      <td>...</td>\n      <td>17.74</td>\n      <td>205.35</td>\n      <td>14.33</td>\n      <td>413.11</td>\n      <td>32.06</td>\n      <td>2132734473</td>\n      <td>445.18</td>\n      <td>795.32</td>\n      <td>471.25</td>\n      <td>1266.57</td>\n    </tr>\n    <tr>\n      <th>1480</th>\n      <td>2024-02-26</td>\n      <td>12:37:54.447</td>\n      <td>80.34</td>\n      <td>162.15</td>\n      <td>284.61</td>\n      <td>271.44</td>\n      <td>364.95</td>\n      <td>433.59</td>\n      <td>2134862016</td>\n      <td>798.54</td>\n      <td>...</td>\n      <td>8.89</td>\n      <td>204.62</td>\n      <td>5.45</td>\n      <td>412.32</td>\n      <td>14.34</td>\n      <td>2134805364</td>\n      <td>426.65</td>\n      <td>777.27</td>\n      <td>447.93</td>\n      <td>1225.20</td>\n    </tr>\n    <tr>\n      <th>1481</th>\n      <td>2024-02-26</td>\n      <td>12:37:55.447</td>\n      <td>75.01</td>\n      <td>151.83</td>\n      <td>266.82</td>\n      <td>254.68</td>\n      <td>341.84</td>\n      <td>406.51</td>\n      <td>2132497060</td>\n      <td>748.34</td>\n      <td>...</td>\n      <td>5.57</td>\n      <td>190.93</td>\n      <td>2.18</td>\n      <td>384.04</td>\n      <td>7.75</td>\n      <td>2132438267</td>\n      <td>391.79</td>\n      <td>725.87</td>\n      <td>414.26</td>\n      <td>1140.13</td>\n    </tr>\n    <tr>\n      <th>1482</th>\n      <td>2024-02-26</td>\n      <td>12:37:56.447</td>\n      <td>75.68</td>\n      <td>152.76</td>\n      <td>269.56</td>\n      <td>256.33</td>\n      <td>345.24</td>\n      <td>409.09</td>\n      <td>2133259365</td>\n      <td>754.33</td>\n      <td>...</td>\n      <td>6.18</td>\n      <td>189.87</td>\n      <td>2.76</td>\n      <td>381.93</td>\n      <td>8.94</td>\n      <td>2133146621</td>\n      <td>390.88</td>\n      <td>727.17</td>\n      <td>418.03</td>\n      <td>1145.20</td>\n    </tr>\n  </tbody>\n</table>\n<p>1483 rows × 21 columns</p>\n</div>"
     },
     "execution_count": 231,
     "metadata": {},
     "output_type": "execute_result"
    }
   ],
   "source": [
    "get_pcm_data_memory(exp_type, test_exp_num, \"pcm-memory.csv\")"
   ],
   "metadata": {
    "collapsed": false,
    "ExecuteTime": {
     "end_time": "2024-03-05T07:31:18.952020Z",
     "start_time": "2024-03-05T07:31:18.922429Z"
    }
   },
   "id": "afc57ce5cad6b6d9",
   "execution_count": 231
  },
  {
   "cell_type": "code",
   "outputs": [],
   "source": [
    "def get_pcm_data_pcie(exp_type, exp_num, file):\n",
    "    assert \"pcie\" in file\n",
    "    with open(os.path.join(current_path, exp_type, exp_num, file), newline='') as f:\n",
    "        line_index = -1\n",
    "        headers_mid = \"PCIRdCur,RFO,CRd,DRd,ItoM,PRd,WiL\".split(\",\")\n",
    "        headers_prefix = [f\"Skt{i}_\" for i in range(2)]\n",
    "        headers_suffix = [\"_Total\", \"_Miss\", \"_Hit\"]\n",
    "        headers = [i + j for j in headers_suffix for i in headers_mid]\n",
    "        headers = [i + j for i in headers_prefix for j in headers]\n",
    "        f_lines = f.readlines()\n",
    "        data_len = len(f_lines) / 7\n",
    "        assert data_len.is_integer()\n",
    "        data_len = int(data_len)\n",
    "        data = np.zeros((data_len, len(headers)))\n",
    "        for header in headers:\n",
    "            print(header)\n",
    "        for line in f_lines:\n",
    "            if not line[0].isdigit():\n",
    "                line_index += 1\n",
    "                # if line_index != 0:\n",
    "                #     print(data[line_index-1])\n",
    "                continue\n",
    "            index_start = 0\n",
    "            if line.strip().endswith(\"l)\"):\n",
    "                pass\n",
    "            elif line.strip().endswith(\"s)\"):\n",
    "                index_start += 7\n",
    "            elif line.strip().endswith(\"t)\"):\n",
    "                index_start += 14\n",
    "            index_start += 21 * int(line.split(\",\", 1)[0])\n",
    "            data[line_index, index_start:index_start + 7] = list(map(float, line[:line.rfind(\"(\")].split(\",\")[1:]))\n",
    "        data = pd.DataFrame(data, columns=headers)\n",
    "        return data"
   ],
   "metadata": {
    "collapsed": false,
    "ExecuteTime": {
     "end_time": "2024-03-05T07:31:19.091681Z",
     "start_time": "2024-03-05T07:31:19.069977Z"
    }
   },
   "id": "905e0bf116fbf23f",
   "execution_count": 232
  },
  {
   "cell_type": "code",
   "outputs": [
    {
     "name": "stdout",
     "output_type": "stream",
     "text": [
      "Skt0_PCIRdCur_Total\n",
      "Skt0_RFO_Total\n",
      "Skt0_CRd_Total\n",
      "Skt0_DRd_Total\n",
      "Skt0_ItoM_Total\n",
      "Skt0_PRd_Total\n",
      "Skt0_WiL_Total\n",
      "Skt0_PCIRdCur_Miss\n",
      "Skt0_RFO_Miss\n",
      "Skt0_CRd_Miss\n",
      "Skt0_DRd_Miss\n",
      "Skt0_ItoM_Miss\n",
      "Skt0_PRd_Miss\n",
      "Skt0_WiL_Miss\n",
      "Skt0_PCIRdCur_Hit\n",
      "Skt0_RFO_Hit\n",
      "Skt0_CRd_Hit\n",
      "Skt0_DRd_Hit\n",
      "Skt0_ItoM_Hit\n",
      "Skt0_PRd_Hit\n",
      "Skt0_WiL_Hit\n",
      "Skt1_PCIRdCur_Total\n",
      "Skt1_RFO_Total\n",
      "Skt1_CRd_Total\n",
      "Skt1_DRd_Total\n",
      "Skt1_ItoM_Total\n",
      "Skt1_PRd_Total\n",
      "Skt1_WiL_Total\n",
      "Skt1_PCIRdCur_Miss\n",
      "Skt1_RFO_Miss\n",
      "Skt1_CRd_Miss\n",
      "Skt1_DRd_Miss\n",
      "Skt1_ItoM_Miss\n",
      "Skt1_PRd_Miss\n",
      "Skt1_WiL_Miss\n",
      "Skt1_PCIRdCur_Hit\n",
      "Skt1_RFO_Hit\n",
      "Skt1_CRd_Hit\n",
      "Skt1_DRd_Hit\n",
      "Skt1_ItoM_Hit\n",
      "Skt1_PRd_Hit\n",
      "Skt1_WiL_Hit\n"
     ]
    },
    {
     "data": {
      "text/plain": "      Skt0_PCIRdCur_Total  Skt0_RFO_Total  Skt0_CRd_Total  Skt0_DRd_Total  \\\n0              11337816.0       2685144.0       4515182.0      94503010.0   \n1              11310124.0       2865380.0       2445506.0      97077638.0   \n2              11400200.0       2929192.0       1698298.0      97537272.0   \n3              11435886.0       2982812.0       1690794.0     101253852.0   \n4              11474078.0       3026310.0       1687364.0     101093342.0   \n...                   ...             ...             ...             ...   \n1467           10678080.0       3417624.0       1717996.0     124989620.0   \n1468           10689126.0       3439184.0       1589546.0     125107738.0   \n1469           10628128.0       3408482.0       2241484.0     125399022.0   \n1470           10669400.0       3433892.0       2218888.0     126031598.0   \n1471           10683988.0       3431638.0       2386258.0     125124286.0   \n\n      Skt0_ItoM_Total  Skt0_PRd_Total  Skt0_WiL_Total  Skt0_PCIRdCur_Miss  \\\n0           8244600.0             0.0        410942.0        2.085217e+09   \n1           8298990.0             0.0        423934.0        1.216600e+04   \n2           8289974.0             0.0        418572.0        9.758000e+03   \n3           8314600.0             0.0        422674.0        7.028000e+03   \n4           8301188.0             0.0        432418.0        5.768000e+03   \n...               ...             ...             ...                 ...   \n1467        7055734.0             0.0        697956.0        3.360000e+02   \n1468        7117558.0             0.0        675458.0        3.220000e+02   \n1469        7055426.0           112.0        686826.0        1.120000e+03   \n1470        7054474.0           140.0        684656.0        3.220000e+02   \n1471        7054208.0           140.0        682388.0        3.780000e+02   \n\n      Skt0_RFO_Miss  Skt0_CRd_Miss  ...  Skt1_ItoM_Miss  Skt1_PRd_Miss  \\\n0         1479744.0        13790.0  ...             0.0        27650.0   \n1         1371482.0        15568.0  ...             0.0        27748.0   \n2         1296316.0        18256.0  ...             0.0        27958.0   \n3         1240624.0        29498.0  ...             0.0        27902.0   \n4         1182748.0        19418.0  ...             0.0        27762.0   \n...             ...            ...  ...             ...            ...   \n1467       659680.0        65324.0  ...             0.0        24248.0   \n1468       654990.0        12642.0  ...             0.0        24108.0   \n1469       755930.0        51982.0  ...             0.0        24304.0   \n1470       718718.0        18634.0  ...             0.0        24080.0   \n1471       714168.0        23562.0  ...             0.0        24360.0   \n\n      Skt1_WiL_Miss  Skt1_PCIRdCur_Hit  Skt1_RFO_Hit  Skt1_CRd_Hit  \\\n0          164094.0                0.0      124670.0     5362308.0   \n1          165382.0          4111492.0      124810.0     5653620.0   \n2          164934.0          4244184.0      125874.0     4620644.0   \n3          163436.0          4347420.0      125230.0     4377590.0   \n4          164458.0          4424644.0      124894.0     4433772.0   \n...             ...                ...           ...           ...   \n1467       142254.0          3807748.0      107968.0     4445756.0   \n1468       141918.0          3875158.0      109284.0     4358984.0   \n1469       143920.0          3232194.0      108948.0     5298706.0   \n1470       143094.0          3535644.0      109452.0     4827228.0   \n1471       143514.0          3684310.0      108892.0     5305706.0   \n\n      Skt1_DRd_Hit  Skt1_ItoM_Hit  Skt1_PRd_Hit  Skt1_WiL_Hit  \n0       10137708.0            0.0         406.0        1274.0  \n1       10368372.0            0.0         448.0           0.0  \n2       10495408.0            0.0         168.0         406.0  \n3       10138548.0            0.0          42.0           0.0  \n4       10256232.0            0.0         378.0           0.0  \n...            ...            ...           ...           ...  \n1467     9588600.0            0.0          84.0        1078.0  \n1468     9433928.0            0.0         126.0        1442.0  \n1469     9652930.0            0.0           0.0           0.0  \n1470     9365496.0            0.0         210.0           0.0  \n1471    10406242.0            0.0           0.0           0.0  \n\n[1472 rows x 42 columns]",
      "text/html": "<div>\n<style scoped>\n    .dataframe tbody tr th:only-of-type {\n        vertical-align: middle;\n    }\n\n    .dataframe tbody tr th {\n        vertical-align: top;\n    }\n\n    .dataframe thead th {\n        text-align: right;\n    }\n</style>\n<table border=\"1\" class=\"dataframe\">\n  <thead>\n    <tr style=\"text-align: right;\">\n      <th></th>\n      <th>Skt0_PCIRdCur_Total</th>\n      <th>Skt0_RFO_Total</th>\n      <th>Skt0_CRd_Total</th>\n      <th>Skt0_DRd_Total</th>\n      <th>Skt0_ItoM_Total</th>\n      <th>Skt0_PRd_Total</th>\n      <th>Skt0_WiL_Total</th>\n      <th>Skt0_PCIRdCur_Miss</th>\n      <th>Skt0_RFO_Miss</th>\n      <th>Skt0_CRd_Miss</th>\n      <th>...</th>\n      <th>Skt1_ItoM_Miss</th>\n      <th>Skt1_PRd_Miss</th>\n      <th>Skt1_WiL_Miss</th>\n      <th>Skt1_PCIRdCur_Hit</th>\n      <th>Skt1_RFO_Hit</th>\n      <th>Skt1_CRd_Hit</th>\n      <th>Skt1_DRd_Hit</th>\n      <th>Skt1_ItoM_Hit</th>\n      <th>Skt1_PRd_Hit</th>\n      <th>Skt1_WiL_Hit</th>\n    </tr>\n  </thead>\n  <tbody>\n    <tr>\n      <th>0</th>\n      <td>11337816.0</td>\n      <td>2685144.0</td>\n      <td>4515182.0</td>\n      <td>94503010.0</td>\n      <td>8244600.0</td>\n      <td>0.0</td>\n      <td>410942.0</td>\n      <td>2.085217e+09</td>\n      <td>1479744.0</td>\n      <td>13790.0</td>\n      <td>...</td>\n      <td>0.0</td>\n      <td>27650.0</td>\n      <td>164094.0</td>\n      <td>0.0</td>\n      <td>124670.0</td>\n      <td>5362308.0</td>\n      <td>10137708.0</td>\n      <td>0.0</td>\n      <td>406.0</td>\n      <td>1274.0</td>\n    </tr>\n    <tr>\n      <th>1</th>\n      <td>11310124.0</td>\n      <td>2865380.0</td>\n      <td>2445506.0</td>\n      <td>97077638.0</td>\n      <td>8298990.0</td>\n      <td>0.0</td>\n      <td>423934.0</td>\n      <td>1.216600e+04</td>\n      <td>1371482.0</td>\n      <td>15568.0</td>\n      <td>...</td>\n      <td>0.0</td>\n      <td>27748.0</td>\n      <td>165382.0</td>\n      <td>4111492.0</td>\n      <td>124810.0</td>\n      <td>5653620.0</td>\n      <td>10368372.0</td>\n      <td>0.0</td>\n      <td>448.0</td>\n      <td>0.0</td>\n    </tr>\n    <tr>\n      <th>2</th>\n      <td>11400200.0</td>\n      <td>2929192.0</td>\n      <td>1698298.0</td>\n      <td>97537272.0</td>\n      <td>8289974.0</td>\n      <td>0.0</td>\n      <td>418572.0</td>\n      <td>9.758000e+03</td>\n      <td>1296316.0</td>\n      <td>18256.0</td>\n      <td>...</td>\n      <td>0.0</td>\n      <td>27958.0</td>\n      <td>164934.0</td>\n      <td>4244184.0</td>\n      <td>125874.0</td>\n      <td>4620644.0</td>\n      <td>10495408.0</td>\n      <td>0.0</td>\n      <td>168.0</td>\n      <td>406.0</td>\n    </tr>\n    <tr>\n      <th>3</th>\n      <td>11435886.0</td>\n      <td>2982812.0</td>\n      <td>1690794.0</td>\n      <td>101253852.0</td>\n      <td>8314600.0</td>\n      <td>0.0</td>\n      <td>422674.0</td>\n      <td>7.028000e+03</td>\n      <td>1240624.0</td>\n      <td>29498.0</td>\n      <td>...</td>\n      <td>0.0</td>\n      <td>27902.0</td>\n      <td>163436.0</td>\n      <td>4347420.0</td>\n      <td>125230.0</td>\n      <td>4377590.0</td>\n      <td>10138548.0</td>\n      <td>0.0</td>\n      <td>42.0</td>\n      <td>0.0</td>\n    </tr>\n    <tr>\n      <th>4</th>\n      <td>11474078.0</td>\n      <td>3026310.0</td>\n      <td>1687364.0</td>\n      <td>101093342.0</td>\n      <td>8301188.0</td>\n      <td>0.0</td>\n      <td>432418.0</td>\n      <td>5.768000e+03</td>\n      <td>1182748.0</td>\n      <td>19418.0</td>\n      <td>...</td>\n      <td>0.0</td>\n      <td>27762.0</td>\n      <td>164458.0</td>\n      <td>4424644.0</td>\n      <td>124894.0</td>\n      <td>4433772.0</td>\n      <td>10256232.0</td>\n      <td>0.0</td>\n      <td>378.0</td>\n      <td>0.0</td>\n    </tr>\n    <tr>\n      <th>...</th>\n      <td>...</td>\n      <td>...</td>\n      <td>...</td>\n      <td>...</td>\n      <td>...</td>\n      <td>...</td>\n      <td>...</td>\n      <td>...</td>\n      <td>...</td>\n      <td>...</td>\n      <td>...</td>\n      <td>...</td>\n      <td>...</td>\n      <td>...</td>\n      <td>...</td>\n      <td>...</td>\n      <td>...</td>\n      <td>...</td>\n      <td>...</td>\n      <td>...</td>\n      <td>...</td>\n    </tr>\n    <tr>\n      <th>1467</th>\n      <td>10678080.0</td>\n      <td>3417624.0</td>\n      <td>1717996.0</td>\n      <td>124989620.0</td>\n      <td>7055734.0</td>\n      <td>0.0</td>\n      <td>697956.0</td>\n      <td>3.360000e+02</td>\n      <td>659680.0</td>\n      <td>65324.0</td>\n      <td>...</td>\n      <td>0.0</td>\n      <td>24248.0</td>\n      <td>142254.0</td>\n      <td>3807748.0</td>\n      <td>107968.0</td>\n      <td>4445756.0</td>\n      <td>9588600.0</td>\n      <td>0.0</td>\n      <td>84.0</td>\n      <td>1078.0</td>\n    </tr>\n    <tr>\n      <th>1468</th>\n      <td>10689126.0</td>\n      <td>3439184.0</td>\n      <td>1589546.0</td>\n      <td>125107738.0</td>\n      <td>7117558.0</td>\n      <td>0.0</td>\n      <td>675458.0</td>\n      <td>3.220000e+02</td>\n      <td>654990.0</td>\n      <td>12642.0</td>\n      <td>...</td>\n      <td>0.0</td>\n      <td>24108.0</td>\n      <td>141918.0</td>\n      <td>3875158.0</td>\n      <td>109284.0</td>\n      <td>4358984.0</td>\n      <td>9433928.0</td>\n      <td>0.0</td>\n      <td>126.0</td>\n      <td>1442.0</td>\n    </tr>\n    <tr>\n      <th>1469</th>\n      <td>10628128.0</td>\n      <td>3408482.0</td>\n      <td>2241484.0</td>\n      <td>125399022.0</td>\n      <td>7055426.0</td>\n      <td>112.0</td>\n      <td>686826.0</td>\n      <td>1.120000e+03</td>\n      <td>755930.0</td>\n      <td>51982.0</td>\n      <td>...</td>\n      <td>0.0</td>\n      <td>24304.0</td>\n      <td>143920.0</td>\n      <td>3232194.0</td>\n      <td>108948.0</td>\n      <td>5298706.0</td>\n      <td>9652930.0</td>\n      <td>0.0</td>\n      <td>0.0</td>\n      <td>0.0</td>\n    </tr>\n    <tr>\n      <th>1470</th>\n      <td>10669400.0</td>\n      <td>3433892.0</td>\n      <td>2218888.0</td>\n      <td>126031598.0</td>\n      <td>7054474.0</td>\n      <td>140.0</td>\n      <td>684656.0</td>\n      <td>3.220000e+02</td>\n      <td>718718.0</td>\n      <td>18634.0</td>\n      <td>...</td>\n      <td>0.0</td>\n      <td>24080.0</td>\n      <td>143094.0</td>\n      <td>3535644.0</td>\n      <td>109452.0</td>\n      <td>4827228.0</td>\n      <td>9365496.0</td>\n      <td>0.0</td>\n      <td>210.0</td>\n      <td>0.0</td>\n    </tr>\n    <tr>\n      <th>1471</th>\n      <td>10683988.0</td>\n      <td>3431638.0</td>\n      <td>2386258.0</td>\n      <td>125124286.0</td>\n      <td>7054208.0</td>\n      <td>140.0</td>\n      <td>682388.0</td>\n      <td>3.780000e+02</td>\n      <td>714168.0</td>\n      <td>23562.0</td>\n      <td>...</td>\n      <td>0.0</td>\n      <td>24360.0</td>\n      <td>143514.0</td>\n      <td>3684310.0</td>\n      <td>108892.0</td>\n      <td>5305706.0</td>\n      <td>10406242.0</td>\n      <td>0.0</td>\n      <td>0.0</td>\n      <td>0.0</td>\n    </tr>\n  </tbody>\n</table>\n<p>1472 rows × 42 columns</p>\n</div>"
     },
     "execution_count": 233,
     "metadata": {},
     "output_type": "execute_result"
    }
   ],
   "source": [
    "get_pcm_data_pcie(exp_type, test_exp_num, \"pcm-pcie.csv\")"
   ],
   "metadata": {
    "collapsed": false,
    "ExecuteTime": {
     "end_time": "2024-03-05T07:31:19.245435Z",
     "start_time": "2024-03-05T07:31:19.187952Z"
    }
   },
   "id": "d269677d74659b8b",
   "execution_count": 233
  },
  {
   "cell_type": "code",
   "outputs": [],
   "source": [
    "# Data with timestamps:\n",
    "# bridge-pcm.csv\n",
    "# firewall-pcm.csv\n",
    "# ndpi_stats-pcm.csv\n",
    "# nf_router-pcm.csv\n",
    "# payload_scan-pcm.csv\n",
    "# rx-pcm.csv\n",
    "# tx-pcm.csv"
   ],
   "metadata": {
    "collapsed": false,
    "ExecuteTime": {
     "end_time": "2024-03-05T07:31:19.447301Z",
     "start_time": "2024-03-05T07:31:19.431239Z"
    }
   },
   "id": "5694cd549111836b",
   "execution_count": 234
  },
  {
   "cell_type": "code",
   "outputs": [],
   "source": [
    "import datetime\n",
    "\n",
    "\n",
    "def data_time_interpolate(data, interpolate=False):\n",
    "    if interpolate:\n",
    "        # Take the last 3 digit of \"System Time\" as the microsecond, and convert it to int\n",
    "        data[\"time_ms\"] = data[\"System Time\"].apply(\n",
    "            lambda x: int(x[:2]) * 60 * 60 * 1000 + int(x[3:5]) * 60 * 1000 + int(x[6:8]) * 1000 + int(x[9:]))\n",
    "\n",
    "        data_new = (\n",
    "                data.iloc[:-1, 2:-1].multiply(data[\"time_ms\"].shift(-1).iloc[:-1] % 1000, axis=0) +\n",
    "                data.shift(-1).iloc[:-1, 2:-1].multiply(1000 - data[\"time_ms\"].shift(-1).iloc[:-1] % 1000, axis=0)\n",
    "        ).divide(\n",
    "            (data[\"time_ms\"].shift(-1).iloc[:-1] % 1000 + 1000 - data[\"time_ms\"].iloc[:-1] % 1000), axis=0\n",
    "        )\n",
    "\n",
    "        data = data.shift(-1).iloc[:-1, :2].join(data_new)\n",
    "\n",
    "        data[\"System Time\"] = data[\"System Time\"].apply(lambda x: str(x)[:-3] + \"000\")\n",
    "        return data\n",
    "    else:\n",
    "        # only fill row index in system time, instead of time\n",
    "        data[\"System Time\"] = data.index\n",
    "        return data"
   ],
   "metadata": {
    "collapsed": false,
    "ExecuteTime": {
     "end_time": "2024-03-05T07:31:19.617568Z",
     "start_time": "2024-03-05T07:31:19.599094Z"
    }
   },
   "id": "cd571f5afd343a5f",
   "execution_count": 235
  },
  {
   "cell_type": "code",
   "outputs": [
    {
     "data": {
      "text/plain": "     System Date  System Time  Socket 0 EXEC  Socket 0 IPC  Socket 0 FREQ  \\\n0     2024-02-26            0           0.17          2.75           0.06   \n1     2024-02-26            1           0.15          2.32           0.06   \n2     2024-02-26            2           0.15          2.40           0.06   \n3     2024-02-26            3           0.15          2.32           0.06   \n4     2024-02-26            4           0.15          2.35           0.06   \n...          ...          ...            ...           ...            ...   \n1478  2024-02-26         1478           0.16          2.60           0.06   \n1479  2024-02-26         1479           0.17          2.57           0.07   \n1480  2024-02-26         1480           0.16          2.58           0.06   \n1481  2024-02-26         1481           0.15          2.61           0.06   \n1482  2024-02-26         1482           0.16          2.64           0.06   \n\n      Socket 0 AFREQ  Socket 0 L3MISS  Socket 0 L2MISS  Socket 0 L3HIT  \\\n0               1.12             0.09            12.83            0.99   \n1               1.12             0.08            15.45            0.99   \n2               1.12             0.08            15.83            1.00   \n3               1.12             0.09            15.47            0.99   \n4               1.12             0.07            15.62            1.00   \n...              ...              ...              ...             ...   \n1478            1.12             0.05            18.68            1.00   \n1479            1.12             0.03            18.73            1.00   \n1480            1.12             0.07            18.44            1.00   \n1481            1.12             0.03            18.37            1.00   \n1482            1.12             0.03            18.90            1.00   \n\n      Socket 0 L2HIT  ...  Core (Socket) C6res%  Core (Socket) C7res%  \\\n0               0.27  ...                   0.0                   0.0   \n1               0.37  ...                   0.0                   0.0   \n2               0.37  ...                   0.0                   0.0   \n3               0.39  ...                   0.0                   0.0   \n4               0.39  ...                   0.0                   0.0   \n...              ...  ...                   ...                   ...   \n1478            0.34  ...                   0.0                   0.0   \n1479            0.38  ...                   0.0                   0.0   \n1480            0.34  ...                   0.0                   0.0   \n1481            0.28  ...                   0.0                   0.0   \n1482            0.30  ...                   0.0                   0.0   \n\n      Core (Socket) TEMP  Core (Socket) INST  Core (Socket) ACYC  \\\n0                     49             1425.00              455.27   \n1                     49             1125.87              405.15   \n2                     49             1144.18              405.30   \n3                     48             1101.78              401.08   \n4                     47             1107.31              398.45   \n...                  ...                 ...                 ...   \n1478                  36             1158.08              407.88   \n1479                  36             1165.35              412.50   \n1480                  36             1193.54              411.95   \n1481                  36             1134.46              402.04   \n1482                  36             1186.63              415.68   \n\n      Core (Socket) TIME(ticks)  Core (Socket) PhysIPC  \\\n0                       2599.04                   6.26   \n1                       2595.90                   5.56   \n2                       2598.07                   5.65   \n3                       2598.13                   5.49   \n4                       2595.52                   5.56   \n...                         ...                    ...   \n1478                    2598.10                   5.68   \n1479                    2595.53                   5.65   \n1480                    2595.47                   5.79   \n1481                    2598.54                   5.64   \n1482                    2595.78                   5.71   \n\n      Core (Socket) PhysIPC%  Core (Socket) INSTnom  Core (Socket) INSTnom%  \n0                     156.50                   1.10                   27.41  \n1                     138.94                   0.87                   21.69  \n2                     141.15                   0.88                   22.02  \n3                     137.35                   0.85                   21.20  \n4                     138.95                   0.85                   21.33  \n...                      ...                    ...                     ...  \n1478                  141.96                   0.89                   22.29  \n1479                  141.25                   0.90                   22.45  \n1480                  144.86                   0.92                   22.99  \n1481                  141.09                   0.87                   21.83  \n1482                  142.73                   0.91                   22.86  \n\n[1483 rows x 98 columns]",
      "text/html": "<div>\n<style scoped>\n    .dataframe tbody tr th:only-of-type {\n        vertical-align: middle;\n    }\n\n    .dataframe tbody tr th {\n        vertical-align: top;\n    }\n\n    .dataframe thead th {\n        text-align: right;\n    }\n</style>\n<table border=\"1\" class=\"dataframe\">\n  <thead>\n    <tr style=\"text-align: right;\">\n      <th></th>\n      <th>System Date</th>\n      <th>System Time</th>\n      <th>Socket 0 EXEC</th>\n      <th>Socket 0 IPC</th>\n      <th>Socket 0 FREQ</th>\n      <th>Socket 0 AFREQ</th>\n      <th>Socket 0 L3MISS</th>\n      <th>Socket 0 L2MISS</th>\n      <th>Socket 0 L3HIT</th>\n      <th>Socket 0 L2HIT</th>\n      <th>...</th>\n      <th>Core (Socket) C6res%</th>\n      <th>Core (Socket) C7res%</th>\n      <th>Core (Socket) TEMP</th>\n      <th>Core (Socket) INST</th>\n      <th>Core (Socket) ACYC</th>\n      <th>Core (Socket) TIME(ticks)</th>\n      <th>Core (Socket) PhysIPC</th>\n      <th>Core (Socket) PhysIPC%</th>\n      <th>Core (Socket) INSTnom</th>\n      <th>Core (Socket) INSTnom%</th>\n    </tr>\n  </thead>\n  <tbody>\n    <tr>\n      <th>0</th>\n      <td>2024-02-26</td>\n      <td>0</td>\n      <td>0.17</td>\n      <td>2.75</td>\n      <td>0.06</td>\n      <td>1.12</td>\n      <td>0.09</td>\n      <td>12.83</td>\n      <td>0.99</td>\n      <td>0.27</td>\n      <td>...</td>\n      <td>0.0</td>\n      <td>0.0</td>\n      <td>49</td>\n      <td>1425.00</td>\n      <td>455.27</td>\n      <td>2599.04</td>\n      <td>6.26</td>\n      <td>156.50</td>\n      <td>1.10</td>\n      <td>27.41</td>\n    </tr>\n    <tr>\n      <th>1</th>\n      <td>2024-02-26</td>\n      <td>1</td>\n      <td>0.15</td>\n      <td>2.32</td>\n      <td>0.06</td>\n      <td>1.12</td>\n      <td>0.08</td>\n      <td>15.45</td>\n      <td>0.99</td>\n      <td>0.37</td>\n      <td>...</td>\n      <td>0.0</td>\n      <td>0.0</td>\n      <td>49</td>\n      <td>1125.87</td>\n      <td>405.15</td>\n      <td>2595.90</td>\n      <td>5.56</td>\n      <td>138.94</td>\n      <td>0.87</td>\n      <td>21.69</td>\n    </tr>\n    <tr>\n      <th>2</th>\n      <td>2024-02-26</td>\n      <td>2</td>\n      <td>0.15</td>\n      <td>2.40</td>\n      <td>0.06</td>\n      <td>1.12</td>\n      <td>0.08</td>\n      <td>15.83</td>\n      <td>1.00</td>\n      <td>0.37</td>\n      <td>...</td>\n      <td>0.0</td>\n      <td>0.0</td>\n      <td>49</td>\n      <td>1144.18</td>\n      <td>405.30</td>\n      <td>2598.07</td>\n      <td>5.65</td>\n      <td>141.15</td>\n      <td>0.88</td>\n      <td>22.02</td>\n    </tr>\n    <tr>\n      <th>3</th>\n      <td>2024-02-26</td>\n      <td>3</td>\n      <td>0.15</td>\n      <td>2.32</td>\n      <td>0.06</td>\n      <td>1.12</td>\n      <td>0.09</td>\n      <td>15.47</td>\n      <td>0.99</td>\n      <td>0.39</td>\n      <td>...</td>\n      <td>0.0</td>\n      <td>0.0</td>\n      <td>48</td>\n      <td>1101.78</td>\n      <td>401.08</td>\n      <td>2598.13</td>\n      <td>5.49</td>\n      <td>137.35</td>\n      <td>0.85</td>\n      <td>21.20</td>\n    </tr>\n    <tr>\n      <th>4</th>\n      <td>2024-02-26</td>\n      <td>4</td>\n      <td>0.15</td>\n      <td>2.35</td>\n      <td>0.06</td>\n      <td>1.12</td>\n      <td>0.07</td>\n      <td>15.62</td>\n      <td>1.00</td>\n      <td>0.39</td>\n      <td>...</td>\n      <td>0.0</td>\n      <td>0.0</td>\n      <td>47</td>\n      <td>1107.31</td>\n      <td>398.45</td>\n      <td>2595.52</td>\n      <td>5.56</td>\n      <td>138.95</td>\n      <td>0.85</td>\n      <td>21.33</td>\n    </tr>\n    <tr>\n      <th>...</th>\n      <td>...</td>\n      <td>...</td>\n      <td>...</td>\n      <td>...</td>\n      <td>...</td>\n      <td>...</td>\n      <td>...</td>\n      <td>...</td>\n      <td>...</td>\n      <td>...</td>\n      <td>...</td>\n      <td>...</td>\n      <td>...</td>\n      <td>...</td>\n      <td>...</td>\n      <td>...</td>\n      <td>...</td>\n      <td>...</td>\n      <td>...</td>\n      <td>...</td>\n      <td>...</td>\n    </tr>\n    <tr>\n      <th>1478</th>\n      <td>2024-02-26</td>\n      <td>1478</td>\n      <td>0.16</td>\n      <td>2.60</td>\n      <td>0.06</td>\n      <td>1.12</td>\n      <td>0.05</td>\n      <td>18.68</td>\n      <td>1.00</td>\n      <td>0.34</td>\n      <td>...</td>\n      <td>0.0</td>\n      <td>0.0</td>\n      <td>36</td>\n      <td>1158.08</td>\n      <td>407.88</td>\n      <td>2598.10</td>\n      <td>5.68</td>\n      <td>141.96</td>\n      <td>0.89</td>\n      <td>22.29</td>\n    </tr>\n    <tr>\n      <th>1479</th>\n      <td>2024-02-26</td>\n      <td>1479</td>\n      <td>0.17</td>\n      <td>2.57</td>\n      <td>0.07</td>\n      <td>1.12</td>\n      <td>0.03</td>\n      <td>18.73</td>\n      <td>1.00</td>\n      <td>0.38</td>\n      <td>...</td>\n      <td>0.0</td>\n      <td>0.0</td>\n      <td>36</td>\n      <td>1165.35</td>\n      <td>412.50</td>\n      <td>2595.53</td>\n      <td>5.65</td>\n      <td>141.25</td>\n      <td>0.90</td>\n      <td>22.45</td>\n    </tr>\n    <tr>\n      <th>1480</th>\n      <td>2024-02-26</td>\n      <td>1480</td>\n      <td>0.16</td>\n      <td>2.58</td>\n      <td>0.06</td>\n      <td>1.12</td>\n      <td>0.07</td>\n      <td>18.44</td>\n      <td>1.00</td>\n      <td>0.34</td>\n      <td>...</td>\n      <td>0.0</td>\n      <td>0.0</td>\n      <td>36</td>\n      <td>1193.54</td>\n      <td>411.95</td>\n      <td>2595.47</td>\n      <td>5.79</td>\n      <td>144.86</td>\n      <td>0.92</td>\n      <td>22.99</td>\n    </tr>\n    <tr>\n      <th>1481</th>\n      <td>2024-02-26</td>\n      <td>1481</td>\n      <td>0.15</td>\n      <td>2.61</td>\n      <td>0.06</td>\n      <td>1.12</td>\n      <td>0.03</td>\n      <td>18.37</td>\n      <td>1.00</td>\n      <td>0.28</td>\n      <td>...</td>\n      <td>0.0</td>\n      <td>0.0</td>\n      <td>36</td>\n      <td>1134.46</td>\n      <td>402.04</td>\n      <td>2598.54</td>\n      <td>5.64</td>\n      <td>141.09</td>\n      <td>0.87</td>\n      <td>21.83</td>\n    </tr>\n    <tr>\n      <th>1482</th>\n      <td>2024-02-26</td>\n      <td>1482</td>\n      <td>0.16</td>\n      <td>2.64</td>\n      <td>0.06</td>\n      <td>1.12</td>\n      <td>0.03</td>\n      <td>18.90</td>\n      <td>1.00</td>\n      <td>0.30</td>\n      <td>...</td>\n      <td>0.0</td>\n      <td>0.0</td>\n      <td>36</td>\n      <td>1186.63</td>\n      <td>415.68</td>\n      <td>2595.78</td>\n      <td>5.71</td>\n      <td>142.73</td>\n      <td>0.91</td>\n      <td>22.86</td>\n    </tr>\n  </tbody>\n</table>\n<p>1483 rows × 98 columns</p>\n</div>"
     },
     "execution_count": 236,
     "metadata": {},
     "output_type": "execute_result"
    }
   ],
   "source": [
    "data_time_interpolate(get_pcm_data_2headers(exp_type, test_exp_num, \"bridge-pcm.csv\"))"
   ],
   "metadata": {
    "collapsed": false,
    "ExecuteTime": {
     "end_time": "2024-03-05T07:31:19.740628Z",
     "start_time": "2024-03-05T07:31:19.701846Z"
    }
   },
   "id": "e03af1742be84dfc",
   "execution_count": 236
  },
  {
   "cell_type": "code",
   "outputs": [
    {
     "data": {
      "text/plain": "     System Date  System Time  SKT0 Ch0Read  SKT0 Ch0Write  SKT0 Ch1Read  \\\n0     2024-02-26            0        148.94         207.59        543.79   \n1     2024-02-26            1        153.33         212.78        563.77   \n2     2024-02-26            2        151.62         209.93        559.26   \n3     2024-02-26            3        149.99         206.26        554.59   \n4     2024-02-26            4        148.97         205.01        550.76   \n...          ...          ...           ...            ...           ...   \n1478  2024-02-26         1478         74.90         150.58        267.02   \n1479  2024-02-26         1479         84.39         162.86        297.82   \n1480  2024-02-26         1480         80.34         162.15        284.61   \n1481  2024-02-26         1481         75.01         151.83        266.82   \n1482  2024-02-26         1482         75.68         152.76        269.56   \n\n      SKT0 Ch1Write  SKT0 Mem Read (MB/s)  SKT0 Mem Write (MB/s)  \\\n0            403.84                692.73                 611.43   \n1            417.56                717.11                 630.35   \n2            413.68                710.88                 623.62   \n3            408.73                704.58                 614.99   \n4            406.23                699.73                 611.24   \n...             ...                   ...                    ...   \n1478         253.25                341.92                 403.83   \n1479         276.33                382.21                 439.19   \n1480         271.44                364.95                 433.59   \n1481         254.68                341.84                 406.51   \n1482         256.33                345.24                 409.09   \n\n      SKT0 P. Write (T/s)  SKT0 Memory (MB/s)  ...  SKT1 Ch0Write  \\\n0              2012765306             1304.16  ...           8.87   \n1              2133370598             1347.45  ...           6.83   \n2              2133103792             1334.49  ...           6.71   \n3              2133069675             1319.57  ...           5.60   \n4              2132932266             1310.97  ...           6.64   \n...                   ...                 ...  ...            ...   \n1478           2132420003              745.74  ...           5.21   \n1479           2132642497              821.40  ...          17.74   \n1480           2134862016              798.54  ...           8.89   \n1481           2132497060              748.34  ...           5.57   \n1482           2133259365              754.33  ...           6.18   \n\n      SKT1 Ch1Read  SKT1 Ch1Write  SKT1 Mem Read (MB/s)  \\\n0           217.83           5.66                437.66   \n1           217.89           3.40                437.76   \n2           215.18           3.26                432.96   \n3           208.51           2.16                419.94   \n4           208.07           3.21                418.69   \n...            ...            ...                   ...   \n1478        182.07           1.83                367.06   \n1479        205.35          14.33                413.11   \n1480        204.62           5.45                412.32   \n1481        190.93           2.18                384.04   \n1482        189.87           2.76                381.93   \n\n      SKT1 Mem Write (MB/s)  SKT1 P. Write (T/s)  SKT1 Memory (MB/s)  \\\n0                     14.54           2012999134              452.20   \n1                     10.23           2133483506              448.00   \n2                      9.97           2132962705              442.93   \n3                      7.76           2133134684              427.70   \n4                      9.85           2132809241              428.54   \n...                     ...                  ...                 ...   \n1478                   7.04           2132475102              374.10   \n1479                  32.06           2132734473              445.18   \n1480                  14.34           2134805364              426.65   \n1481                   7.75           2132438267              391.79   \n1482                   8.94           2133146621              390.88   \n\n      System Read  System Write  System Memory  \n0         1130.39        625.97        1756.36  \n1         1154.87        640.58        1795.45  \n2         1143.84        633.58        1777.42  \n3         1124.52        622.75        1747.27  \n4         1118.42        621.09        1739.51  \n...           ...           ...            ...  \n1478       708.97        410.87        1119.85  \n1479       795.32        471.25        1266.57  \n1480       777.27        447.93        1225.20  \n1481       725.87        414.26        1140.13  \n1482       727.17        418.03        1145.20  \n\n[1483 rows x 21 columns]",
      "text/html": "<div>\n<style scoped>\n    .dataframe tbody tr th:only-of-type {\n        vertical-align: middle;\n    }\n\n    .dataframe tbody tr th {\n        vertical-align: top;\n    }\n\n    .dataframe thead th {\n        text-align: right;\n    }\n</style>\n<table border=\"1\" class=\"dataframe\">\n  <thead>\n    <tr style=\"text-align: right;\">\n      <th></th>\n      <th>System Date</th>\n      <th>System Time</th>\n      <th>SKT0 Ch0Read</th>\n      <th>SKT0 Ch0Write</th>\n      <th>SKT0 Ch1Read</th>\n      <th>SKT0 Ch1Write</th>\n      <th>SKT0 Mem Read (MB/s)</th>\n      <th>SKT0 Mem Write (MB/s)</th>\n      <th>SKT0 P. Write (T/s)</th>\n      <th>SKT0 Memory (MB/s)</th>\n      <th>...</th>\n      <th>SKT1 Ch0Write</th>\n      <th>SKT1 Ch1Read</th>\n      <th>SKT1 Ch1Write</th>\n      <th>SKT1 Mem Read (MB/s)</th>\n      <th>SKT1 Mem Write (MB/s)</th>\n      <th>SKT1 P. Write (T/s)</th>\n      <th>SKT1 Memory (MB/s)</th>\n      <th>System Read</th>\n      <th>System Write</th>\n      <th>System Memory</th>\n    </tr>\n  </thead>\n  <tbody>\n    <tr>\n      <th>0</th>\n      <td>2024-02-26</td>\n      <td>0</td>\n      <td>148.94</td>\n      <td>207.59</td>\n      <td>543.79</td>\n      <td>403.84</td>\n      <td>692.73</td>\n      <td>611.43</td>\n      <td>2012765306</td>\n      <td>1304.16</td>\n      <td>...</td>\n      <td>8.87</td>\n      <td>217.83</td>\n      <td>5.66</td>\n      <td>437.66</td>\n      <td>14.54</td>\n      <td>2012999134</td>\n      <td>452.20</td>\n      <td>1130.39</td>\n      <td>625.97</td>\n      <td>1756.36</td>\n    </tr>\n    <tr>\n      <th>1</th>\n      <td>2024-02-26</td>\n      <td>1</td>\n      <td>153.33</td>\n      <td>212.78</td>\n      <td>563.77</td>\n      <td>417.56</td>\n      <td>717.11</td>\n      <td>630.35</td>\n      <td>2133370598</td>\n      <td>1347.45</td>\n      <td>...</td>\n      <td>6.83</td>\n      <td>217.89</td>\n      <td>3.40</td>\n      <td>437.76</td>\n      <td>10.23</td>\n      <td>2133483506</td>\n      <td>448.00</td>\n      <td>1154.87</td>\n      <td>640.58</td>\n      <td>1795.45</td>\n    </tr>\n    <tr>\n      <th>2</th>\n      <td>2024-02-26</td>\n      <td>2</td>\n      <td>151.62</td>\n      <td>209.93</td>\n      <td>559.26</td>\n      <td>413.68</td>\n      <td>710.88</td>\n      <td>623.62</td>\n      <td>2133103792</td>\n      <td>1334.49</td>\n      <td>...</td>\n      <td>6.71</td>\n      <td>215.18</td>\n      <td>3.26</td>\n      <td>432.96</td>\n      <td>9.97</td>\n      <td>2132962705</td>\n      <td>442.93</td>\n      <td>1143.84</td>\n      <td>633.58</td>\n      <td>1777.42</td>\n    </tr>\n    <tr>\n      <th>3</th>\n      <td>2024-02-26</td>\n      <td>3</td>\n      <td>149.99</td>\n      <td>206.26</td>\n      <td>554.59</td>\n      <td>408.73</td>\n      <td>704.58</td>\n      <td>614.99</td>\n      <td>2133069675</td>\n      <td>1319.57</td>\n      <td>...</td>\n      <td>5.60</td>\n      <td>208.51</td>\n      <td>2.16</td>\n      <td>419.94</td>\n      <td>7.76</td>\n      <td>2133134684</td>\n      <td>427.70</td>\n      <td>1124.52</td>\n      <td>622.75</td>\n      <td>1747.27</td>\n    </tr>\n    <tr>\n      <th>4</th>\n      <td>2024-02-26</td>\n      <td>4</td>\n      <td>148.97</td>\n      <td>205.01</td>\n      <td>550.76</td>\n      <td>406.23</td>\n      <td>699.73</td>\n      <td>611.24</td>\n      <td>2132932266</td>\n      <td>1310.97</td>\n      <td>...</td>\n      <td>6.64</td>\n      <td>208.07</td>\n      <td>3.21</td>\n      <td>418.69</td>\n      <td>9.85</td>\n      <td>2132809241</td>\n      <td>428.54</td>\n      <td>1118.42</td>\n      <td>621.09</td>\n      <td>1739.51</td>\n    </tr>\n    <tr>\n      <th>...</th>\n      <td>...</td>\n      <td>...</td>\n      <td>...</td>\n      <td>...</td>\n      <td>...</td>\n      <td>...</td>\n      <td>...</td>\n      <td>...</td>\n      <td>...</td>\n      <td>...</td>\n      <td>...</td>\n      <td>...</td>\n      <td>...</td>\n      <td>...</td>\n      <td>...</td>\n      <td>...</td>\n      <td>...</td>\n      <td>...</td>\n      <td>...</td>\n      <td>...</td>\n      <td>...</td>\n    </tr>\n    <tr>\n      <th>1478</th>\n      <td>2024-02-26</td>\n      <td>1478</td>\n      <td>74.90</td>\n      <td>150.58</td>\n      <td>267.02</td>\n      <td>253.25</td>\n      <td>341.92</td>\n      <td>403.83</td>\n      <td>2132420003</td>\n      <td>745.74</td>\n      <td>...</td>\n      <td>5.21</td>\n      <td>182.07</td>\n      <td>1.83</td>\n      <td>367.06</td>\n      <td>7.04</td>\n      <td>2132475102</td>\n      <td>374.10</td>\n      <td>708.97</td>\n      <td>410.87</td>\n      <td>1119.85</td>\n    </tr>\n    <tr>\n      <th>1479</th>\n      <td>2024-02-26</td>\n      <td>1479</td>\n      <td>84.39</td>\n      <td>162.86</td>\n      <td>297.82</td>\n      <td>276.33</td>\n      <td>382.21</td>\n      <td>439.19</td>\n      <td>2132642497</td>\n      <td>821.40</td>\n      <td>...</td>\n      <td>17.74</td>\n      <td>205.35</td>\n      <td>14.33</td>\n      <td>413.11</td>\n      <td>32.06</td>\n      <td>2132734473</td>\n      <td>445.18</td>\n      <td>795.32</td>\n      <td>471.25</td>\n      <td>1266.57</td>\n    </tr>\n    <tr>\n      <th>1480</th>\n      <td>2024-02-26</td>\n      <td>1480</td>\n      <td>80.34</td>\n      <td>162.15</td>\n      <td>284.61</td>\n      <td>271.44</td>\n      <td>364.95</td>\n      <td>433.59</td>\n      <td>2134862016</td>\n      <td>798.54</td>\n      <td>...</td>\n      <td>8.89</td>\n      <td>204.62</td>\n      <td>5.45</td>\n      <td>412.32</td>\n      <td>14.34</td>\n      <td>2134805364</td>\n      <td>426.65</td>\n      <td>777.27</td>\n      <td>447.93</td>\n      <td>1225.20</td>\n    </tr>\n    <tr>\n      <th>1481</th>\n      <td>2024-02-26</td>\n      <td>1481</td>\n      <td>75.01</td>\n      <td>151.83</td>\n      <td>266.82</td>\n      <td>254.68</td>\n      <td>341.84</td>\n      <td>406.51</td>\n      <td>2132497060</td>\n      <td>748.34</td>\n      <td>...</td>\n      <td>5.57</td>\n      <td>190.93</td>\n      <td>2.18</td>\n      <td>384.04</td>\n      <td>7.75</td>\n      <td>2132438267</td>\n      <td>391.79</td>\n      <td>725.87</td>\n      <td>414.26</td>\n      <td>1140.13</td>\n    </tr>\n    <tr>\n      <th>1482</th>\n      <td>2024-02-26</td>\n      <td>1482</td>\n      <td>75.68</td>\n      <td>152.76</td>\n      <td>269.56</td>\n      <td>256.33</td>\n      <td>345.24</td>\n      <td>409.09</td>\n      <td>2133259365</td>\n      <td>754.33</td>\n      <td>...</td>\n      <td>6.18</td>\n      <td>189.87</td>\n      <td>2.76</td>\n      <td>381.93</td>\n      <td>8.94</td>\n      <td>2133146621</td>\n      <td>390.88</td>\n      <td>727.17</td>\n      <td>418.03</td>\n      <td>1145.20</td>\n    </tr>\n  </tbody>\n</table>\n<p>1483 rows × 21 columns</p>\n</div>"
     },
     "execution_count": 237,
     "metadata": {},
     "output_type": "execute_result"
    }
   ],
   "source": [
    "data_time_interpolate(get_pcm_data_memory(exp_type, test_exp_num, \"pcm-memory.csv\"))"
   ],
   "metadata": {
    "collapsed": false,
    "ExecuteTime": {
     "end_time": "2024-03-05T07:31:19.772254Z",
     "start_time": "2024-03-05T07:31:19.741632Z"
    }
   },
   "id": "5e295397e7f3002f",
   "execution_count": 237
  },
  {
   "cell_type": "code",
   "outputs": [],
   "source": [
    "def add_header_prefix(data, prefix):\n",
    "    data.columns = [prefix + \" \" + i if i != \"System Time\" and i != \"System Date\" else i for i in data.columns]\n",
    "    return data"
   ],
   "metadata": {
    "collapsed": false,
    "ExecuteTime": {
     "end_time": "2024-03-05T07:31:19.817562Z",
     "start_time": "2024-03-05T07:31:19.797660Z"
    }
   },
   "id": "bda292494d16cb3c",
   "execution_count": 238
  },
  {
   "cell_type": "code",
   "outputs": [
    {
     "data": {
      "text/plain": "     System Date  System Time  bridge Socket 0 EXEC  bridge Socket 0 IPC  \\\n0     2024-02-26            0                  0.17                 2.75   \n1     2024-02-26            1                  0.15                 2.32   \n2     2024-02-26            2                  0.15                 2.40   \n3     2024-02-26            3                  0.15                 2.32   \n4     2024-02-26            4                  0.15                 2.35   \n...          ...          ...                   ...                  ...   \n1478  2024-02-26         1478                  0.16                 2.60   \n1479  2024-02-26         1479                  0.17                 2.57   \n1480  2024-02-26         1480                  0.16                 2.58   \n1481  2024-02-26         1481                  0.15                 2.61   \n1482  2024-02-26         1482                  0.16                 2.64   \n\n      bridge Socket 0 FREQ  bridge Socket 0 AFREQ  bridge Socket 0 L3MISS  \\\n0                     0.06                   1.12                    0.09   \n1                     0.06                   1.12                    0.08   \n2                     0.06                   1.12                    0.08   \n3                     0.06                   1.12                    0.09   \n4                     0.06                   1.12                    0.07   \n...                    ...                    ...                     ...   \n1478                  0.06                   1.12                    0.05   \n1479                  0.07                   1.12                    0.03   \n1480                  0.06                   1.12                    0.07   \n1481                  0.06                   1.12                    0.03   \n1482                  0.06                   1.12                    0.03   \n\n      bridge Socket 0 L2MISS  bridge Socket 0 L3HIT  bridge Socket 0 L2HIT  \\\n0                      12.83                   0.99                   0.27   \n1                      15.45                   0.99                   0.37   \n2                      15.83                   1.00                   0.37   \n3                      15.47                   0.99                   0.39   \n4                      15.62                   1.00                   0.39   \n...                      ...                    ...                    ...   \n1478                   18.68                   1.00                   0.34   \n1479                   18.73                   1.00                   0.38   \n1480                   18.44                   1.00                   0.34   \n1481                   18.37                   1.00                   0.28   \n1482                   18.90                   1.00                   0.30   \n\n      ...  bridge Core (Socket) C6res%  bridge Core (Socket) C7res%  \\\n0     ...                          0.0                          0.0   \n1     ...                          0.0                          0.0   \n2     ...                          0.0                          0.0   \n3     ...                          0.0                          0.0   \n4     ...                          0.0                          0.0   \n...   ...                          ...                          ...   \n1478  ...                          0.0                          0.0   \n1479  ...                          0.0                          0.0   \n1480  ...                          0.0                          0.0   \n1481  ...                          0.0                          0.0   \n1482  ...                          0.0                          0.0   \n\n      bridge Core (Socket) TEMP  bridge Core (Socket) INST  \\\n0                            49                    1425.00   \n1                            49                    1125.87   \n2                            49                    1144.18   \n3                            48                    1101.78   \n4                            47                    1107.31   \n...                         ...                        ...   \n1478                         36                    1158.08   \n1479                         36                    1165.35   \n1480                         36                    1193.54   \n1481                         36                    1134.46   \n1482                         36                    1186.63   \n\n      bridge Core (Socket) ACYC  bridge Core (Socket) TIME(ticks)  \\\n0                        455.27                           2599.04   \n1                        405.15                           2595.90   \n2                        405.30                           2598.07   \n3                        401.08                           2598.13   \n4                        398.45                           2595.52   \n...                         ...                               ...   \n1478                     407.88                           2598.10   \n1479                     412.50                           2595.53   \n1480                     411.95                           2595.47   \n1481                     402.04                           2598.54   \n1482                     415.68                           2595.78   \n\n      bridge Core (Socket) PhysIPC  bridge Core (Socket) PhysIPC%  \\\n0                             6.26                         156.50   \n1                             5.56                         138.94   \n2                             5.65                         141.15   \n3                             5.49                         137.35   \n4                             5.56                         138.95   \n...                            ...                            ...   \n1478                          5.68                         141.96   \n1479                          5.65                         141.25   \n1480                          5.79                         144.86   \n1481                          5.64                         141.09   \n1482                          5.71                         142.73   \n\n      bridge Core (Socket) INSTnom  bridge Core (Socket) INSTnom%  \n0                             1.10                          27.41  \n1                             0.87                          21.69  \n2                             0.88                          22.02  \n3                             0.85                          21.20  \n4                             0.85                          21.33  \n...                            ...                            ...  \n1478                          0.89                          22.29  \n1479                          0.90                          22.45  \n1480                          0.92                          22.99  \n1481                          0.87                          21.83  \n1482                          0.91                          22.86  \n\n[1483 rows x 98 columns]",
      "text/html": "<div>\n<style scoped>\n    .dataframe tbody tr th:only-of-type {\n        vertical-align: middle;\n    }\n\n    .dataframe tbody tr th {\n        vertical-align: top;\n    }\n\n    .dataframe thead th {\n        text-align: right;\n    }\n</style>\n<table border=\"1\" class=\"dataframe\">\n  <thead>\n    <tr style=\"text-align: right;\">\n      <th></th>\n      <th>System Date</th>\n      <th>System Time</th>\n      <th>bridge Socket 0 EXEC</th>\n      <th>bridge Socket 0 IPC</th>\n      <th>bridge Socket 0 FREQ</th>\n      <th>bridge Socket 0 AFREQ</th>\n      <th>bridge Socket 0 L3MISS</th>\n      <th>bridge Socket 0 L2MISS</th>\n      <th>bridge Socket 0 L3HIT</th>\n      <th>bridge Socket 0 L2HIT</th>\n      <th>...</th>\n      <th>bridge Core (Socket) C6res%</th>\n      <th>bridge Core (Socket) C7res%</th>\n      <th>bridge Core (Socket) TEMP</th>\n      <th>bridge Core (Socket) INST</th>\n      <th>bridge Core (Socket) ACYC</th>\n      <th>bridge Core (Socket) TIME(ticks)</th>\n      <th>bridge Core (Socket) PhysIPC</th>\n      <th>bridge Core (Socket) PhysIPC%</th>\n      <th>bridge Core (Socket) INSTnom</th>\n      <th>bridge Core (Socket) INSTnom%</th>\n    </tr>\n  </thead>\n  <tbody>\n    <tr>\n      <th>0</th>\n      <td>2024-02-26</td>\n      <td>0</td>\n      <td>0.17</td>\n      <td>2.75</td>\n      <td>0.06</td>\n      <td>1.12</td>\n      <td>0.09</td>\n      <td>12.83</td>\n      <td>0.99</td>\n      <td>0.27</td>\n      <td>...</td>\n      <td>0.0</td>\n      <td>0.0</td>\n      <td>49</td>\n      <td>1425.00</td>\n      <td>455.27</td>\n      <td>2599.04</td>\n      <td>6.26</td>\n      <td>156.50</td>\n      <td>1.10</td>\n      <td>27.41</td>\n    </tr>\n    <tr>\n      <th>1</th>\n      <td>2024-02-26</td>\n      <td>1</td>\n      <td>0.15</td>\n      <td>2.32</td>\n      <td>0.06</td>\n      <td>1.12</td>\n      <td>0.08</td>\n      <td>15.45</td>\n      <td>0.99</td>\n      <td>0.37</td>\n      <td>...</td>\n      <td>0.0</td>\n      <td>0.0</td>\n      <td>49</td>\n      <td>1125.87</td>\n      <td>405.15</td>\n      <td>2595.90</td>\n      <td>5.56</td>\n      <td>138.94</td>\n      <td>0.87</td>\n      <td>21.69</td>\n    </tr>\n    <tr>\n      <th>2</th>\n      <td>2024-02-26</td>\n      <td>2</td>\n      <td>0.15</td>\n      <td>2.40</td>\n      <td>0.06</td>\n      <td>1.12</td>\n      <td>0.08</td>\n      <td>15.83</td>\n      <td>1.00</td>\n      <td>0.37</td>\n      <td>...</td>\n      <td>0.0</td>\n      <td>0.0</td>\n      <td>49</td>\n      <td>1144.18</td>\n      <td>405.30</td>\n      <td>2598.07</td>\n      <td>5.65</td>\n      <td>141.15</td>\n      <td>0.88</td>\n      <td>22.02</td>\n    </tr>\n    <tr>\n      <th>3</th>\n      <td>2024-02-26</td>\n      <td>3</td>\n      <td>0.15</td>\n      <td>2.32</td>\n      <td>0.06</td>\n      <td>1.12</td>\n      <td>0.09</td>\n      <td>15.47</td>\n      <td>0.99</td>\n      <td>0.39</td>\n      <td>...</td>\n      <td>0.0</td>\n      <td>0.0</td>\n      <td>48</td>\n      <td>1101.78</td>\n      <td>401.08</td>\n      <td>2598.13</td>\n      <td>5.49</td>\n      <td>137.35</td>\n      <td>0.85</td>\n      <td>21.20</td>\n    </tr>\n    <tr>\n      <th>4</th>\n      <td>2024-02-26</td>\n      <td>4</td>\n      <td>0.15</td>\n      <td>2.35</td>\n      <td>0.06</td>\n      <td>1.12</td>\n      <td>0.07</td>\n      <td>15.62</td>\n      <td>1.00</td>\n      <td>0.39</td>\n      <td>...</td>\n      <td>0.0</td>\n      <td>0.0</td>\n      <td>47</td>\n      <td>1107.31</td>\n      <td>398.45</td>\n      <td>2595.52</td>\n      <td>5.56</td>\n      <td>138.95</td>\n      <td>0.85</td>\n      <td>21.33</td>\n    </tr>\n    <tr>\n      <th>...</th>\n      <td>...</td>\n      <td>...</td>\n      <td>...</td>\n      <td>...</td>\n      <td>...</td>\n      <td>...</td>\n      <td>...</td>\n      <td>...</td>\n      <td>...</td>\n      <td>...</td>\n      <td>...</td>\n      <td>...</td>\n      <td>...</td>\n      <td>...</td>\n      <td>...</td>\n      <td>...</td>\n      <td>...</td>\n      <td>...</td>\n      <td>...</td>\n      <td>...</td>\n      <td>...</td>\n    </tr>\n    <tr>\n      <th>1478</th>\n      <td>2024-02-26</td>\n      <td>1478</td>\n      <td>0.16</td>\n      <td>2.60</td>\n      <td>0.06</td>\n      <td>1.12</td>\n      <td>0.05</td>\n      <td>18.68</td>\n      <td>1.00</td>\n      <td>0.34</td>\n      <td>...</td>\n      <td>0.0</td>\n      <td>0.0</td>\n      <td>36</td>\n      <td>1158.08</td>\n      <td>407.88</td>\n      <td>2598.10</td>\n      <td>5.68</td>\n      <td>141.96</td>\n      <td>0.89</td>\n      <td>22.29</td>\n    </tr>\n    <tr>\n      <th>1479</th>\n      <td>2024-02-26</td>\n      <td>1479</td>\n      <td>0.17</td>\n      <td>2.57</td>\n      <td>0.07</td>\n      <td>1.12</td>\n      <td>0.03</td>\n      <td>18.73</td>\n      <td>1.00</td>\n      <td>0.38</td>\n      <td>...</td>\n      <td>0.0</td>\n      <td>0.0</td>\n      <td>36</td>\n      <td>1165.35</td>\n      <td>412.50</td>\n      <td>2595.53</td>\n      <td>5.65</td>\n      <td>141.25</td>\n      <td>0.90</td>\n      <td>22.45</td>\n    </tr>\n    <tr>\n      <th>1480</th>\n      <td>2024-02-26</td>\n      <td>1480</td>\n      <td>0.16</td>\n      <td>2.58</td>\n      <td>0.06</td>\n      <td>1.12</td>\n      <td>0.07</td>\n      <td>18.44</td>\n      <td>1.00</td>\n      <td>0.34</td>\n      <td>...</td>\n      <td>0.0</td>\n      <td>0.0</td>\n      <td>36</td>\n      <td>1193.54</td>\n      <td>411.95</td>\n      <td>2595.47</td>\n      <td>5.79</td>\n      <td>144.86</td>\n      <td>0.92</td>\n      <td>22.99</td>\n    </tr>\n    <tr>\n      <th>1481</th>\n      <td>2024-02-26</td>\n      <td>1481</td>\n      <td>0.15</td>\n      <td>2.61</td>\n      <td>0.06</td>\n      <td>1.12</td>\n      <td>0.03</td>\n      <td>18.37</td>\n      <td>1.00</td>\n      <td>0.28</td>\n      <td>...</td>\n      <td>0.0</td>\n      <td>0.0</td>\n      <td>36</td>\n      <td>1134.46</td>\n      <td>402.04</td>\n      <td>2598.54</td>\n      <td>5.64</td>\n      <td>141.09</td>\n      <td>0.87</td>\n      <td>21.83</td>\n    </tr>\n    <tr>\n      <th>1482</th>\n      <td>2024-02-26</td>\n      <td>1482</td>\n      <td>0.16</td>\n      <td>2.64</td>\n      <td>0.06</td>\n      <td>1.12</td>\n      <td>0.03</td>\n      <td>18.90</td>\n      <td>1.00</td>\n      <td>0.30</td>\n      <td>...</td>\n      <td>0.0</td>\n      <td>0.0</td>\n      <td>36</td>\n      <td>1186.63</td>\n      <td>415.68</td>\n      <td>2595.78</td>\n      <td>5.71</td>\n      <td>142.73</td>\n      <td>0.91</td>\n      <td>22.86</td>\n    </tr>\n  </tbody>\n</table>\n<p>1483 rows × 98 columns</p>\n</div>"
     },
     "execution_count": 239,
     "metadata": {},
     "output_type": "execute_result"
    }
   ],
   "source": [
    "add_header_prefix(\n",
    "    data_time_interpolate(\n",
    "        get_pcm_data_2headers(exp_type, test_exp_num, \"bridge-pcm.csv\")\n",
    "    ),\n",
    "    \"bridge\"\n",
    ")"
   ],
   "metadata": {
    "collapsed": false,
    "ExecuteTime": {
     "end_time": "2024-03-05T07:31:19.894682Z",
     "start_time": "2024-03-05T07:31:19.856835Z"
    }
   },
   "id": "52a22d70449bf4aa",
   "execution_count": 239
  },
  {
   "cell_type": "code",
   "outputs": [
    {
     "data": {
      "text/plain": "     System Date  System Time  memory SKT0 Ch0Read  memory SKT0 Ch0Write  \\\n0     2024-02-26            0               148.94                207.59   \n1     2024-02-26            1               153.33                212.78   \n2     2024-02-26            2               151.62                209.93   \n3     2024-02-26            3               149.99                206.26   \n4     2024-02-26            4               148.97                205.01   \n...          ...          ...                  ...                   ...   \n1478  2024-02-26         1478                74.90                150.58   \n1479  2024-02-26         1479                84.39                162.86   \n1480  2024-02-26         1480                80.34                162.15   \n1481  2024-02-26         1481                75.01                151.83   \n1482  2024-02-26         1482                75.68                152.76   \n\n      memory SKT0 Ch1Read  memory SKT0 Ch1Write  memory SKT0 Mem Read (MB/s)  \\\n0                  543.79                403.84                       692.73   \n1                  563.77                417.56                       717.11   \n2                  559.26                413.68                       710.88   \n3                  554.59                408.73                       704.58   \n4                  550.76                406.23                       699.73   \n...                   ...                   ...                          ...   \n1478               267.02                253.25                       341.92   \n1479               297.82                276.33                       382.21   \n1480               284.61                271.44                       364.95   \n1481               266.82                254.68                       341.84   \n1482               269.56                256.33                       345.24   \n\n      memory SKT0 Mem Write (MB/s)  memory SKT0 P. Write (T/s)  \\\n0                           611.43                  2012765306   \n1                           630.35                  2133370598   \n2                           623.62                  2133103792   \n3                           614.99                  2133069675   \n4                           611.24                  2132932266   \n...                            ...                         ...   \n1478                        403.83                  2132420003   \n1479                        439.19                  2132642497   \n1480                        433.59                  2134862016   \n1481                        406.51                  2132497060   \n1482                        409.09                  2133259365   \n\n      memory SKT0 Memory (MB/s)  ...  memory SKT1 Ch0Write  \\\n0                       1304.16  ...                  8.87   \n1                       1347.45  ...                  6.83   \n2                       1334.49  ...                  6.71   \n3                       1319.57  ...                  5.60   \n4                       1310.97  ...                  6.64   \n...                         ...  ...                   ...   \n1478                     745.74  ...                  5.21   \n1479                     821.40  ...                 17.74   \n1480                     798.54  ...                  8.89   \n1481                     748.34  ...                  5.57   \n1482                     754.33  ...                  6.18   \n\n      memory SKT1 Ch1Read  memory SKT1 Ch1Write  memory SKT1 Mem Read (MB/s)  \\\n0                  217.83                  5.66                       437.66   \n1                  217.89                  3.40                       437.76   \n2                  215.18                  3.26                       432.96   \n3                  208.51                  2.16                       419.94   \n4                  208.07                  3.21                       418.69   \n...                   ...                   ...                          ...   \n1478               182.07                  1.83                       367.06   \n1479               205.35                 14.33                       413.11   \n1480               204.62                  5.45                       412.32   \n1481               190.93                  2.18                       384.04   \n1482               189.87                  2.76                       381.93   \n\n      memory SKT1 Mem Write (MB/s)  memory SKT1 P. Write (T/s)  \\\n0                            14.54                  2012999134   \n1                            10.23                  2133483506   \n2                             9.97                  2132962705   \n3                             7.76                  2133134684   \n4                             9.85                  2132809241   \n...                            ...                         ...   \n1478                          7.04                  2132475102   \n1479                         32.06                  2132734473   \n1480                         14.34                  2134805364   \n1481                          7.75                  2132438267   \n1482                          8.94                  2133146621   \n\n      memory SKT1 Memory (MB/s)  memory System Read  memory System Write  \\\n0                        452.20             1130.39               625.97   \n1                        448.00             1154.87               640.58   \n2                        442.93             1143.84               633.58   \n3                        427.70             1124.52               622.75   \n4                        428.54             1118.42               621.09   \n...                         ...                 ...                  ...   \n1478                     374.10              708.97               410.87   \n1479                     445.18              795.32               471.25   \n1480                     426.65              777.27               447.93   \n1481                     391.79              725.87               414.26   \n1482                     390.88              727.17               418.03   \n\n      memory System Memory  \n0                  1756.36  \n1                  1795.45  \n2                  1777.42  \n3                  1747.27  \n4                  1739.51  \n...                    ...  \n1478               1119.85  \n1479               1266.57  \n1480               1225.20  \n1481               1140.13  \n1482               1145.20  \n\n[1483 rows x 21 columns]",
      "text/html": "<div>\n<style scoped>\n    .dataframe tbody tr th:only-of-type {\n        vertical-align: middle;\n    }\n\n    .dataframe tbody tr th {\n        vertical-align: top;\n    }\n\n    .dataframe thead th {\n        text-align: right;\n    }\n</style>\n<table border=\"1\" class=\"dataframe\">\n  <thead>\n    <tr style=\"text-align: right;\">\n      <th></th>\n      <th>System Date</th>\n      <th>System Time</th>\n      <th>memory SKT0 Ch0Read</th>\n      <th>memory SKT0 Ch0Write</th>\n      <th>memory SKT0 Ch1Read</th>\n      <th>memory SKT0 Ch1Write</th>\n      <th>memory SKT0 Mem Read (MB/s)</th>\n      <th>memory SKT0 Mem Write (MB/s)</th>\n      <th>memory SKT0 P. Write (T/s)</th>\n      <th>memory SKT0 Memory (MB/s)</th>\n      <th>...</th>\n      <th>memory SKT1 Ch0Write</th>\n      <th>memory SKT1 Ch1Read</th>\n      <th>memory SKT1 Ch1Write</th>\n      <th>memory SKT1 Mem Read (MB/s)</th>\n      <th>memory SKT1 Mem Write (MB/s)</th>\n      <th>memory SKT1 P. Write (T/s)</th>\n      <th>memory SKT1 Memory (MB/s)</th>\n      <th>memory System Read</th>\n      <th>memory System Write</th>\n      <th>memory System Memory</th>\n    </tr>\n  </thead>\n  <tbody>\n    <tr>\n      <th>0</th>\n      <td>2024-02-26</td>\n      <td>0</td>\n      <td>148.94</td>\n      <td>207.59</td>\n      <td>543.79</td>\n      <td>403.84</td>\n      <td>692.73</td>\n      <td>611.43</td>\n      <td>2012765306</td>\n      <td>1304.16</td>\n      <td>...</td>\n      <td>8.87</td>\n      <td>217.83</td>\n      <td>5.66</td>\n      <td>437.66</td>\n      <td>14.54</td>\n      <td>2012999134</td>\n      <td>452.20</td>\n      <td>1130.39</td>\n      <td>625.97</td>\n      <td>1756.36</td>\n    </tr>\n    <tr>\n      <th>1</th>\n      <td>2024-02-26</td>\n      <td>1</td>\n      <td>153.33</td>\n      <td>212.78</td>\n      <td>563.77</td>\n      <td>417.56</td>\n      <td>717.11</td>\n      <td>630.35</td>\n      <td>2133370598</td>\n      <td>1347.45</td>\n      <td>...</td>\n      <td>6.83</td>\n      <td>217.89</td>\n      <td>3.40</td>\n      <td>437.76</td>\n      <td>10.23</td>\n      <td>2133483506</td>\n      <td>448.00</td>\n      <td>1154.87</td>\n      <td>640.58</td>\n      <td>1795.45</td>\n    </tr>\n    <tr>\n      <th>2</th>\n      <td>2024-02-26</td>\n      <td>2</td>\n      <td>151.62</td>\n      <td>209.93</td>\n      <td>559.26</td>\n      <td>413.68</td>\n      <td>710.88</td>\n      <td>623.62</td>\n      <td>2133103792</td>\n      <td>1334.49</td>\n      <td>...</td>\n      <td>6.71</td>\n      <td>215.18</td>\n      <td>3.26</td>\n      <td>432.96</td>\n      <td>9.97</td>\n      <td>2132962705</td>\n      <td>442.93</td>\n      <td>1143.84</td>\n      <td>633.58</td>\n      <td>1777.42</td>\n    </tr>\n    <tr>\n      <th>3</th>\n      <td>2024-02-26</td>\n      <td>3</td>\n      <td>149.99</td>\n      <td>206.26</td>\n      <td>554.59</td>\n      <td>408.73</td>\n      <td>704.58</td>\n      <td>614.99</td>\n      <td>2133069675</td>\n      <td>1319.57</td>\n      <td>...</td>\n      <td>5.60</td>\n      <td>208.51</td>\n      <td>2.16</td>\n      <td>419.94</td>\n      <td>7.76</td>\n      <td>2133134684</td>\n      <td>427.70</td>\n      <td>1124.52</td>\n      <td>622.75</td>\n      <td>1747.27</td>\n    </tr>\n    <tr>\n      <th>4</th>\n      <td>2024-02-26</td>\n      <td>4</td>\n      <td>148.97</td>\n      <td>205.01</td>\n      <td>550.76</td>\n      <td>406.23</td>\n      <td>699.73</td>\n      <td>611.24</td>\n      <td>2132932266</td>\n      <td>1310.97</td>\n      <td>...</td>\n      <td>6.64</td>\n      <td>208.07</td>\n      <td>3.21</td>\n      <td>418.69</td>\n      <td>9.85</td>\n      <td>2132809241</td>\n      <td>428.54</td>\n      <td>1118.42</td>\n      <td>621.09</td>\n      <td>1739.51</td>\n    </tr>\n    <tr>\n      <th>...</th>\n      <td>...</td>\n      <td>...</td>\n      <td>...</td>\n      <td>...</td>\n      <td>...</td>\n      <td>...</td>\n      <td>...</td>\n      <td>...</td>\n      <td>...</td>\n      <td>...</td>\n      <td>...</td>\n      <td>...</td>\n      <td>...</td>\n      <td>...</td>\n      <td>...</td>\n      <td>...</td>\n      <td>...</td>\n      <td>...</td>\n      <td>...</td>\n      <td>...</td>\n      <td>...</td>\n    </tr>\n    <tr>\n      <th>1478</th>\n      <td>2024-02-26</td>\n      <td>1478</td>\n      <td>74.90</td>\n      <td>150.58</td>\n      <td>267.02</td>\n      <td>253.25</td>\n      <td>341.92</td>\n      <td>403.83</td>\n      <td>2132420003</td>\n      <td>745.74</td>\n      <td>...</td>\n      <td>5.21</td>\n      <td>182.07</td>\n      <td>1.83</td>\n      <td>367.06</td>\n      <td>7.04</td>\n      <td>2132475102</td>\n      <td>374.10</td>\n      <td>708.97</td>\n      <td>410.87</td>\n      <td>1119.85</td>\n    </tr>\n    <tr>\n      <th>1479</th>\n      <td>2024-02-26</td>\n      <td>1479</td>\n      <td>84.39</td>\n      <td>162.86</td>\n      <td>297.82</td>\n      <td>276.33</td>\n      <td>382.21</td>\n      <td>439.19</td>\n      <td>2132642497</td>\n      <td>821.40</td>\n      <td>...</td>\n      <td>17.74</td>\n      <td>205.35</td>\n      <td>14.33</td>\n      <td>413.11</td>\n      <td>32.06</td>\n      <td>2132734473</td>\n      <td>445.18</td>\n      <td>795.32</td>\n      <td>471.25</td>\n      <td>1266.57</td>\n    </tr>\n    <tr>\n      <th>1480</th>\n      <td>2024-02-26</td>\n      <td>1480</td>\n      <td>80.34</td>\n      <td>162.15</td>\n      <td>284.61</td>\n      <td>271.44</td>\n      <td>364.95</td>\n      <td>433.59</td>\n      <td>2134862016</td>\n      <td>798.54</td>\n      <td>...</td>\n      <td>8.89</td>\n      <td>204.62</td>\n      <td>5.45</td>\n      <td>412.32</td>\n      <td>14.34</td>\n      <td>2134805364</td>\n      <td>426.65</td>\n      <td>777.27</td>\n      <td>447.93</td>\n      <td>1225.20</td>\n    </tr>\n    <tr>\n      <th>1481</th>\n      <td>2024-02-26</td>\n      <td>1481</td>\n      <td>75.01</td>\n      <td>151.83</td>\n      <td>266.82</td>\n      <td>254.68</td>\n      <td>341.84</td>\n      <td>406.51</td>\n      <td>2132497060</td>\n      <td>748.34</td>\n      <td>...</td>\n      <td>5.57</td>\n      <td>190.93</td>\n      <td>2.18</td>\n      <td>384.04</td>\n      <td>7.75</td>\n      <td>2132438267</td>\n      <td>391.79</td>\n      <td>725.87</td>\n      <td>414.26</td>\n      <td>1140.13</td>\n    </tr>\n    <tr>\n      <th>1482</th>\n      <td>2024-02-26</td>\n      <td>1482</td>\n      <td>75.68</td>\n      <td>152.76</td>\n      <td>269.56</td>\n      <td>256.33</td>\n      <td>345.24</td>\n      <td>409.09</td>\n      <td>2133259365</td>\n      <td>754.33</td>\n      <td>...</td>\n      <td>6.18</td>\n      <td>189.87</td>\n      <td>2.76</td>\n      <td>381.93</td>\n      <td>8.94</td>\n      <td>2133146621</td>\n      <td>390.88</td>\n      <td>727.17</td>\n      <td>418.03</td>\n      <td>1145.20</td>\n    </tr>\n  </tbody>\n</table>\n<p>1483 rows × 21 columns</p>\n</div>"
     },
     "execution_count": 240,
     "metadata": {},
     "output_type": "execute_result"
    }
   ],
   "source": [
    "add_header_prefix(\n",
    "    data_time_interpolate(\n",
    "        get_pcm_data_memory(exp_type, test_exp_num, \"pcm-memory.csv\")\n",
    "    ),\n",
    "    \"memory\"\n",
    ")"
   ],
   "metadata": {
    "collapsed": false,
    "ExecuteTime": {
     "end_time": "2024-03-05T07:31:19.955782Z",
     "start_time": "2024-03-05T07:31:19.920582Z"
    }
   },
   "id": "390893c84533fb51",
   "execution_count": 240
  },
  {
   "cell_type": "code",
   "outputs": [
    {
     "name": "stdout",
     "output_type": "stream",
     "text": [
      "bridge-pcm.csv bridge\n",
      "firewall-pcm.csv firewall\n",
      "ndpi_stats-pcm.csv ndpi_stats\n",
      "nf_router-pcm.csv nf_router\n",
      "payload_scan-pcm.csv payload_scan\n",
      "rx-pcm.csv rx\n",
      "tx-pcm.csv tx\n",
      "pcm-memory.csv memory\n"
     ]
    }
   ],
   "source": [
    "pcm_2header_datas = [\n",
    "    \"bridge-pcm.csv\",\n",
    "    \"firewall-pcm.csv\",\n",
    "    \"ndpi_stats-pcm.csv\",\n",
    "    \"nf_router-pcm.csv\",\n",
    "    \"payload_scan-pcm.csv\",\n",
    "    \"rx-pcm.csv\",\n",
    "    \"tx-pcm.csv\",\n",
    "    \"pcm-memory.csv\",\n",
    "]\n",
    "pcm_2header_datas_suffix = [\n",
    "    \"bridge\",\n",
    "    \"firewall\",\n",
    "    \"ndpi_stats\",\n",
    "    \"nf_router\",\n",
    "    \"payload_scan\",\n",
    "    \"rx\",\n",
    "    \"tx\",\n",
    "    \"memory\",\n",
    "]\n",
    "pcm_2header_dataframes = []\n",
    "\n",
    "for file, suffix in zip(pcm_2header_datas, pcm_2header_datas_suffix):\n",
    "    print(file, suffix)\n",
    "    if \"memory\" in suffix:\n",
    "        pcm_2header_dataframes.append(\n",
    "            add_header_prefix(\n",
    "                data_time_interpolate(\n",
    "                    get_pcm_data_memory(exp_type, test_exp_num, file)\n",
    "                ),\n",
    "                suffix\n",
    "            )\n",
    "        )\n",
    "    else:\n",
    "        pcm_2header_dataframes.append(\n",
    "            add_header_prefix(\n",
    "                data_time_interpolate(\n",
    "                    get_pcm_data_2headers(exp_type, test_exp_num, file)\n",
    "                ),\n",
    "                suffix\n",
    "            )\n",
    "        )\n"
   ],
   "metadata": {
    "collapsed": false,
    "ExecuteTime": {
     "end_time": "2024-03-05T07:31:20.097470Z",
     "start_time": "2024-03-05T07:31:19.990239Z"
    }
   },
   "id": "2fa82a7b8b626883",
   "execution_count": 241
  },
  {
   "cell_type": "code",
   "outputs": [],
   "source": [
    "def join_pcm_2headers_data(dataframes):\n",
    "    data = dataframes[0].drop([\"System Date\"], axis=1)\n",
    "    data[\"System Time\"] = data[\"System Time\"].astype(str)\n",
    "    for dataframe in dataframes[1:]:\n",
    "        dataframe[\"System Time\"] = dataframe[\"System Time\"].astype(str)\n",
    "        data = data.merge(dataframe.drop([\"System Date\"], axis=1), on=\"System Time\")\n",
    "        print(data.shape)\n",
    "        data[\"System Time\"] = data[\"System Time\"].astype(str)\n",
    "    return data"
   ],
   "metadata": {
    "collapsed": false,
    "ExecuteTime": {
     "end_time": "2024-03-05T07:31:20.143536Z",
     "start_time": "2024-03-05T07:31:20.136867Z"
    }
   },
   "id": "53aa1ea7a854daab",
   "execution_count": 242
  },
  {
   "cell_type": "code",
   "outputs": [
    {
     "name": "stdout",
     "output_type": "stream",
     "text": [
      "(1483, 193)\n",
      "(1483, 289)\n",
      "(1483, 385)\n",
      "(1483, 481)\n",
      "(1483, 577)\n",
      "(1483, 673)\n",
      "(1483, 692)\n"
     ]
    }
   ],
   "source": [
    "pcm_2header_dataframe_joined = join_pcm_2headers_data(pcm_2header_dataframes)"
   ],
   "metadata": {
    "collapsed": false,
    "ExecuteTime": {
     "end_time": "2024-03-05T07:31:20.296732Z",
     "start_time": "2024-03-05T07:31:20.230473Z"
    }
   },
   "id": "7d8c4c8d360ac21",
   "execution_count": 243
  },
  {
   "cell_type": "code",
   "outputs": [
    {
     "data": {
      "text/plain": "     System Time  bridge Socket 0 EXEC  bridge Socket 0 IPC  \\\n0              0                  0.17                 2.75   \n1              1                  0.15                 2.32   \n2              2                  0.15                 2.40   \n3              3                  0.15                 2.32   \n4              4                  0.15                 2.35   \n...          ...                   ...                  ...   \n1478        1478                  0.16                 2.60   \n1479        1479                  0.17                 2.57   \n1480        1480                  0.16                 2.58   \n1481        1481                  0.15                 2.61   \n1482        1482                  0.16                 2.64   \n\n      bridge Socket 0 FREQ  bridge Socket 0 AFREQ  bridge Socket 0 L3MISS  \\\n0                     0.06                   1.12                    0.09   \n1                     0.06                   1.12                    0.08   \n2                     0.06                   1.12                    0.08   \n3                     0.06                   1.12                    0.09   \n4                     0.06                   1.12                    0.07   \n...                    ...                    ...                     ...   \n1478                  0.06                   1.12                    0.05   \n1479                  0.07                   1.12                    0.03   \n1480                  0.06                   1.12                    0.07   \n1481                  0.06                   1.12                    0.03   \n1482                  0.06                   1.12                    0.03   \n\n      bridge Socket 0 L2MISS  bridge Socket 0 L3HIT  bridge Socket 0 L2HIT  \\\n0                      12.83                   0.99                   0.27   \n1                      15.45                   0.99                   0.37   \n2                      15.83                   1.00                   0.37   \n3                      15.47                   0.99                   0.39   \n4                      15.62                   1.00                   0.39   \n...                      ...                    ...                    ...   \n1478                   18.68                   1.00                   0.34   \n1479                   18.73                   1.00                   0.38   \n1480                   18.44                   1.00                   0.34   \n1481                   18.37                   1.00                   0.28   \n1482                   18.90                   1.00                   0.30   \n\n      bridge Socket 0 L3MPI  ...  memory SKT1 Ch0Write  memory SKT1 Ch1Read  \\\n0                       0.0  ...                  8.87               217.83   \n1                       0.0  ...                  6.83               217.89   \n2                       0.0  ...                  6.71               215.18   \n3                       0.0  ...                  5.60               208.51   \n4                       0.0  ...                  6.64               208.07   \n...                     ...  ...                   ...                  ...   \n1478                    0.0  ...                  5.21               182.07   \n1479                    0.0  ...                 17.74               205.35   \n1480                    0.0  ...                  8.89               204.62   \n1481                    0.0  ...                  5.57               190.93   \n1482                    0.0  ...                  6.18               189.87   \n\n      memory SKT1 Ch1Write  memory SKT1 Mem Read (MB/s)  \\\n0                     5.66                       437.66   \n1                     3.40                       437.76   \n2                     3.26                       432.96   \n3                     2.16                       419.94   \n4                     3.21                       418.69   \n...                    ...                          ...   \n1478                  1.83                       367.06   \n1479                 14.33                       413.11   \n1480                  5.45                       412.32   \n1481                  2.18                       384.04   \n1482                  2.76                       381.93   \n\n      memory SKT1 Mem Write (MB/s)  memory SKT1 P. Write (T/s)  \\\n0                            14.54                  2012999134   \n1                            10.23                  2133483506   \n2                             9.97                  2132962705   \n3                             7.76                  2133134684   \n4                             9.85                  2132809241   \n...                            ...                         ...   \n1478                          7.04                  2132475102   \n1479                         32.06                  2132734473   \n1480                         14.34                  2134805364   \n1481                          7.75                  2132438267   \n1482                          8.94                  2133146621   \n\n      memory SKT1 Memory (MB/s)  memory System Read  memory System Write  \\\n0                        452.20             1130.39               625.97   \n1                        448.00             1154.87               640.58   \n2                        442.93             1143.84               633.58   \n3                        427.70             1124.52               622.75   \n4                        428.54             1118.42               621.09   \n...                         ...                 ...                  ...   \n1478                     374.10              708.97               410.87   \n1479                     445.18              795.32               471.25   \n1480                     426.65              777.27               447.93   \n1481                     391.79              725.87               414.26   \n1482                     390.88              727.17               418.03   \n\n      memory System Memory  \n0                  1756.36  \n1                  1795.45  \n2                  1777.42  \n3                  1747.27  \n4                  1739.51  \n...                    ...  \n1478               1119.85  \n1479               1266.57  \n1480               1225.20  \n1481               1140.13  \n1482               1145.20  \n\n[1483 rows x 692 columns]",
      "text/html": "<div>\n<style scoped>\n    .dataframe tbody tr th:only-of-type {\n        vertical-align: middle;\n    }\n\n    .dataframe tbody tr th {\n        vertical-align: top;\n    }\n\n    .dataframe thead th {\n        text-align: right;\n    }\n</style>\n<table border=\"1\" class=\"dataframe\">\n  <thead>\n    <tr style=\"text-align: right;\">\n      <th></th>\n      <th>System Time</th>\n      <th>bridge Socket 0 EXEC</th>\n      <th>bridge Socket 0 IPC</th>\n      <th>bridge Socket 0 FREQ</th>\n      <th>bridge Socket 0 AFREQ</th>\n      <th>bridge Socket 0 L3MISS</th>\n      <th>bridge Socket 0 L2MISS</th>\n      <th>bridge Socket 0 L3HIT</th>\n      <th>bridge Socket 0 L2HIT</th>\n      <th>bridge Socket 0 L3MPI</th>\n      <th>...</th>\n      <th>memory SKT1 Ch0Write</th>\n      <th>memory SKT1 Ch1Read</th>\n      <th>memory SKT1 Ch1Write</th>\n      <th>memory SKT1 Mem Read (MB/s)</th>\n      <th>memory SKT1 Mem Write (MB/s)</th>\n      <th>memory SKT1 P. Write (T/s)</th>\n      <th>memory SKT1 Memory (MB/s)</th>\n      <th>memory System Read</th>\n      <th>memory System Write</th>\n      <th>memory System Memory</th>\n    </tr>\n  </thead>\n  <tbody>\n    <tr>\n      <th>0</th>\n      <td>0</td>\n      <td>0.17</td>\n      <td>2.75</td>\n      <td>0.06</td>\n      <td>1.12</td>\n      <td>0.09</td>\n      <td>12.83</td>\n      <td>0.99</td>\n      <td>0.27</td>\n      <td>0.0</td>\n      <td>...</td>\n      <td>8.87</td>\n      <td>217.83</td>\n      <td>5.66</td>\n      <td>437.66</td>\n      <td>14.54</td>\n      <td>2012999134</td>\n      <td>452.20</td>\n      <td>1130.39</td>\n      <td>625.97</td>\n      <td>1756.36</td>\n    </tr>\n    <tr>\n      <th>1</th>\n      <td>1</td>\n      <td>0.15</td>\n      <td>2.32</td>\n      <td>0.06</td>\n      <td>1.12</td>\n      <td>0.08</td>\n      <td>15.45</td>\n      <td>0.99</td>\n      <td>0.37</td>\n      <td>0.0</td>\n      <td>...</td>\n      <td>6.83</td>\n      <td>217.89</td>\n      <td>3.40</td>\n      <td>437.76</td>\n      <td>10.23</td>\n      <td>2133483506</td>\n      <td>448.00</td>\n      <td>1154.87</td>\n      <td>640.58</td>\n      <td>1795.45</td>\n    </tr>\n    <tr>\n      <th>2</th>\n      <td>2</td>\n      <td>0.15</td>\n      <td>2.40</td>\n      <td>0.06</td>\n      <td>1.12</td>\n      <td>0.08</td>\n      <td>15.83</td>\n      <td>1.00</td>\n      <td>0.37</td>\n      <td>0.0</td>\n      <td>...</td>\n      <td>6.71</td>\n      <td>215.18</td>\n      <td>3.26</td>\n      <td>432.96</td>\n      <td>9.97</td>\n      <td>2132962705</td>\n      <td>442.93</td>\n      <td>1143.84</td>\n      <td>633.58</td>\n      <td>1777.42</td>\n    </tr>\n    <tr>\n      <th>3</th>\n      <td>3</td>\n      <td>0.15</td>\n      <td>2.32</td>\n      <td>0.06</td>\n      <td>1.12</td>\n      <td>0.09</td>\n      <td>15.47</td>\n      <td>0.99</td>\n      <td>0.39</td>\n      <td>0.0</td>\n      <td>...</td>\n      <td>5.60</td>\n      <td>208.51</td>\n      <td>2.16</td>\n      <td>419.94</td>\n      <td>7.76</td>\n      <td>2133134684</td>\n      <td>427.70</td>\n      <td>1124.52</td>\n      <td>622.75</td>\n      <td>1747.27</td>\n    </tr>\n    <tr>\n      <th>4</th>\n      <td>4</td>\n      <td>0.15</td>\n      <td>2.35</td>\n      <td>0.06</td>\n      <td>1.12</td>\n      <td>0.07</td>\n      <td>15.62</td>\n      <td>1.00</td>\n      <td>0.39</td>\n      <td>0.0</td>\n      <td>...</td>\n      <td>6.64</td>\n      <td>208.07</td>\n      <td>3.21</td>\n      <td>418.69</td>\n      <td>9.85</td>\n      <td>2132809241</td>\n      <td>428.54</td>\n      <td>1118.42</td>\n      <td>621.09</td>\n      <td>1739.51</td>\n    </tr>\n    <tr>\n      <th>...</th>\n      <td>...</td>\n      <td>...</td>\n      <td>...</td>\n      <td>...</td>\n      <td>...</td>\n      <td>...</td>\n      <td>...</td>\n      <td>...</td>\n      <td>...</td>\n      <td>...</td>\n      <td>...</td>\n      <td>...</td>\n      <td>...</td>\n      <td>...</td>\n      <td>...</td>\n      <td>...</td>\n      <td>...</td>\n      <td>...</td>\n      <td>...</td>\n      <td>...</td>\n      <td>...</td>\n    </tr>\n    <tr>\n      <th>1478</th>\n      <td>1478</td>\n      <td>0.16</td>\n      <td>2.60</td>\n      <td>0.06</td>\n      <td>1.12</td>\n      <td>0.05</td>\n      <td>18.68</td>\n      <td>1.00</td>\n      <td>0.34</td>\n      <td>0.0</td>\n      <td>...</td>\n      <td>5.21</td>\n      <td>182.07</td>\n      <td>1.83</td>\n      <td>367.06</td>\n      <td>7.04</td>\n      <td>2132475102</td>\n      <td>374.10</td>\n      <td>708.97</td>\n      <td>410.87</td>\n      <td>1119.85</td>\n    </tr>\n    <tr>\n      <th>1479</th>\n      <td>1479</td>\n      <td>0.17</td>\n      <td>2.57</td>\n      <td>0.07</td>\n      <td>1.12</td>\n      <td>0.03</td>\n      <td>18.73</td>\n      <td>1.00</td>\n      <td>0.38</td>\n      <td>0.0</td>\n      <td>...</td>\n      <td>17.74</td>\n      <td>205.35</td>\n      <td>14.33</td>\n      <td>413.11</td>\n      <td>32.06</td>\n      <td>2132734473</td>\n      <td>445.18</td>\n      <td>795.32</td>\n      <td>471.25</td>\n      <td>1266.57</td>\n    </tr>\n    <tr>\n      <th>1480</th>\n      <td>1480</td>\n      <td>0.16</td>\n      <td>2.58</td>\n      <td>0.06</td>\n      <td>1.12</td>\n      <td>0.07</td>\n      <td>18.44</td>\n      <td>1.00</td>\n      <td>0.34</td>\n      <td>0.0</td>\n      <td>...</td>\n      <td>8.89</td>\n      <td>204.62</td>\n      <td>5.45</td>\n      <td>412.32</td>\n      <td>14.34</td>\n      <td>2134805364</td>\n      <td>426.65</td>\n      <td>777.27</td>\n      <td>447.93</td>\n      <td>1225.20</td>\n    </tr>\n    <tr>\n      <th>1481</th>\n      <td>1481</td>\n      <td>0.15</td>\n      <td>2.61</td>\n      <td>0.06</td>\n      <td>1.12</td>\n      <td>0.03</td>\n      <td>18.37</td>\n      <td>1.00</td>\n      <td>0.28</td>\n      <td>0.0</td>\n      <td>...</td>\n      <td>5.57</td>\n      <td>190.93</td>\n      <td>2.18</td>\n      <td>384.04</td>\n      <td>7.75</td>\n      <td>2132438267</td>\n      <td>391.79</td>\n      <td>725.87</td>\n      <td>414.26</td>\n      <td>1140.13</td>\n    </tr>\n    <tr>\n      <th>1482</th>\n      <td>1482</td>\n      <td>0.16</td>\n      <td>2.64</td>\n      <td>0.06</td>\n      <td>1.12</td>\n      <td>0.03</td>\n      <td>18.90</td>\n      <td>1.00</td>\n      <td>0.30</td>\n      <td>0.0</td>\n      <td>...</td>\n      <td>6.18</td>\n      <td>189.87</td>\n      <td>2.76</td>\n      <td>381.93</td>\n      <td>8.94</td>\n      <td>2133146621</td>\n      <td>390.88</td>\n      <td>727.17</td>\n      <td>418.03</td>\n      <td>1145.20</td>\n    </tr>\n  </tbody>\n</table>\n<p>1483 rows × 692 columns</p>\n</div>"
     },
     "execution_count": 244,
     "metadata": {},
     "output_type": "execute_result"
    }
   ],
   "source": [
    "pcm_2header_dataframe_joined"
   ],
   "metadata": {
    "collapsed": false,
    "ExecuteTime": {
     "end_time": "2024-03-05T07:31:20.357718Z",
     "start_time": "2024-03-05T07:31:20.326532Z"
    }
   },
   "id": "c1fe5e9c7ed2c24d",
   "execution_count": 244
  },
  {
   "cell_type": "code",
   "outputs": [
    {
     "name": "stdout",
     "output_type": "stream",
     "text": [
      "Skt0_PCIRdCur_Total\n",
      "Skt0_RFO_Total\n",
      "Skt0_CRd_Total\n",
      "Skt0_DRd_Total\n",
      "Skt0_ItoM_Total\n",
      "Skt0_PRd_Total\n",
      "Skt0_WiL_Total\n",
      "Skt0_PCIRdCur_Miss\n",
      "Skt0_RFO_Miss\n",
      "Skt0_CRd_Miss\n",
      "Skt0_DRd_Miss\n",
      "Skt0_ItoM_Miss\n",
      "Skt0_PRd_Miss\n",
      "Skt0_WiL_Miss\n",
      "Skt0_PCIRdCur_Hit\n",
      "Skt0_RFO_Hit\n",
      "Skt0_CRd_Hit\n",
      "Skt0_DRd_Hit\n",
      "Skt0_ItoM_Hit\n",
      "Skt0_PRd_Hit\n",
      "Skt0_WiL_Hit\n",
      "Skt1_PCIRdCur_Total\n",
      "Skt1_RFO_Total\n",
      "Skt1_CRd_Total\n",
      "Skt1_DRd_Total\n",
      "Skt1_ItoM_Total\n",
      "Skt1_PRd_Total\n",
      "Skt1_WiL_Total\n",
      "Skt1_PCIRdCur_Miss\n",
      "Skt1_RFO_Miss\n",
      "Skt1_CRd_Miss\n",
      "Skt1_DRd_Miss\n",
      "Skt1_ItoM_Miss\n",
      "Skt1_PRd_Miss\n",
      "Skt1_WiL_Miss\n",
      "Skt1_PCIRdCur_Hit\n",
      "Skt1_RFO_Hit\n",
      "Skt1_CRd_Hit\n",
      "Skt1_DRd_Hit\n",
      "Skt1_ItoM_Hit\n",
      "Skt1_PRd_Hit\n",
      "Skt1_WiL_Hit\n"
     ]
    },
    {
     "data": {
      "text/plain": "     System Time  bridge Socket 0 EXEC  bridge Socket 0 IPC  \\\n0              0                  0.17                 2.75   \n1              1                  0.15                 2.32   \n2              2                  0.15                 2.40   \n3              3                  0.15                 2.32   \n4              4                  0.15                 2.35   \n...          ...                   ...                  ...   \n1466        1466                  0.15                 2.46   \n1467        1467                  0.15                 2.38   \n1468        1468                  0.15                 2.40   \n1469        1469                  0.15                 2.37   \n1470        1470                  0.15                 2.41   \n\n      bridge Socket 0 FREQ  bridge Socket 0 AFREQ  bridge Socket 0 L3MISS  \\\n0                     0.06                   1.12                    0.09   \n1                     0.06                   1.12                    0.08   \n2                     0.06                   1.12                    0.08   \n3                     0.06                   1.12                    0.09   \n4                     0.06                   1.12                    0.07   \n...                    ...                    ...                     ...   \n1466                  0.06                   1.12                    0.03   \n1467                  0.06                   1.12                    0.03   \n1468                  0.06                   1.12                    0.03   \n1469                  0.07                   1.12                    0.08   \n1470                  0.06                   1.12                    0.05   \n\n      bridge Socket 0 L2MISS  bridge Socket 0 L3HIT  bridge Socket 0 L2HIT  \\\n0                      12.83                   0.99                   0.27   \n1                      15.45                   0.99                   0.37   \n2                      15.83                   1.00                   0.37   \n3                      15.47                   0.99                   0.39   \n4                      15.62                   1.00                   0.39   \n...                      ...                    ...                    ...   \n1466                   25.32                   1.00                   0.30   \n1467                   24.02                   1.00                   0.35   \n1468                   24.94                   1.00                   0.32   \n1469                   24.71                   1.00                   0.35   \n1470                   24.14                   1.00                   0.30   \n\n      bridge Socket 0 L3MPI  ...  pcie Skt1_ItoM_Miss  pcie Skt1_PRd_Miss  \\\n0                       0.0  ...                  0.0             27748.0   \n1                       0.0  ...                  0.0             27958.0   \n2                       0.0  ...                  0.0             27902.0   \n3                       0.0  ...                  0.0             27762.0   \n4                       0.0  ...                  0.0             27720.0   \n...                     ...  ...                  ...                 ...   \n1466                    0.0  ...                  0.0             24248.0   \n1467                    0.0  ...                  0.0             24108.0   \n1468                    0.0  ...                  0.0             24304.0   \n1469                    0.0  ...                  0.0             24080.0   \n1470                    0.0  ...                  0.0             24360.0   \n\n      pcie Skt1_WiL_Miss  pcie Skt1_PCIRdCur_Hit  pcie Skt1_RFO_Hit  \\\n0               165382.0               4111492.0           124810.0   \n1               164934.0               4244184.0           125874.0   \n2               163436.0               4347420.0           125230.0   \n3               164458.0               4424644.0           124894.0   \n4               166670.0               4343542.0           125692.0   \n...                  ...                     ...                ...   \n1466            142254.0               3807748.0           107968.0   \n1467            141918.0               3875158.0           109284.0   \n1468            143920.0               3232194.0           108948.0   \n1469            143094.0               3535644.0           109452.0   \n1470            143514.0               3684310.0           108892.0   \n\n      pcie Skt1_CRd_Hit  pcie Skt1_DRd_Hit  pcie Skt1_ItoM_Hit  \\\n0             5653620.0         10368372.0                 0.0   \n1             4620644.0         10495408.0                 0.0   \n2             4377590.0         10138548.0                 0.0   \n3             4433772.0         10256232.0                 0.0   \n4             4554424.0          9839592.0                 0.0   \n...                 ...                ...                 ...   \n1466          4445756.0          9588600.0                 0.0   \n1467          4358984.0          9433928.0                 0.0   \n1468          5298706.0          9652930.0                 0.0   \n1469          4827228.0          9365496.0                 0.0   \n1470          5305706.0         10406242.0                 0.0   \n\n      pcie Skt1_PRd_Hit  pcie Skt1_WiL_Hit  \n0                 448.0                0.0  \n1                 168.0              406.0  \n2                  42.0                0.0  \n3                 378.0                0.0  \n4                  42.0                0.0  \n...                 ...                ...  \n1466               84.0             1078.0  \n1467              126.0             1442.0  \n1468                0.0                0.0  \n1469              210.0                0.0  \n1470                0.0                0.0  \n\n[1471 rows x 734 columns]",
      "text/html": "<div>\n<style scoped>\n    .dataframe tbody tr th:only-of-type {\n        vertical-align: middle;\n    }\n\n    .dataframe tbody tr th {\n        vertical-align: top;\n    }\n\n    .dataframe thead th {\n        text-align: right;\n    }\n</style>\n<table border=\"1\" class=\"dataframe\">\n  <thead>\n    <tr style=\"text-align: right;\">\n      <th></th>\n      <th>System Time</th>\n      <th>bridge Socket 0 EXEC</th>\n      <th>bridge Socket 0 IPC</th>\n      <th>bridge Socket 0 FREQ</th>\n      <th>bridge Socket 0 AFREQ</th>\n      <th>bridge Socket 0 L3MISS</th>\n      <th>bridge Socket 0 L2MISS</th>\n      <th>bridge Socket 0 L3HIT</th>\n      <th>bridge Socket 0 L2HIT</th>\n      <th>bridge Socket 0 L3MPI</th>\n      <th>...</th>\n      <th>pcie Skt1_ItoM_Miss</th>\n      <th>pcie Skt1_PRd_Miss</th>\n      <th>pcie Skt1_WiL_Miss</th>\n      <th>pcie Skt1_PCIRdCur_Hit</th>\n      <th>pcie Skt1_RFO_Hit</th>\n      <th>pcie Skt1_CRd_Hit</th>\n      <th>pcie Skt1_DRd_Hit</th>\n      <th>pcie Skt1_ItoM_Hit</th>\n      <th>pcie Skt1_PRd_Hit</th>\n      <th>pcie Skt1_WiL_Hit</th>\n    </tr>\n  </thead>\n  <tbody>\n    <tr>\n      <th>0</th>\n      <td>0</td>\n      <td>0.17</td>\n      <td>2.75</td>\n      <td>0.06</td>\n      <td>1.12</td>\n      <td>0.09</td>\n      <td>12.83</td>\n      <td>0.99</td>\n      <td>0.27</td>\n      <td>0.0</td>\n      <td>...</td>\n      <td>0.0</td>\n      <td>27748.0</td>\n      <td>165382.0</td>\n      <td>4111492.0</td>\n      <td>124810.0</td>\n      <td>5653620.0</td>\n      <td>10368372.0</td>\n      <td>0.0</td>\n      <td>448.0</td>\n      <td>0.0</td>\n    </tr>\n    <tr>\n      <th>1</th>\n      <td>1</td>\n      <td>0.15</td>\n      <td>2.32</td>\n      <td>0.06</td>\n      <td>1.12</td>\n      <td>0.08</td>\n      <td>15.45</td>\n      <td>0.99</td>\n      <td>0.37</td>\n      <td>0.0</td>\n      <td>...</td>\n      <td>0.0</td>\n      <td>27958.0</td>\n      <td>164934.0</td>\n      <td>4244184.0</td>\n      <td>125874.0</td>\n      <td>4620644.0</td>\n      <td>10495408.0</td>\n      <td>0.0</td>\n      <td>168.0</td>\n      <td>406.0</td>\n    </tr>\n    <tr>\n      <th>2</th>\n      <td>2</td>\n      <td>0.15</td>\n      <td>2.40</td>\n      <td>0.06</td>\n      <td>1.12</td>\n      <td>0.08</td>\n      <td>15.83</td>\n      <td>1.00</td>\n      <td>0.37</td>\n      <td>0.0</td>\n      <td>...</td>\n      <td>0.0</td>\n      <td>27902.0</td>\n      <td>163436.0</td>\n      <td>4347420.0</td>\n      <td>125230.0</td>\n      <td>4377590.0</td>\n      <td>10138548.0</td>\n      <td>0.0</td>\n      <td>42.0</td>\n      <td>0.0</td>\n    </tr>\n    <tr>\n      <th>3</th>\n      <td>3</td>\n      <td>0.15</td>\n      <td>2.32</td>\n      <td>0.06</td>\n      <td>1.12</td>\n      <td>0.09</td>\n      <td>15.47</td>\n      <td>0.99</td>\n      <td>0.39</td>\n      <td>0.0</td>\n      <td>...</td>\n      <td>0.0</td>\n      <td>27762.0</td>\n      <td>164458.0</td>\n      <td>4424644.0</td>\n      <td>124894.0</td>\n      <td>4433772.0</td>\n      <td>10256232.0</td>\n      <td>0.0</td>\n      <td>378.0</td>\n      <td>0.0</td>\n    </tr>\n    <tr>\n      <th>4</th>\n      <td>4</td>\n      <td>0.15</td>\n      <td>2.35</td>\n      <td>0.06</td>\n      <td>1.12</td>\n      <td>0.07</td>\n      <td>15.62</td>\n      <td>1.00</td>\n      <td>0.39</td>\n      <td>0.0</td>\n      <td>...</td>\n      <td>0.0</td>\n      <td>27720.0</td>\n      <td>166670.0</td>\n      <td>4343542.0</td>\n      <td>125692.0</td>\n      <td>4554424.0</td>\n      <td>9839592.0</td>\n      <td>0.0</td>\n      <td>42.0</td>\n      <td>0.0</td>\n    </tr>\n    <tr>\n      <th>...</th>\n      <td>...</td>\n      <td>...</td>\n      <td>...</td>\n      <td>...</td>\n      <td>...</td>\n      <td>...</td>\n      <td>...</td>\n      <td>...</td>\n      <td>...</td>\n      <td>...</td>\n      <td>...</td>\n      <td>...</td>\n      <td>...</td>\n      <td>...</td>\n      <td>...</td>\n      <td>...</td>\n      <td>...</td>\n      <td>...</td>\n      <td>...</td>\n      <td>...</td>\n      <td>...</td>\n    </tr>\n    <tr>\n      <th>1466</th>\n      <td>1466</td>\n      <td>0.15</td>\n      <td>2.46</td>\n      <td>0.06</td>\n      <td>1.12</td>\n      <td>0.03</td>\n      <td>25.32</td>\n      <td>1.00</td>\n      <td>0.30</td>\n      <td>0.0</td>\n      <td>...</td>\n      <td>0.0</td>\n      <td>24248.0</td>\n      <td>142254.0</td>\n      <td>3807748.0</td>\n      <td>107968.0</td>\n      <td>4445756.0</td>\n      <td>9588600.0</td>\n      <td>0.0</td>\n      <td>84.0</td>\n      <td>1078.0</td>\n    </tr>\n    <tr>\n      <th>1467</th>\n      <td>1467</td>\n      <td>0.15</td>\n      <td>2.38</td>\n      <td>0.06</td>\n      <td>1.12</td>\n      <td>0.03</td>\n      <td>24.02</td>\n      <td>1.00</td>\n      <td>0.35</td>\n      <td>0.0</td>\n      <td>...</td>\n      <td>0.0</td>\n      <td>24108.0</td>\n      <td>141918.0</td>\n      <td>3875158.0</td>\n      <td>109284.0</td>\n      <td>4358984.0</td>\n      <td>9433928.0</td>\n      <td>0.0</td>\n      <td>126.0</td>\n      <td>1442.0</td>\n    </tr>\n    <tr>\n      <th>1468</th>\n      <td>1468</td>\n      <td>0.15</td>\n      <td>2.40</td>\n      <td>0.06</td>\n      <td>1.12</td>\n      <td>0.03</td>\n      <td>24.94</td>\n      <td>1.00</td>\n      <td>0.32</td>\n      <td>0.0</td>\n      <td>...</td>\n      <td>0.0</td>\n      <td>24304.0</td>\n      <td>143920.0</td>\n      <td>3232194.0</td>\n      <td>108948.0</td>\n      <td>5298706.0</td>\n      <td>9652930.0</td>\n      <td>0.0</td>\n      <td>0.0</td>\n      <td>0.0</td>\n    </tr>\n    <tr>\n      <th>1469</th>\n      <td>1469</td>\n      <td>0.15</td>\n      <td>2.37</td>\n      <td>0.07</td>\n      <td>1.12</td>\n      <td>0.08</td>\n      <td>24.71</td>\n      <td>1.00</td>\n      <td>0.35</td>\n      <td>0.0</td>\n      <td>...</td>\n      <td>0.0</td>\n      <td>24080.0</td>\n      <td>143094.0</td>\n      <td>3535644.0</td>\n      <td>109452.0</td>\n      <td>4827228.0</td>\n      <td>9365496.0</td>\n      <td>0.0</td>\n      <td>210.0</td>\n      <td>0.0</td>\n    </tr>\n    <tr>\n      <th>1470</th>\n      <td>1470</td>\n      <td>0.15</td>\n      <td>2.41</td>\n      <td>0.06</td>\n      <td>1.12</td>\n      <td>0.05</td>\n      <td>24.14</td>\n      <td>1.00</td>\n      <td>0.30</td>\n      <td>0.0</td>\n      <td>...</td>\n      <td>0.0</td>\n      <td>24360.0</td>\n      <td>143514.0</td>\n      <td>3684310.0</td>\n      <td>108892.0</td>\n      <td>5305706.0</td>\n      <td>10406242.0</td>\n      <td>0.0</td>\n      <td>0.0</td>\n      <td>0.0</td>\n    </tr>\n  </tbody>\n</table>\n<p>1471 rows × 734 columns</p>\n</div>"
     },
     "execution_count": 245,
     "metadata": {},
     "output_type": "execute_result"
    }
   ],
   "source": [
    "pcm_pcie_dataframe = add_header_prefix(get_pcm_data_pcie(exp_type, test_exp_num, \"pcm-pcie.csv\").shift(-1).iloc[:-1, :],\n",
    "                                       \"pcie\")\n",
    "\n",
    "pcm_dataframe_joined = pcm_2header_dataframe_joined.join(pcm_pcie_dataframe)\n",
    "# remove na\n",
    "pcm_dataframe_joined = pcm_dataframe_joined.dropna(axis=0, how='any')\n",
    "pcm_dataframe_joined"
   ],
   "metadata": {
    "collapsed": false,
    "ExecuteTime": {
     "end_time": "2024-03-05T07:31:20.497168Z",
     "start_time": "2024-03-05T07:31:20.436409Z"
    }
   },
   "id": "3836c1e6867c015f",
   "execution_count": 245
  },
  {
   "cell_type": "code",
   "outputs": [],
   "source": [
    "def parse_seq(exp_type, exp_num, file, index=5):\n",
    "    \"Parse sequential data, specialized for the TX/RX/Latency experiments\"\n",
    "    tmp = []\n",
    "\n",
    "    lines = []\n",
    "    with open(os.path.join(current_path, exp_type, exp_num, file)) as f:\n",
    "        lines = f.readlines()\n",
    "    for i in range(len(lines)):\n",
    "        if lines[i].startswith(\"<<<<<<< HEAD\"):\n",
    "            j = i\n",
    "            while j < len(lines) and not lines[j].startswith(\"=======\"):\n",
    "                j += 1\n",
    "            lines = lines[0:i] + lines[j + 1:-1]\n",
    "            break\n",
    "    for i in range(len(lines)):\n",
    "        if lines[i].startswith(\">>>>>>>\"):\n",
    "            lines.pop(i)\n",
    "\n",
    "    if file.startswith(\"latency.csv\"):\n",
    "        # lines = lines[4:] if exp_type == \"load_stimulus\" else lines\n",
    "        for i in range(len(lines)):\n",
    "            try:\n",
    "                # value = float(lines[i].strip()) / 1000\n",
    "                value = float(lines[i].split(\" \")[1]) / 1000\n",
    "            except ValueError:\n",
    "                value = np.nan\n",
    "            tmp.append(value)\n",
    "    else:\n",
    "        for l in lines[1:]:\n",
    "            try:\n",
    "                value = float(l.strip().split(\",\")[index])\n",
    "                tmp.append(value)\n",
    "            except ValueError:\n",
    "                value = np.nan\n",
    "                tmp.append(value)\n",
    "            except IndexError:\n",
    "                print(l)\n",
    "\n",
    "    return tmp\n",
    "\n",
    "\n",
    "def parse_reg(exp_type, exp_num, file, stat_name):\n",
    "    \"Parse the Perf data\"\n",
    "    stat = []\n",
    "    with open(os.path.join(current_path, exp_type, exp_num, file)) as file:\n",
    "        for line in file:\n",
    "            parts = line.strip().split(',', 4)\n",
    "            if len(parts) > 3 and parts[3] == stat_name:\n",
    "                try:\n",
    "                    value = float(parts[1])\n",
    "                except ValueError:\n",
    "                    value = np.nan\n",
    "                stat.append(value)\n",
    "            # if re.search(stat_name, line):\n",
    "            #     try:\n",
    "            #         value = float(line.strip().split(',')[index])\n",
    "            #     except ValueError:\n",
    "            #         value = np.nan\n",
    "            #     stat.append(value)\n",
    "\n",
    "    return stat[:-1]\n",
    "\n",
    "\n",
    "def parse_reg_all(exp_type, exp_num, file):\n",
    "    stat = {}\n",
    "    with open(os.path.join(current_path, exp_type, exp_num, file)) as file:\n",
    "        for line in file:\n",
    "            parts = line.strip().split(',', 4)\n",
    "            if len(parts) > 3:\n",
    "                key = parts[3]\n",
    "                try:\n",
    "                    value = float(parts[1])\n",
    "                except ValueError:\n",
    "                    value = np.nan\n",
    "                if key in stat:\n",
    "                    stat[key].append(value)\n",
    "                else:\n",
    "                    stat[key] = [value]\n",
    "    for key in stat.keys():\n",
    "        stat[key] = stat[key][:-1]\n",
    "    return stat\n",
    "\n",
    "\n",
    "def count_reg_records(exp_type, exp_num, file):\n",
    "    last_index = \"\"\n",
    "    count = 0\n",
    "    with open(os.path.join(current_path, exp_type, exp_num, file)) as file:\n",
    "        for line in file:\n",
    "            first_comma = line.find(\",\")\n",
    "            if first_comma == -1:\n",
    "                continue\n",
    "            index = line[:first_comma]\n",
    "            if index != last_index:\n",
    "                count += 1\n",
    "                last_index = index\n",
    "    return count"
   ],
   "metadata": {
    "collapsed": false,
    "ExecuteTime": {
     "end_time": "2024-03-05T07:31:20.544362Z",
     "start_time": "2024-03-05T07:31:20.519302Z"
    }
   },
   "id": "e6778b1c6ebb0bd6",
   "execution_count": 246
  },
  {
   "cell_type": "code",
   "outputs": [],
   "source": [
    "def make_df(exp_type, exp_ls, dataframe_pcm, debug=True):\n",
    "    tx_stats = parse_seq(exp_type, exp_ls, \"tx_stats.csv\")\n",
    "    rx_stats = parse_seq(exp_type, exp_ls, \"rx_stats.csv\")\n",
    "    latency = parse_seq(exp_type, exp_ls, \"latency.csv\")\n",
    "\n",
    "    tx_stats = tx_stats[1:]\n",
    "    rx_stats = rx_stats[1:]\n",
    "    latency = latency[1:]\n",
    "\n",
    "    # Drop system time\n",
    "    dataframe_pcm_notime = dataframe_pcm.drop([\"System Time\"], axis=1)\n",
    "    dataframe_pcm_notime_dt = dataframe_pcm_notime.diff()\n",
    "    dataframe_pcm_merged_dt = dataframe_pcm_notime.join(dataframe_pcm_notime_dt, rsuffix=\"_dt\")\n",
    "    dataframe_pcm_merged_dt = dataframe_pcm_merged_dt.shift(-1).iloc[:-1, :]\n",
    "    dataframe_pcm_merged = dataframe_pcm_notime.shift(-1).iloc[:-1, :]\n",
    "    assert len(dataframe_pcm_merged_dt) == len(dataframe_pcm_notime) - 1 == len(dataframe_pcm_merged)\n",
    "\n",
    "    seq_length = min(len(tx_stats),\n",
    "                     len(rx_stats),\n",
    "                     len(latency),\n",
    "                     len(dataframe_pcm_merged_dt)  # features, to be diffed\n",
    "                     )\n",
    "\n",
    "    tx_stats = tx_stats[:seq_length]\n",
    "    rx_stats = rx_stats[:seq_length]\n",
    "    latency = latency[:seq_length]\n",
    "    dataframe_pcm_merged_dt = dataframe_pcm_merged_dt.iloc[:seq_length, :]\n",
    "    dataframe_pcm_merged = dataframe_pcm_merged.iloc[:seq_length, :]\n",
    "\n",
    "    assert len(tx_stats) == len(rx_stats) == len(latency) == len(\n",
    "        dataframe_pcm_merged_dt), f\"{len(tx_stats)}, {len(rx_stats)}, {len(latency)}, {len(dataframe_pcm_merged_dt)}\"\n",
    "\n",
    "    dataframe_merged_dt = dataframe_pcm_merged_dt\n",
    "    dataframe_merged_dt.insert(0, \"input_rate\", rx_stats)\n",
    "    dataframe_merged_dt.insert(1, \"output_rate\", tx_stats)\n",
    "    dataframe_merged_dt.insert(2, \"latency\", latency)\n",
    "\n",
    "    dataframe_merged = dataframe_pcm_merged\n",
    "    dataframe_merged.insert(0, \"input_rate\", rx_stats)\n",
    "    dataframe_merged.insert(1, \"output_rate\", tx_stats)\n",
    "    dataframe_merged.insert(2, \"latency\", latency)\n",
    "\n",
    "    if debug:\n",
    "        print(\"seq_length:\", seq_length)\n",
    "        print(\"tx_stats:\", len(tx_stats))\n",
    "        print(\"rx_stats:\", len(rx_stats))\n",
    "        print(\"latency:\", len(latency))\n",
    "        print(\"pcm:\", len(dataframe_pcm_merged_dt))\n",
    "\n",
    "    return dataframe_merged, dataframe_merged_dt\n"
   ],
   "metadata": {
    "collapsed": false,
    "ExecuteTime": {
     "end_time": "2024-03-05T07:31:20.591230Z",
     "start_time": "2024-03-05T07:31:20.576540Z"
    }
   },
   "id": "b9055cd0c91718a9",
   "execution_count": 247
  },
  {
   "cell_type": "code",
   "outputs": [
    {
     "name": "stdout",
     "output_type": "stream",
     "text": [
      "System Time\n",
      "bridge Socket 0 EXEC\n",
      "bridge Socket 0 IPC\n",
      "bridge Socket 0 FREQ\n",
      "bridge Socket 0 AFREQ\n",
      "bridge Socket 0 L3MISS\n",
      "bridge Socket 0 L2MISS\n",
      "bridge Socket 0 L3HIT\n",
      "bridge Socket 0 L2HIT\n",
      "bridge Socket 0 L3MPI\n",
      "bridge Socket 0 L2MPI\n",
      "bridge Socket 0 L3OCC\n",
      "bridge Socket 0 READ\n",
      "bridge Socket 0 WRITE\n",
      "bridge Socket 0 LOCAL\n",
      "bridge Socket 0 TEMP\n",
      "bridge Socket 0 INST\n",
      "bridge Socket 0 ACYC\n",
      "bridge Socket 0 TIME(ticks)\n",
      "bridge Socket 0 PhysIPC\n",
      "bridge Socket 0 PhysIPC%\n",
      "bridge Socket 0 INSTnom\n",
      "bridge Socket 0 INSTnom%\n",
      "bridge Socket 1 EXEC\n",
      "bridge Socket 1 IPC\n",
      "bridge Socket 1 FREQ\n",
      "bridge Socket 1 AFREQ\n",
      "bridge Socket 1 L3MISS\n",
      "bridge Socket 1 L2MISS\n",
      "bridge Socket 1 L3HIT\n",
      "bridge Socket 1 L2HIT\n",
      "bridge Socket 1 L3MPI\n",
      "bridge Socket 1 L2MPI\n",
      "bridge Socket 1 L3OCC\n",
      "bridge Socket 1 READ\n",
      "bridge Socket 1 WRITE\n",
      "bridge Socket 1 LOCAL\n",
      "bridge Socket 1 TEMP\n",
      "bridge Socket 1 INST\n",
      "bridge Socket 1 ACYC\n",
      "bridge Socket 1 TIME(ticks)\n",
      "bridge Socket 1 PhysIPC\n",
      "bridge Socket 1 PhysIPC%\n",
      "bridge Socket 1 INSTnom\n",
      "bridge Socket 1 INSTnom%\n",
      "bridge SKT0 Core C-State C0res%\n",
      "bridge SKT0 Core C-State C1res%\n",
      "bridge SKT0 Core C-State C3res%\n",
      "bridge SKT0 Core C-State C6res%\n",
      "bridge SKT0 Core C-State C7res%\n",
      "bridge SKT0 Package C-State C0res%\n",
      "bridge SKT0 Package C-State C2res%\n",
      "bridge SKT0 Package C-State C3res%\n",
      "bridge SKT0 Package C-State C6res%\n",
      "bridge SKT0 Package C-State C7res%\n",
      "bridge SKT1 Core C-State C0res%\n",
      "bridge SKT1 Core C-State C1res%\n",
      "bridge SKT1 Core C-State C3res%\n",
      "bridge SKT1 Core C-State C6res%\n",
      "bridge SKT1 Core C-State C7res%\n",
      "bridge SKT1 Package C-State C0res%\n",
      "bridge SKT1 Package C-State C2res%\n",
      "bridge SKT1 Package C-State C3res%\n",
      "bridge SKT1 Package C-State C6res%\n",
      "bridge SKT1 Package C-State C7res%\n",
      "bridge Proc Energy (Joules) SKT0\n",
      "bridge Proc Energy (Joules) SKT1\n",
      "bridge DRAM Energy (Joules) SKT0\n",
      "bridge DRAM Energy (Joules) SKT1\n",
      "bridge LLCRDMISSLAT (ns) SKT0\n",
      "bridge LLCRDMISSLAT (ns) SKT1\n",
      "bridge UncFREQ (Ghz) SKT0\n",
      "bridge UncFREQ (Ghz) SKT1\n",
      "bridge Core (Socket) EXEC\n",
      "bridge Core (Socket) IPC\n",
      "bridge Core (Socket) FREQ\n",
      "bridge Core (Socket) AFREQ\n",
      "bridge Core (Socket) L3MISS\n",
      "bridge Core (Socket) L2MISS\n",
      "bridge Core (Socket) L3HIT\n",
      "bridge Core (Socket) L2HIT\n",
      "bridge Core (Socket) L3MPI\n",
      "bridge Core (Socket) L2MPI\n",
      "bridge Core (Socket) L3OCC\n",
      "bridge Core (Socket) C0res%\n",
      "bridge Core (Socket) C1res%\n",
      "bridge Core (Socket) C3res%\n",
      "bridge Core (Socket) C6res%\n",
      "bridge Core (Socket) C7res%\n",
      "bridge Core (Socket) TEMP\n",
      "bridge Core (Socket) INST\n",
      "bridge Core (Socket) ACYC\n",
      "bridge Core (Socket) TIME(ticks)\n",
      "bridge Core (Socket) PhysIPC\n",
      "bridge Core (Socket) PhysIPC%\n",
      "bridge Core (Socket) INSTnom\n",
      "bridge Core (Socket) INSTnom%\n",
      "firewall Socket 0 EXEC\n",
      "firewall Socket 0 IPC\n",
      "firewall Socket 0 FREQ\n",
      "firewall Socket 0 AFREQ\n",
      "firewall Socket 0 L3MISS\n",
      "firewall Socket 0 L2MISS\n",
      "firewall Socket 0 L3HIT\n",
      "firewall Socket 0 L2HIT\n",
      "firewall Socket 0 L3MPI\n",
      "firewall Socket 0 L2MPI\n",
      "firewall Socket 0 L3OCC\n",
      "firewall Socket 0 READ\n",
      "firewall Socket 0 WRITE\n",
      "firewall Socket 0 LOCAL\n",
      "firewall Socket 0 TEMP\n",
      "firewall Socket 0 INST\n",
      "firewall Socket 0 ACYC\n",
      "firewall Socket 0 TIME(ticks)\n",
      "firewall Socket 0 PhysIPC\n",
      "firewall Socket 0 PhysIPC%\n",
      "firewall Socket 0 INSTnom\n",
      "firewall Socket 0 INSTnom%\n",
      "firewall Socket 1 EXEC\n",
      "firewall Socket 1 IPC\n",
      "firewall Socket 1 FREQ\n",
      "firewall Socket 1 AFREQ\n",
      "firewall Socket 1 L3MISS\n",
      "firewall Socket 1 L2MISS\n",
      "firewall Socket 1 L3HIT\n",
      "firewall Socket 1 L2HIT\n",
      "firewall Socket 1 L3MPI\n",
      "firewall Socket 1 L2MPI\n",
      "firewall Socket 1 L3OCC\n",
      "firewall Socket 1 READ\n",
      "firewall Socket 1 WRITE\n",
      "firewall Socket 1 LOCAL\n",
      "firewall Socket 1 TEMP\n",
      "firewall Socket 1 INST\n",
      "firewall Socket 1 ACYC\n",
      "firewall Socket 1 TIME(ticks)\n",
      "firewall Socket 1 PhysIPC\n",
      "firewall Socket 1 PhysIPC%\n",
      "firewall Socket 1 INSTnom\n",
      "firewall Socket 1 INSTnom%\n",
      "firewall SKT0 Core C-State C0res%\n",
      "firewall SKT0 Core C-State C1res%\n",
      "firewall SKT0 Core C-State C3res%\n",
      "firewall SKT0 Core C-State C6res%\n",
      "firewall SKT0 Core C-State C7res%\n",
      "firewall SKT0 Package C-State C0res%\n",
      "firewall SKT0 Package C-State C2res%\n",
      "firewall SKT0 Package C-State C3res%\n",
      "firewall SKT0 Package C-State C6res%\n",
      "firewall SKT0 Package C-State C7res%\n",
      "firewall SKT1 Core C-State C0res%\n",
      "firewall SKT1 Core C-State C1res%\n",
      "firewall SKT1 Core C-State C3res%\n",
      "firewall SKT1 Core C-State C6res%\n",
      "firewall SKT1 Core C-State C7res%\n",
      "firewall SKT1 Package C-State C0res%\n",
      "firewall SKT1 Package C-State C2res%\n",
      "firewall SKT1 Package C-State C3res%\n",
      "firewall SKT1 Package C-State C6res%\n",
      "firewall SKT1 Package C-State C7res%\n",
      "firewall Proc Energy (Joules) SKT0\n",
      "firewall Proc Energy (Joules) SKT1\n",
      "firewall DRAM Energy (Joules) SKT0\n",
      "firewall DRAM Energy (Joules) SKT1\n",
      "firewall LLCRDMISSLAT (ns) SKT0\n",
      "firewall LLCRDMISSLAT (ns) SKT1\n",
      "firewall UncFREQ (Ghz) SKT0\n",
      "firewall UncFREQ (Ghz) SKT1\n",
      "firewall Core (Socket) EXEC\n",
      "firewall Core (Socket) IPC\n",
      "firewall Core (Socket) FREQ\n",
      "firewall Core (Socket) AFREQ\n",
      "firewall Core (Socket) L3MISS\n",
      "firewall Core (Socket) L2MISS\n",
      "firewall Core (Socket) L3HIT\n",
      "firewall Core (Socket) L2HIT\n",
      "firewall Core (Socket) L3MPI\n",
      "firewall Core (Socket) L2MPI\n",
      "firewall Core (Socket) L3OCC\n",
      "firewall Core (Socket) C0res%\n",
      "firewall Core (Socket) C1res%\n",
      "firewall Core (Socket) C3res%\n",
      "firewall Core (Socket) C6res%\n",
      "firewall Core (Socket) C7res%\n",
      "firewall Core (Socket) TEMP\n",
      "firewall Core (Socket) INST\n",
      "firewall Core (Socket) ACYC\n",
      "firewall Core (Socket) TIME(ticks)\n",
      "firewall Core (Socket) PhysIPC\n",
      "firewall Core (Socket) PhysIPC%\n",
      "firewall Core (Socket) INSTnom\n",
      "firewall Core (Socket) INSTnom%\n",
      "ndpi_stats Socket 0 EXEC\n",
      "ndpi_stats Socket 0 IPC\n",
      "ndpi_stats Socket 0 FREQ\n",
      "ndpi_stats Socket 0 AFREQ\n",
      "ndpi_stats Socket 0 L3MISS\n",
      "ndpi_stats Socket 0 L2MISS\n",
      "ndpi_stats Socket 0 L3HIT\n",
      "ndpi_stats Socket 0 L2HIT\n",
      "ndpi_stats Socket 0 L3MPI\n",
      "ndpi_stats Socket 0 L2MPI\n",
      "ndpi_stats Socket 0 L3OCC\n",
      "ndpi_stats Socket 0 READ\n",
      "ndpi_stats Socket 0 WRITE\n",
      "ndpi_stats Socket 0 LOCAL\n",
      "ndpi_stats Socket 0 TEMP\n",
      "ndpi_stats Socket 0 INST\n",
      "ndpi_stats Socket 0 ACYC\n",
      "ndpi_stats Socket 0 TIME(ticks)\n",
      "ndpi_stats Socket 0 PhysIPC\n",
      "ndpi_stats Socket 0 PhysIPC%\n",
      "ndpi_stats Socket 0 INSTnom\n",
      "ndpi_stats Socket 0 INSTnom%\n",
      "ndpi_stats Socket 1 EXEC\n",
      "ndpi_stats Socket 1 IPC\n",
      "ndpi_stats Socket 1 FREQ\n",
      "ndpi_stats Socket 1 AFREQ\n",
      "ndpi_stats Socket 1 L3MISS\n",
      "ndpi_stats Socket 1 L2MISS\n",
      "ndpi_stats Socket 1 L3HIT\n",
      "ndpi_stats Socket 1 L2HIT\n",
      "ndpi_stats Socket 1 L3MPI\n",
      "ndpi_stats Socket 1 L2MPI\n",
      "ndpi_stats Socket 1 L3OCC\n",
      "ndpi_stats Socket 1 READ\n",
      "ndpi_stats Socket 1 WRITE\n",
      "ndpi_stats Socket 1 LOCAL\n",
      "ndpi_stats Socket 1 TEMP\n",
      "ndpi_stats Socket 1 INST\n",
      "ndpi_stats Socket 1 ACYC\n",
      "ndpi_stats Socket 1 TIME(ticks)\n",
      "ndpi_stats Socket 1 PhysIPC\n",
      "ndpi_stats Socket 1 PhysIPC%\n",
      "ndpi_stats Socket 1 INSTnom\n",
      "ndpi_stats Socket 1 INSTnom%\n",
      "ndpi_stats SKT0 Core C-State C0res%\n",
      "ndpi_stats SKT0 Core C-State C1res%\n",
      "ndpi_stats SKT0 Core C-State C3res%\n",
      "ndpi_stats SKT0 Core C-State C6res%\n",
      "ndpi_stats SKT0 Core C-State C7res%\n",
      "ndpi_stats SKT0 Package C-State C0res%\n",
      "ndpi_stats SKT0 Package C-State C2res%\n",
      "ndpi_stats SKT0 Package C-State C3res%\n",
      "ndpi_stats SKT0 Package C-State C6res%\n",
      "ndpi_stats SKT0 Package C-State C7res%\n",
      "ndpi_stats SKT1 Core C-State C0res%\n",
      "ndpi_stats SKT1 Core C-State C1res%\n",
      "ndpi_stats SKT1 Core C-State C3res%\n",
      "ndpi_stats SKT1 Core C-State C6res%\n",
      "ndpi_stats SKT1 Core C-State C7res%\n",
      "ndpi_stats SKT1 Package C-State C0res%\n",
      "ndpi_stats SKT1 Package C-State C2res%\n",
      "ndpi_stats SKT1 Package C-State C3res%\n",
      "ndpi_stats SKT1 Package C-State C6res%\n",
      "ndpi_stats SKT1 Package C-State C7res%\n",
      "ndpi_stats Proc Energy (Joules) SKT0\n",
      "ndpi_stats Proc Energy (Joules) SKT1\n",
      "ndpi_stats DRAM Energy (Joules) SKT0\n",
      "ndpi_stats DRAM Energy (Joules) SKT1\n",
      "ndpi_stats LLCRDMISSLAT (ns) SKT0\n",
      "ndpi_stats LLCRDMISSLAT (ns) SKT1\n",
      "ndpi_stats UncFREQ (Ghz) SKT0\n",
      "ndpi_stats UncFREQ (Ghz) SKT1\n",
      "ndpi_stats Core (Socket) EXEC\n",
      "ndpi_stats Core (Socket) IPC\n",
      "ndpi_stats Core (Socket) FREQ\n",
      "ndpi_stats Core (Socket) AFREQ\n",
      "ndpi_stats Core (Socket) L3MISS\n",
      "ndpi_stats Core (Socket) L2MISS\n",
      "ndpi_stats Core (Socket) L3HIT\n",
      "ndpi_stats Core (Socket) L2HIT\n",
      "ndpi_stats Core (Socket) L3MPI\n",
      "ndpi_stats Core (Socket) L2MPI\n",
      "ndpi_stats Core (Socket) L3OCC\n",
      "ndpi_stats Core (Socket) C0res%\n",
      "ndpi_stats Core (Socket) C1res%\n",
      "ndpi_stats Core (Socket) C3res%\n",
      "ndpi_stats Core (Socket) C6res%\n",
      "ndpi_stats Core (Socket) C7res%\n",
      "ndpi_stats Core (Socket) TEMP\n",
      "ndpi_stats Core (Socket) INST\n",
      "ndpi_stats Core (Socket) ACYC\n",
      "ndpi_stats Core (Socket) TIME(ticks)\n",
      "ndpi_stats Core (Socket) PhysIPC\n",
      "ndpi_stats Core (Socket) PhysIPC%\n",
      "ndpi_stats Core (Socket) INSTnom\n",
      "ndpi_stats Core (Socket) INSTnom%\n",
      "nf_router Socket 0 EXEC\n",
      "nf_router Socket 0 IPC\n",
      "nf_router Socket 0 FREQ\n",
      "nf_router Socket 0 AFREQ\n",
      "nf_router Socket 0 L3MISS\n",
      "nf_router Socket 0 L2MISS\n",
      "nf_router Socket 0 L3HIT\n",
      "nf_router Socket 0 L2HIT\n",
      "nf_router Socket 0 L3MPI\n",
      "nf_router Socket 0 L2MPI\n",
      "nf_router Socket 0 L3OCC\n",
      "nf_router Socket 0 READ\n",
      "nf_router Socket 0 WRITE\n",
      "nf_router Socket 0 LOCAL\n",
      "nf_router Socket 0 TEMP\n",
      "nf_router Socket 0 INST\n",
      "nf_router Socket 0 ACYC\n",
      "nf_router Socket 0 TIME(ticks)\n",
      "nf_router Socket 0 PhysIPC\n",
      "nf_router Socket 0 PhysIPC%\n",
      "nf_router Socket 0 INSTnom\n",
      "nf_router Socket 0 INSTnom%\n",
      "nf_router Socket 1 EXEC\n",
      "nf_router Socket 1 IPC\n",
      "nf_router Socket 1 FREQ\n",
      "nf_router Socket 1 AFREQ\n",
      "nf_router Socket 1 L3MISS\n",
      "nf_router Socket 1 L2MISS\n",
      "nf_router Socket 1 L3HIT\n",
      "nf_router Socket 1 L2HIT\n",
      "nf_router Socket 1 L3MPI\n",
      "nf_router Socket 1 L2MPI\n",
      "nf_router Socket 1 L3OCC\n",
      "nf_router Socket 1 READ\n",
      "nf_router Socket 1 WRITE\n",
      "nf_router Socket 1 LOCAL\n",
      "nf_router Socket 1 TEMP\n",
      "nf_router Socket 1 INST\n",
      "nf_router Socket 1 ACYC\n",
      "nf_router Socket 1 TIME(ticks)\n",
      "nf_router Socket 1 PhysIPC\n",
      "nf_router Socket 1 PhysIPC%\n",
      "nf_router Socket 1 INSTnom\n",
      "nf_router Socket 1 INSTnom%\n",
      "nf_router SKT0 Core C-State C0res%\n",
      "nf_router SKT0 Core C-State C1res%\n",
      "nf_router SKT0 Core C-State C3res%\n",
      "nf_router SKT0 Core C-State C6res%\n",
      "nf_router SKT0 Core C-State C7res%\n",
      "nf_router SKT0 Package C-State C0res%\n",
      "nf_router SKT0 Package C-State C2res%\n",
      "nf_router SKT0 Package C-State C3res%\n",
      "nf_router SKT0 Package C-State C6res%\n",
      "nf_router SKT0 Package C-State C7res%\n",
      "nf_router SKT1 Core C-State C0res%\n",
      "nf_router SKT1 Core C-State C1res%\n",
      "nf_router SKT1 Core C-State C3res%\n",
      "nf_router SKT1 Core C-State C6res%\n",
      "nf_router SKT1 Core C-State C7res%\n",
      "nf_router SKT1 Package C-State C0res%\n",
      "nf_router SKT1 Package C-State C2res%\n",
      "nf_router SKT1 Package C-State C3res%\n",
      "nf_router SKT1 Package C-State C6res%\n",
      "nf_router SKT1 Package C-State C7res%\n",
      "nf_router Proc Energy (Joules) SKT0\n",
      "nf_router Proc Energy (Joules) SKT1\n",
      "nf_router DRAM Energy (Joules) SKT0\n",
      "nf_router DRAM Energy (Joules) SKT1\n",
      "nf_router LLCRDMISSLAT (ns) SKT0\n",
      "nf_router LLCRDMISSLAT (ns) SKT1\n",
      "nf_router UncFREQ (Ghz) SKT0\n",
      "nf_router UncFREQ (Ghz) SKT1\n",
      "nf_router Core (Socket) EXEC\n",
      "nf_router Core (Socket) IPC\n",
      "nf_router Core (Socket) FREQ\n",
      "nf_router Core (Socket) AFREQ\n",
      "nf_router Core (Socket) L3MISS\n",
      "nf_router Core (Socket) L2MISS\n",
      "nf_router Core (Socket) L3HIT\n",
      "nf_router Core (Socket) L2HIT\n",
      "nf_router Core (Socket) L3MPI\n",
      "nf_router Core (Socket) L2MPI\n",
      "nf_router Core (Socket) L3OCC\n",
      "nf_router Core (Socket) C0res%\n",
      "nf_router Core (Socket) C1res%\n",
      "nf_router Core (Socket) C3res%\n",
      "nf_router Core (Socket) C6res%\n",
      "nf_router Core (Socket) C7res%\n",
      "nf_router Core (Socket) TEMP\n",
      "nf_router Core (Socket) INST\n",
      "nf_router Core (Socket) ACYC\n",
      "nf_router Core (Socket) TIME(ticks)\n",
      "nf_router Core (Socket) PhysIPC\n",
      "nf_router Core (Socket) PhysIPC%\n",
      "nf_router Core (Socket) INSTnom\n",
      "nf_router Core (Socket) INSTnom%\n",
      "payload_scan Socket 0 EXEC\n",
      "payload_scan Socket 0 IPC\n",
      "payload_scan Socket 0 FREQ\n",
      "payload_scan Socket 0 AFREQ\n",
      "payload_scan Socket 0 L3MISS\n",
      "payload_scan Socket 0 L2MISS\n",
      "payload_scan Socket 0 L3HIT\n",
      "payload_scan Socket 0 L2HIT\n",
      "payload_scan Socket 0 L3MPI\n",
      "payload_scan Socket 0 L2MPI\n",
      "payload_scan Socket 0 L3OCC\n",
      "payload_scan Socket 0 READ\n",
      "payload_scan Socket 0 WRITE\n",
      "payload_scan Socket 0 LOCAL\n",
      "payload_scan Socket 0 TEMP\n",
      "payload_scan Socket 0 INST\n",
      "payload_scan Socket 0 ACYC\n",
      "payload_scan Socket 0 TIME(ticks)\n",
      "payload_scan Socket 0 PhysIPC\n",
      "payload_scan Socket 0 PhysIPC%\n",
      "payload_scan Socket 0 INSTnom\n",
      "payload_scan Socket 0 INSTnom%\n",
      "payload_scan Socket 1 EXEC\n",
      "payload_scan Socket 1 IPC\n",
      "payload_scan Socket 1 FREQ\n",
      "payload_scan Socket 1 AFREQ\n",
      "payload_scan Socket 1 L3MISS\n",
      "payload_scan Socket 1 L2MISS\n",
      "payload_scan Socket 1 L3HIT\n",
      "payload_scan Socket 1 L2HIT\n",
      "payload_scan Socket 1 L3MPI\n",
      "payload_scan Socket 1 L2MPI\n",
      "payload_scan Socket 1 L3OCC\n",
      "payload_scan Socket 1 READ\n",
      "payload_scan Socket 1 WRITE\n",
      "payload_scan Socket 1 LOCAL\n",
      "payload_scan Socket 1 TEMP\n",
      "payload_scan Socket 1 INST\n",
      "payload_scan Socket 1 ACYC\n",
      "payload_scan Socket 1 TIME(ticks)\n",
      "payload_scan Socket 1 PhysIPC\n",
      "payload_scan Socket 1 PhysIPC%\n",
      "payload_scan Socket 1 INSTnom\n",
      "payload_scan Socket 1 INSTnom%\n",
      "payload_scan SKT0 Core C-State C0res%\n",
      "payload_scan SKT0 Core C-State C1res%\n",
      "payload_scan SKT0 Core C-State C3res%\n",
      "payload_scan SKT0 Core C-State C6res%\n",
      "payload_scan SKT0 Core C-State C7res%\n",
      "payload_scan SKT0 Package C-State C0res%\n",
      "payload_scan SKT0 Package C-State C2res%\n",
      "payload_scan SKT0 Package C-State C3res%\n",
      "payload_scan SKT0 Package C-State C6res%\n",
      "payload_scan SKT0 Package C-State C7res%\n",
      "payload_scan SKT1 Core C-State C0res%\n",
      "payload_scan SKT1 Core C-State C1res%\n",
      "payload_scan SKT1 Core C-State C3res%\n",
      "payload_scan SKT1 Core C-State C6res%\n",
      "payload_scan SKT1 Core C-State C7res%\n",
      "payload_scan SKT1 Package C-State C0res%\n",
      "payload_scan SKT1 Package C-State C2res%\n",
      "payload_scan SKT1 Package C-State C3res%\n",
      "payload_scan SKT1 Package C-State C6res%\n",
      "payload_scan SKT1 Package C-State C7res%\n",
      "payload_scan Proc Energy (Joules) SKT0\n",
      "payload_scan Proc Energy (Joules) SKT1\n",
      "payload_scan DRAM Energy (Joules) SKT0\n",
      "payload_scan DRAM Energy (Joules) SKT1\n",
      "payload_scan LLCRDMISSLAT (ns) SKT0\n",
      "payload_scan LLCRDMISSLAT (ns) SKT1\n",
      "payload_scan UncFREQ (Ghz) SKT0\n",
      "payload_scan UncFREQ (Ghz) SKT1\n",
      "payload_scan Core (Socket) EXEC\n",
      "payload_scan Core (Socket) IPC\n",
      "payload_scan Core (Socket) FREQ\n",
      "payload_scan Core (Socket) AFREQ\n",
      "payload_scan Core (Socket) L3MISS\n",
      "payload_scan Core (Socket) L2MISS\n",
      "payload_scan Core (Socket) L3HIT\n",
      "payload_scan Core (Socket) L2HIT\n",
      "payload_scan Core (Socket) L3MPI\n",
      "payload_scan Core (Socket) L2MPI\n",
      "payload_scan Core (Socket) L3OCC\n",
      "payload_scan Core (Socket) C0res%\n",
      "payload_scan Core (Socket) C1res%\n",
      "payload_scan Core (Socket) C3res%\n",
      "payload_scan Core (Socket) C6res%\n",
      "payload_scan Core (Socket) C7res%\n",
      "payload_scan Core (Socket) TEMP\n",
      "payload_scan Core (Socket) INST\n",
      "payload_scan Core (Socket) ACYC\n",
      "payload_scan Core (Socket) TIME(ticks)\n",
      "payload_scan Core (Socket) PhysIPC\n",
      "payload_scan Core (Socket) PhysIPC%\n",
      "payload_scan Core (Socket) INSTnom\n",
      "payload_scan Core (Socket) INSTnom%\n",
      "rx Socket 0 EXEC\n",
      "rx Socket 0 IPC\n",
      "rx Socket 0 FREQ\n",
      "rx Socket 0 AFREQ\n",
      "rx Socket 0 L3MISS\n",
      "rx Socket 0 L2MISS\n",
      "rx Socket 0 L3HIT\n",
      "rx Socket 0 L2HIT\n",
      "rx Socket 0 L3MPI\n",
      "rx Socket 0 L2MPI\n",
      "rx Socket 0 L3OCC\n",
      "rx Socket 0 READ\n",
      "rx Socket 0 WRITE\n",
      "rx Socket 0 LOCAL\n",
      "rx Socket 0 TEMP\n",
      "rx Socket 0 INST\n",
      "rx Socket 0 ACYC\n",
      "rx Socket 0 TIME(ticks)\n",
      "rx Socket 0 PhysIPC\n",
      "rx Socket 0 PhysIPC%\n",
      "rx Socket 0 INSTnom\n",
      "rx Socket 0 INSTnom%\n",
      "rx Socket 1 EXEC\n",
      "rx Socket 1 IPC\n",
      "rx Socket 1 FREQ\n",
      "rx Socket 1 AFREQ\n",
      "rx Socket 1 L3MISS\n",
      "rx Socket 1 L2MISS\n",
      "rx Socket 1 L3HIT\n",
      "rx Socket 1 L2HIT\n",
      "rx Socket 1 L3MPI\n",
      "rx Socket 1 L2MPI\n",
      "rx Socket 1 L3OCC\n",
      "rx Socket 1 READ\n",
      "rx Socket 1 WRITE\n",
      "rx Socket 1 LOCAL\n",
      "rx Socket 1 TEMP\n",
      "rx Socket 1 INST\n",
      "rx Socket 1 ACYC\n",
      "rx Socket 1 TIME(ticks)\n",
      "rx Socket 1 PhysIPC\n",
      "rx Socket 1 PhysIPC%\n",
      "rx Socket 1 INSTnom\n",
      "rx Socket 1 INSTnom%\n",
      "rx SKT0 Core C-State C0res%\n",
      "rx SKT0 Core C-State C1res%\n",
      "rx SKT0 Core C-State C3res%\n",
      "rx SKT0 Core C-State C6res%\n",
      "rx SKT0 Core C-State C7res%\n",
      "rx SKT0 Package C-State C0res%\n",
      "rx SKT0 Package C-State C2res%\n",
      "rx SKT0 Package C-State C3res%\n",
      "rx SKT0 Package C-State C6res%\n",
      "rx SKT0 Package C-State C7res%\n",
      "rx SKT1 Core C-State C0res%\n",
      "rx SKT1 Core C-State C1res%\n",
      "rx SKT1 Core C-State C3res%\n",
      "rx SKT1 Core C-State C6res%\n",
      "rx SKT1 Core C-State C7res%\n",
      "rx SKT1 Package C-State C0res%\n",
      "rx SKT1 Package C-State C2res%\n",
      "rx SKT1 Package C-State C3res%\n",
      "rx SKT1 Package C-State C6res%\n",
      "rx SKT1 Package C-State C7res%\n",
      "rx Proc Energy (Joules) SKT0\n",
      "rx Proc Energy (Joules) SKT1\n",
      "rx DRAM Energy (Joules) SKT0\n",
      "rx DRAM Energy (Joules) SKT1\n",
      "rx LLCRDMISSLAT (ns) SKT0\n",
      "rx LLCRDMISSLAT (ns) SKT1\n",
      "rx UncFREQ (Ghz) SKT0\n",
      "rx UncFREQ (Ghz) SKT1\n",
      "rx Core (Socket) EXEC\n",
      "rx Core (Socket) IPC\n",
      "rx Core (Socket) FREQ\n",
      "rx Core (Socket) AFREQ\n",
      "rx Core (Socket) L3MISS\n",
      "rx Core (Socket) L2MISS\n",
      "rx Core (Socket) L3HIT\n",
      "rx Core (Socket) L2HIT\n",
      "rx Core (Socket) L3MPI\n",
      "rx Core (Socket) L2MPI\n",
      "rx Core (Socket) L3OCC\n",
      "rx Core (Socket) C0res%\n",
      "rx Core (Socket) C1res%\n",
      "rx Core (Socket) C3res%\n",
      "rx Core (Socket) C6res%\n",
      "rx Core (Socket) C7res%\n",
      "rx Core (Socket) TEMP\n",
      "rx Core (Socket) INST\n",
      "rx Core (Socket) ACYC\n",
      "rx Core (Socket) TIME(ticks)\n",
      "rx Core (Socket) PhysIPC\n",
      "rx Core (Socket) PhysIPC%\n",
      "rx Core (Socket) INSTnom\n",
      "rx Core (Socket) INSTnom%\n",
      "tx Socket 0 EXEC\n",
      "tx Socket 0 IPC\n",
      "tx Socket 0 FREQ\n",
      "tx Socket 0 AFREQ\n",
      "tx Socket 0 L3MISS\n",
      "tx Socket 0 L2MISS\n",
      "tx Socket 0 L3HIT\n",
      "tx Socket 0 L2HIT\n",
      "tx Socket 0 L3MPI\n",
      "tx Socket 0 L2MPI\n",
      "tx Socket 0 L3OCC\n",
      "tx Socket 0 READ\n",
      "tx Socket 0 WRITE\n",
      "tx Socket 0 LOCAL\n",
      "tx Socket 0 TEMP\n",
      "tx Socket 0 INST\n",
      "tx Socket 0 ACYC\n",
      "tx Socket 0 TIME(ticks)\n",
      "tx Socket 0 PhysIPC\n",
      "tx Socket 0 PhysIPC%\n",
      "tx Socket 0 INSTnom\n",
      "tx Socket 0 INSTnom%\n",
      "tx Socket 1 EXEC\n",
      "tx Socket 1 IPC\n",
      "tx Socket 1 FREQ\n",
      "tx Socket 1 AFREQ\n",
      "tx Socket 1 L3MISS\n",
      "tx Socket 1 L2MISS\n",
      "tx Socket 1 L3HIT\n",
      "tx Socket 1 L2HIT\n",
      "tx Socket 1 L3MPI\n",
      "tx Socket 1 L2MPI\n",
      "tx Socket 1 L3OCC\n",
      "tx Socket 1 READ\n",
      "tx Socket 1 WRITE\n",
      "tx Socket 1 LOCAL\n",
      "tx Socket 1 TEMP\n",
      "tx Socket 1 INST\n",
      "tx Socket 1 ACYC\n",
      "tx Socket 1 TIME(ticks)\n",
      "tx Socket 1 PhysIPC\n",
      "tx Socket 1 PhysIPC%\n",
      "tx Socket 1 INSTnom\n",
      "tx Socket 1 INSTnom%\n",
      "tx SKT0 Core C-State C0res%\n",
      "tx SKT0 Core C-State C1res%\n",
      "tx SKT0 Core C-State C3res%\n",
      "tx SKT0 Core C-State C6res%\n",
      "tx SKT0 Core C-State C7res%\n",
      "tx SKT0 Package C-State C0res%\n",
      "tx SKT0 Package C-State C2res%\n",
      "tx SKT0 Package C-State C3res%\n",
      "tx SKT0 Package C-State C6res%\n",
      "tx SKT0 Package C-State C7res%\n",
      "tx SKT1 Core C-State C0res%\n",
      "tx SKT1 Core C-State C1res%\n",
      "tx SKT1 Core C-State C3res%\n",
      "tx SKT1 Core C-State C6res%\n",
      "tx SKT1 Core C-State C7res%\n",
      "tx SKT1 Package C-State C0res%\n",
      "tx SKT1 Package C-State C2res%\n",
      "tx SKT1 Package C-State C3res%\n",
      "tx SKT1 Package C-State C6res%\n",
      "tx SKT1 Package C-State C7res%\n",
      "tx Proc Energy (Joules) SKT0\n",
      "tx Proc Energy (Joules) SKT1\n",
      "tx DRAM Energy (Joules) SKT0\n",
      "tx DRAM Energy (Joules) SKT1\n",
      "tx LLCRDMISSLAT (ns) SKT0\n",
      "tx LLCRDMISSLAT (ns) SKT1\n",
      "tx UncFREQ (Ghz) SKT0\n",
      "tx UncFREQ (Ghz) SKT1\n",
      "tx Core (Socket) EXEC\n",
      "tx Core (Socket) IPC\n",
      "tx Core (Socket) FREQ\n",
      "tx Core (Socket) AFREQ\n",
      "tx Core (Socket) L3MISS\n",
      "tx Core (Socket) L2MISS\n",
      "tx Core (Socket) L3HIT\n",
      "tx Core (Socket) L2HIT\n",
      "tx Core (Socket) L3MPI\n",
      "tx Core (Socket) L2MPI\n",
      "tx Core (Socket) L3OCC\n",
      "tx Core (Socket) C0res%\n",
      "tx Core (Socket) C1res%\n",
      "tx Core (Socket) C3res%\n",
      "tx Core (Socket) C6res%\n",
      "tx Core (Socket) C7res%\n",
      "tx Core (Socket) TEMP\n",
      "tx Core (Socket) INST\n",
      "tx Core (Socket) ACYC\n",
      "tx Core (Socket) TIME(ticks)\n",
      "tx Core (Socket) PhysIPC\n",
      "tx Core (Socket) PhysIPC%\n",
      "tx Core (Socket) INSTnom\n",
      "tx Core (Socket) INSTnom%\n",
      "memory SKT0 Ch0Read\n",
      "memory SKT0 Ch0Write\n",
      "memory SKT0 Ch1Read\n",
      "memory SKT0 Ch1Write\n",
      "memory SKT0 Mem Read (MB/s)\n",
      "memory SKT0 Mem Write (MB/s)\n",
      "memory SKT0 P. Write (T/s)\n",
      "memory SKT0 Memory (MB/s)\n",
      "memory SKT1 Ch0Read\n",
      "memory SKT1 Ch0Write\n",
      "memory SKT1 Ch1Read\n",
      "memory SKT1 Ch1Write\n",
      "memory SKT1 Mem Read (MB/s)\n",
      "memory SKT1 Mem Write (MB/s)\n",
      "memory SKT1 P. Write (T/s)\n",
      "memory SKT1 Memory (MB/s)\n",
      "memory System Read\n",
      "memory System Write\n",
      "memory System Memory\n",
      "pcie Skt0_PCIRdCur_Total\n",
      "pcie Skt0_RFO_Total\n",
      "pcie Skt0_CRd_Total\n",
      "pcie Skt0_DRd_Total\n",
      "pcie Skt0_ItoM_Total\n",
      "pcie Skt0_PRd_Total\n",
      "pcie Skt0_WiL_Total\n",
      "pcie Skt0_PCIRdCur_Miss\n",
      "pcie Skt0_RFO_Miss\n",
      "pcie Skt0_CRd_Miss\n",
      "pcie Skt0_DRd_Miss\n",
      "pcie Skt0_ItoM_Miss\n",
      "pcie Skt0_PRd_Miss\n",
      "pcie Skt0_WiL_Miss\n",
      "pcie Skt0_PCIRdCur_Hit\n",
      "pcie Skt0_RFO_Hit\n",
      "pcie Skt0_CRd_Hit\n",
      "pcie Skt0_DRd_Hit\n",
      "pcie Skt0_ItoM_Hit\n",
      "pcie Skt0_PRd_Hit\n",
      "pcie Skt0_WiL_Hit\n",
      "pcie Skt1_PCIRdCur_Total\n",
      "pcie Skt1_RFO_Total\n",
      "pcie Skt1_CRd_Total\n",
      "pcie Skt1_DRd_Total\n",
      "pcie Skt1_ItoM_Total\n",
      "pcie Skt1_PRd_Total\n",
      "pcie Skt1_WiL_Total\n",
      "pcie Skt1_PCIRdCur_Miss\n",
      "pcie Skt1_RFO_Miss\n",
      "pcie Skt1_CRd_Miss\n",
      "pcie Skt1_DRd_Miss\n",
      "pcie Skt1_ItoM_Miss\n",
      "pcie Skt1_PRd_Miss\n",
      "pcie Skt1_WiL_Miss\n",
      "pcie Skt1_PCIRdCur_Hit\n",
      "pcie Skt1_RFO_Hit\n",
      "pcie Skt1_CRd_Hit\n",
      "pcie Skt1_DRd_Hit\n",
      "pcie Skt1_ItoM_Hit\n",
      "pcie Skt1_PRd_Hit\n",
      "pcie Skt1_WiL_Hit\n",
      "734\n"
     ]
    }
   ],
   "source": [
    "for i in pcm_dataframe_joined.columns:\n",
    "    print(i)\n",
    "\n",
    "print(len(pcm_dataframe_joined.columns))"
   ],
   "metadata": {
    "collapsed": false,
    "ExecuteTime": {
     "end_time": "2024-03-05T07:31:20.731168Z",
     "start_time": "2024-03-05T07:31:20.718396Z"
    }
   },
   "id": "6ba6f47bab89d503",
   "execution_count": 248
  },
  {
   "cell_type": "code",
   "outputs": [
    {
     "name": "stdout",
     "output_type": "stream",
     "text": [
      "seq_length: 1470\n",
      "tx_stats: 1470\n",
      "rx_stats: 1470\n",
      "latency: 1470\n",
      "pcm: 1470\n",
      "(1470, 1469)\n"
     ]
    }
   ],
   "source": [
    "exp_dataframes_nodt = []\n",
    "exp_dataframes_dt = []\n",
    "for i in experiments:\n",
    "    test_exp_num = i\n",
    "    data_nodt, data_dt = make_df(exp_type, test_exp_num, pcm_dataframe_joined)\n",
    "    exp_dataframes_nodt.append(data_nodt)\n",
    "    exp_dataframes_dt.append(data_dt)\n",
    "\n",
    "for i in range(1, len(exp_dataframes_nodt)):\n",
    "    assert len(exp_dataframes_nodt[i].columns) == len(exp_dataframes_nodt[i - 1].columns)\n",
    "    assert (exp_dataframes_nodt[i].columns == exp_dataframes_nodt[i - 1].columns).all()\n",
    "\n",
    "# join all\n",
    "dataset_orig = pd.concat(exp_dataframes_nodt, axis=0)\n",
    "dataset_dt = pd.concat(exp_dataframes_dt, axis=0)\n",
    "\n",
    "print(dataset_dt.shape)"
   ],
   "metadata": {
    "collapsed": false,
    "ExecuteTime": {
     "end_time": "2024-03-05T07:31:20.871176Z",
     "start_time": "2024-03-05T07:31:20.817235Z"
    }
   },
   "id": "c58d6265bbf78f08",
   "execution_count": 249
  },
  {
   "cell_type": "code",
   "outputs": [],
   "source": [
    "if not \"corr\" in globals():\n",
    "    corr = dataset_dt.corr()\n",
    "    plt.figure(figsize=(10, 300))\n",
    "    sns.heatmap(corr.iloc[3:, :3], cmap=\"coolwarm\", annot=False, fmt=\".2f\")\n",
    "    plt.show()\n"
   ],
   "metadata": {
    "collapsed": false,
    "ExecuteTime": {
     "end_time": "2024-03-05T07:31:20.902856Z",
     "start_time": "2024-03-05T07:31:20.883400Z"
    }
   },
   "id": "452646cad2bc4039",
   "execution_count": 250
  },
  {
   "cell_type": "markdown",
   "source": [
    "# Dataset prepocessing"
   ],
   "metadata": {
    "collapsed": false
   },
   "id": "4383a5fc1f29ede0"
  },
  {
   "cell_type": "code",
   "outputs": [
    {
     "name": "stdout",
     "output_type": "stream",
     "text": [
      "631 736\n",
      "1232 1469\n"
     ]
    }
   ],
   "source": [
    "# Drop features which is all 0\n",
    "dataset_orig_filtered = dataset_orig.loc[:, (dataset_orig != 0).any(axis=0)]\n",
    "dataset_dt_filtered = dataset_dt.loc[:, (dataset_dt != 0).any(axis=0)]\n",
    "print(len(dataset_orig_filtered.columns), len(dataset_orig.columns))\n",
    "print(len(dataset_dt_filtered.columns), len(dataset_dt.columns))"
   ],
   "metadata": {
    "collapsed": false,
    "ExecuteTime": {
     "end_time": "2024-03-05T07:31:20.965132Z",
     "start_time": "2024-03-05T07:31:20.951263Z"
    }
   },
   "id": "9681fe15f9ade122",
   "execution_count": 251
  },
  {
   "cell_type": "code",
   "outputs": [],
   "source": [
    "# Drop features of low correlation\n",
    "corr_dt = dataset_dt_filtered.corr()\n",
    "corr_orig = dataset_orig_filtered.corr()"
   ],
   "metadata": {
    "collapsed": false,
    "ExecuteTime": {
     "end_time": "2024-03-05T07:31:24.683264Z",
     "start_time": "2024-03-05T07:31:21.005865Z"
    }
   },
   "id": "401c804642726b29",
   "execution_count": 252
  },
  {
   "cell_type": "code",
   "outputs": [
    {
     "name": "stdout",
     "output_type": "stream",
     "text": [
      "['bridge UncFREQ (Ghz) SKT0', 'firewall Socket 0 TIME(ticks)', 'firewall Socket 1 TIME(ticks)', 'firewall Core (Socket) TIME(ticks)', 'ndpi_stats Socket 1 WRITE', 'ndpi_stats SKT0 Core C-State C6res%', 'ndpi_stats SKT1 Core C-State C6res%', 'ndpi_stats SKT1 Core C-State C1res%', 'firewall UncFREQ (Ghz) SKT0', 'ndpi_stats UncFREQ (Ghz) SKT1', 'ndpi_stats UncFREQ (Ghz) SKT0', 'payload_scan SKT0 Core C-State C6res%', 'nf_router UncFREQ (Ghz) SKT0', 'payload_scan UncFREQ (Ghz) SKT0', 'tx Socket 1 PhysIPC', 'tx Socket 0 FREQ_dt', 'firewall SKT1 Core C-State C3res%_dt', 'payload_scan Core (Socket) L3OCC_dt', 'payload_scan Socket 1 FREQ_dt', 'rx Socket 0 L3HIT_dt', 'tx UncFREQ (Ghz) SKT0', 'bridge Proc Energy (Joules) SKT1_dt', 'rx Core (Socket) L3MISS_dt', 'rx SKT1 Core C-State C3res%_dt', 'tx Core (Socket) L2MISS_dt', 'rx Socket 0 TIME(ticks)_dt', 'rx Socket 1 TIME(ticks)_dt', 'rx Core (Socket) TIME(ticks)_dt', 'rx Core (Socket) INSTnom%_dt', 'tx Core (Socket) TEMP_dt', 'nf_router Socket 1 L3MISS_dt', 'pcie Skt0_WiL_Hit', 'memory SKT0 P. Write (T/s)', 'tx Socket 1 LOCAL_dt', 'payload_scan Proc Energy (Joules) SKT1_dt', 'rx Core (Socket) INST_dt', 'payload_scan Socket 1 AFREQ_dt', 'payload_scan Socket 0 LOCAL_dt', 'rx Core (Socket) L3MPI_dt', 'memory SKT1 P. Write (T/s)', 'bridge Socket 1 L3MPI_dt', 'rx Core (Socket) L3HIT_dt', 'tx Core (Socket) L3OCC_dt', 'payload_scan SKT1 Core C-State C6res%_dt', 'bridge Socket 0 LOCAL_dt', 'rx Socket 1 LOCAL_dt', 'firewall Socket 1 L2HIT_dt', 'rx Socket 1 L2MISS_dt', 'tx Core (Socket) ACYC_dt', 'tx SKT1 Core C-State C3res%_dt', 'nf_router Socket 1 L3MPI_dt', 'pcie Skt1_PRd_Hit_dt', 'tx Socket 0 LOCAL_dt', 'payload_scan Core (Socket) L3MISS_dt', 'tx Core (Socket) C1res%_dt', 'tx Core (Socket) C0res%_dt', 'rx Socket 0 LOCAL_dt', 'firewall Socket 0 TIME(ticks)_dt', 'firewall Socket 1 TIME(ticks)_dt', 'firewall Core (Socket) TIME(ticks)_dt', 'payload_scan SKT1 Core C-State C1res%_dt', 'rx Socket 0 L2MISS_dt', 'rx Socket 1 FREQ_dt', 'bridge Socket 0 L3HIT_dt', 'ndpi_stats Socket 1 EXEC_dt', 'firewall Socket 0 AFREQ_dt', 'bridge Socket 1 TEMP_dt', 'ndpi_stats Socket 0 LOCAL_dt', 'nf_router Core (Socket) TEMP_dt', 'firewall Socket 1 L3MPI_dt', 'tx Socket 1 L3MPI_dt', 'pcie Skt1_DRd_Miss_dt', 'memory SKT0 Mem Write (MB/s)_dt', 'rx SKT0 Core C-State C0res%_dt', 'bridge SKT0 Core C-State C6res%_dt', 'payload_scan Socket 1 L3MISS_dt', 'tx Socket 1 TEMP_dt', 'rx Socket 0 L3MISS_dt', 'payload_scan Socket 1 WRITE_dt', 'tx Socket 0 TIME(ticks)_dt', 'tx Socket 1 TIME(ticks)_dt', 'tx Core (Socket) TIME(ticks)_dt', 'payload_scan Core (Socket) L2HIT_dt', 'rx Core (Socket) AFREQ_dt', 'rx Socket 0 ACYC_dt', 'ndpi_stats UncFREQ (Ghz) SKT0_dt', 'nf_router Socket 0 LOCAL_dt', 'bridge Socket 1 L2HIT_dt', 'pcie Skt1_ItoM_Miss_dt', 'pcie Skt0_PRd_Miss_dt', 'payload_scan Core (Socket) TEMP_dt', 'bridge Socket 1 WRITE_dt', 'payload_scan SKT0 Core C-State C1res%_dt', 'rx Socket 0 AFREQ_dt', 'ndpi_stats Socket 0 AFREQ_dt', 'pcie Skt1_ItoM_Total_dt', 'pcie Skt1_ItoM_Hit_dt', 'bridge Socket 0 AFREQ_dt', 'tx Socket 0 L2MISS_dt', 'nf_router UncFREQ (Ghz) SKT0_dt', 'pcie Skt1_RFO_Miss_dt', 'rx Socket 1 L3MPI_dt', 'bridge Socket 0 L3MISS_dt', 'firewall UncFREQ (Ghz) SKT0_dt', 'nf_router Core (Socket) AFREQ_dt', 'rx Socket 1 WRITE_dt', 'nf_router Socket 0 AFREQ_dt', 'firewall Core (Socket) AFREQ_dt', 'payload_scan Socket 0 AFREQ_dt', 'bridge Core (Socket) AFREQ_dt', 'tx Socket 1 WRITE_dt', 'firewall Socket 1 TEMP_dt', 'tx UncFREQ (Ghz) SKT0_dt', 'ndpi_stats UncFREQ (Ghz) SKT1_dt', 'bridge UncFREQ (Ghz) SKT0_dt', 'ndpi_stats Core (Socket) AFREQ_dt', 'tx Socket 0 AFREQ_dt', 'payload_scan UncFREQ (Ghz) SKT0_dt', 'bridge Core (Socket) L3OCC_dt', 'tx Core (Socket) L3MISS_dt', 'payload_scan Core (Socket) L3HIT_dt', 'nf_router Core (Socket) C6res%_dt', 'firewall Socket 1 WRITE_dt']\n"
     ]
    }
   ],
   "source": [
    "if preprocessing_drop_features:\n",
    "    feature_corr_list = []\n",
    "    for i in range(3, len(corr_dt)):\n",
    "        feature_corr_list.append((dataset_dt_filtered.columns[i],\n",
    "                                  min(abs(corr_dt.iloc[i, 0]), abs(corr_dt.iloc[i, 1]), abs(corr_dt.iloc[i, 2]))))\n",
    "    feature_corr_list = sorted(feature_corr_list, key=lambda x: x[1], reverse=True)\n",
    "\n",
    "    feature_drop_list = [i[0] for i in feature_corr_list if i[1] < 0.001]\n",
    "    print(feature_drop_list)\n",
    "    dataset_dt_dropped = dataset_dt_filtered.drop(feature_drop_list, axis=1)\n",
    "else:\n",
    "    dataset_dt_dropped = dataset_dt_filtered\n",
    "\n"
   ],
   "metadata": {
    "collapsed": false,
    "ExecuteTime": {
     "end_time": "2024-03-05T07:31:24.731484Z",
     "start_time": "2024-03-05T07:31:24.684324Z"
    }
   },
   "id": "38033cbcda223a69",
   "execution_count": 253
  },
  {
   "cell_type": "code",
   "outputs": [
    {
     "name": "stdout",
     "output_type": "stream",
     "text": [
      "['bridge UncFREQ (Ghz) SKT0', 'firewall Socket 0 TIME(ticks)', 'firewall Socket 1 TIME(ticks)', 'firewall UncFREQ (Ghz) SKT0', 'firewall Core (Socket) TIME(ticks)', 'ndpi_stats Socket 1 WRITE', 'ndpi_stats SKT0 Core C-State C6res%', 'ndpi_stats SKT1 Core C-State C6res%', 'ndpi_stats SKT1 Core C-State C1res%', 'ndpi_stats UncFREQ (Ghz) SKT1', 'ndpi_stats UncFREQ (Ghz) SKT0', 'nf_router UncFREQ (Ghz) SKT0', 'payload_scan UncFREQ (Ghz) SKT0', 'payload_scan SKT0 Core C-State C6res%', 'tx UncFREQ (Ghz) SKT0', 'tx Socket 1 PhysIPC', 'pcie Skt0_WiL_Hit', 'memory SKT0 P. Write (T/s)', 'memory SKT1 P. Write (T/s)']\n"
     ]
    }
   ],
   "source": [
    "if preprocessing_drop_features:\n",
    "    feature_corr_list = []\n",
    "    for i in range(3, len(corr_orig)):\n",
    "        feature_corr_list.append((dataset_orig_filtered.columns[i],\n",
    "                                  min(abs(corr_orig.iloc[i, 0]), abs(corr_orig.iloc[i, 1]), abs(corr_orig.iloc[i, 2]))))\n",
    "    feature_corr_list = sorted(feature_corr_list, key=lambda x: x[1], reverse=True)\n",
    "\n",
    "    feature_drop_list = [i[0] for i in feature_corr_list if i[1] < 0.001]\n",
    "    print(feature_drop_list)\n",
    "    dataset_orig_dropped = dataset_orig_filtered.drop(feature_drop_list, axis=1)\n",
    "else:\n",
    "    dataset_orig_dropped = dataset_orig_filtered\n"
   ],
   "metadata": {
    "collapsed": false,
    "ExecuteTime": {
     "end_time": "2024-03-05T07:31:24.762858Z",
     "start_time": "2024-03-05T07:31:24.732546Z"
    }
   },
   "id": "dbcddbc780d3b657",
   "execution_count": 254
  },
  {
   "cell_type": "code",
   "outputs": [],
   "source": [
    "def dataset_to_XY(dataset, target, split=0.3, standardize=True, scaler=None):\n",
    "    if len(dataset) != 2:\n",
    "        X = dataset.drop([\"input_rate\", \"output_rate\", \"latency\"], axis=1)\n",
    "        Y = dataset[\"output_rate\"]\n",
    "    else:\n",
    "        X = dataset[0]\n",
    "        Y = dataset[1]\n",
    "\n",
    "    if split:\n",
    "        X_train, X_val, y_train, y_val = sklearn.model_selection.train_test_split(X, Y, test_size=split, random_state=0)\n",
    "\n",
    "        column_order = X_train.columns\n",
    "        X_val = X_val[column_order]\n",
    "\n",
    "        if standardize:\n",
    "            # Standardize the features\n",
    "            scaler = sklearn.preprocessing.StandardScaler()\n",
    "            X_train = scaler.fit_transform(X_train)\n",
    "            X_val = scaler.transform(X_val)\n",
    "\n",
    "        return X_train, X_val, y_train, y_val, scaler\n",
    "    else:\n",
    "        column_order = X.columns\n",
    "        X = X[column_order]\n",
    "\n",
    "        if standardize:\n",
    "            # Standardize the features\n",
    "            if scaler is None:\n",
    "                raise ValueError(\"scaler is None\")\n",
    "            X = scaler.transform(X)\n",
    "\n",
    "        return X, Y"
   ],
   "metadata": {
    "collapsed": false,
    "ExecuteTime": {
     "end_time": "2024-03-05T07:31:24.778669Z",
     "start_time": "2024-03-05T07:31:24.765369Z"
    }
   },
   "id": "d4cbc06a18939579",
   "execution_count": 255
  },
  {
   "cell_type": "markdown",
   "source": [
    "# Dataset: throughput"
   ],
   "metadata": {
    "collapsed": false
   },
   "id": "b755ee8b5f24c34a"
  },
  {
   "cell_type": "code",
   "outputs": [],
   "source": [
    "if \"target\" not in globals():\n",
    "    target = \"output\""
   ],
   "metadata": {
    "collapsed": false,
    "ExecuteTime": {
     "end_time": "2024-03-05T07:31:24.793788Z",
     "start_time": "2024-03-05T07:31:24.779737Z"
    }
   },
   "id": "41023769e93899d",
   "execution_count": 256
  },
  {
   "cell_type": "code",
   "outputs": [],
   "source": [
    "if target == \"output\":\n",
    "    X_train_orig, X_val_orig, y_train_orig, y_val_orig, scaler = dataset_to_XY(dataset_orig_dropped, \"output_rate\",\n",
    "                                                                               standardize=True)\n",
    "    X_test_orig, X_val_orig, y_test_orig, y_val_orig = sklearn.model_selection.train_test_split(X_val_orig, y_val_orig,\n",
    "                                                                                                train_size=0.2,\n",
    "                                                                                                random_state=0)\n",
    "    X_train_dt, X_val_dt, y_train_dt, y_val_dt, scaler = dataset_to_XY(dataset_dt_dropped, \"output_rate\",\n",
    "                                                                       standardize=True)\n",
    "    X_test_dt, X_val_dt, y_test_dt, y_val_dt = sklearn.model_selection.train_test_split(X_val_dt, y_val_dt,\n",
    "                                                                                        train_size=0.2, random_state=0)\n",
    "elif target == \"latency\":\n",
    "    X_train_orig, X_val_orig, y_train_orig, y_val_orig, scaler = dataset_to_XY(dataset_orig_dropped, \"latency\",\n",
    "                                                                               standardize=True)\n",
    "    X_test_orig, X_val_orig, y_test_orig, y_val_orig = sklearn.model_selection.train_test_split(X_val_orig, y_val_orig,\n",
    "                                                                                                train_size=0.2,\n",
    "                                                                                                random_state=0)\n",
    "    X_train_dt, X_val_dt, y_train_dt, y_val_dt, scaler = dataset_to_XY(dataset_dt_dropped, \"latency\", standardize=True)\n",
    "    X_test_dt, X_val_dt, y_test_dt, y_val_dt = sklearn.model_selection.train_test_split(X_val_dt, y_val_dt,\n",
    "                                                                                        train_size=0.2, random_state=0)\n"
   ],
   "metadata": {
    "collapsed": false,
    "ExecuteTime": {
     "end_time": "2024-03-05T07:31:24.871834Z",
     "start_time": "2024-03-05T07:31:24.794792Z"
    }
   },
   "id": "ad8105662447fc1a",
   "execution_count": 257
  },
  {
   "cell_type": "code",
   "outputs": [
    {
     "data": {
      "text/plain": "<seaborn.axisgrid.FacetGrid at 0x1da9e8dc9a0>"
     },
     "execution_count": 258,
     "metadata": {},
     "output_type": "execute_result"
    },
    {
     "data": {
      "text/plain": "<Figure size 500x500 with 1 Axes>",
      "image/png": "[encoded data removed]"
     },
     "metadata": {},
     "output_type": "display_data"
    }
   ],
   "source": [
    "sns.displot(y_train_dt)"
   ],
   "metadata": {
    "collapsed": false,
    "ExecuteTime": {
     "end_time": "2024-03-05T07:31:25.072499Z",
     "start_time": "2024-03-05T07:31:24.872913Z"
    }
   },
   "id": "e4518d5531c7f87f",
   "execution_count": 258
  },
  {
   "cell_type": "markdown",
   "source": [
    "# LGB"
   ],
   "metadata": {
    "collapsed": false
   },
   "id": "17fcbae12a67e409"
  },
  {
   "cell_type": "code",
   "outputs": [],
   "source": [
    "dpi_figure = 200\n",
    "dpi_output = 300\n",
    "\n",
    "\n",
    "def evaluation(bst, X_test, y_test, show=False, batch_size=None):\n",
    "    # Make predictions on the test set\n",
    "    if batch_size is not None:\n",
    "        y_pred = bst.predict(X_test, batch_size=batch_size)\n",
    "    else:\n",
    "        y_pred = bst.predict(X_test)\n",
    "    if show:\n",
    "        print(\"MSE:\", sklearn.metrics.mean_squared_error(y_test, y_pred))\n",
    "\n",
    "    # mse = sklearn.metrics.mean_squared_error(y_test, y_pred)\n",
    "    # r2 = sklearn.metrics.r2_score(y_test, y_pred)\n",
    "\n",
    "    # accuracy\n",
    "    # threshold = 0.05\n",
    "    # y_pred = np.array(y_pred)\n",
    "    # y_test = np.array(y_test)\n",
    "    # distances = [abs(real - pred) / (1e-9 if real==0 else real) for real, pred in zip(y_test, y_pred)]\n",
    "    # accuracy_within_threshold = sum(dist <= threshold for dist in distances) / len(distances) * 100\n",
    "\n",
    "    accuracy_cdf = {}\n",
    "    # plot cdf of accurancy\n",
    "    for i in range(21):\n",
    "        threshold = i / 20\n",
    "        distances = [abs(real - pred) / (1e-9 if real == 0 else real) for real, pred in zip(y_test, y_pred)]\n",
    "        accuracy_within_threshold = sum(dist <= threshold for dist in distances) / len(distances) * 100\n",
    "        accuracy_cdf[threshold] = accuracy_within_threshold\n",
    "\n",
    "    if show:\n",
    "        print(accuracy_cdf)\n",
    "        # plot\n",
    "\n",
    "        plt.rcParams['figure.dpi'] = dpi_figure\n",
    "        plt.rcParams['savefig.dpi'] = dpi_output\n",
    "\n",
    "        fig, ax = plt.subplots(facecolor='white', figsize=(8, 6))\n",
    "        #ax.set_facecolor('white')\n",
    "        plt.style.use('classic')\n",
    "\n",
    "        plt.plot(y_pred[0:80], marker='o', c='r', markersize=2, linewidth=0.8, linestyle='-', markeredgecolor='red',\n",
    "                 dashes=(5, 3), label='Prediction')\n",
    "        plt.plot(y_test.tolist()[0:80], c='b', linestyle='-', linewidth=0.8, label='Real data')\n",
    "\n",
    "        plt.legend(loc=\"upper right\", fontsize=8)\n",
    "        fig.text(0.5, 0.01, 'Series', size='12', ha='center')\n",
    "        fig.text(0.01, 0.5, 'Values', size='12', va='center', rotation='vertical')\n",
    "        plt.subplots_adjust(left=0.12, right=0.9, bottom=0.15, top=0.9, wspace=0.3, hspace=0.4)\n",
    "        #plt.grid()\n",
    "        ax.set_facecolor('white')\n",
    "\n",
    "        plt.ylim(0, 10000)\n",
    "\n",
    "        # Set y-axis tick format\n",
    "        formatter = mticker.FuncFormatter(lambda x, pos: f\"{int(x / 1000)}\")\n",
    "        ax.yaxis.set_major_formatter(formatter)\n",
    "        # Set text in the upper left corner of the figure\n",
    "        fig.text(0.12, 0.98, '1e3', size='12', ha='left', va='top')\n",
    "\n",
    "        #save figure\n",
    "        #folder_path = 'figure/rate_prediction'\n",
    "        #if not os.path.exists(folder_path):\n",
    "        #    os.makedirs(folder_path)\n",
    "        #file_path = os.path.join(folder_path, 'accuracy-linear.pdf' )\n",
    "        #plt.savefig(file_path)\n",
    "\n",
    "        plt.show()\n",
    "\n",
    "    return accuracy_cdf\n",
    "\n",
    "\n",
    "def show_acc_plot(acc_dict_list, legend=None):\n",
    "    plt.rcParams['figure.dpi'] = dpi_figure\n",
    "    plt.rcParams['savefig.dpi'] = dpi_output\n",
    "\n",
    "    fig, ax = plt.subplots(facecolor='white', figsize=(8, 6))\n",
    "    #ax.set_facecolor('white')\n",
    "    plt.style.use('classic')\n",
    "\n",
    "    for acc_dict in acc_dict_list:\n",
    "        plt.plot(list(acc_dict.keys()), list(acc_dict.values()), marker='o', markersize=2, linewidth=0.8, linestyle='-',\n",
    "                 markeredgecolor='red',\n",
    "                 dashes=(5, 3), label='Prediction')\n",
    "\n",
    "    plt.legend(loc=\"upper right\", fontsize=8)\n",
    "    fig.text(0.5, 0.01, 'Threshold', size='12', ha='center')\n",
    "    fig.text(0.01, 0.5, 'Accuracy', size='12', va='center', rotation='vertical')\n",
    "    plt.subplots_adjust(left=0.12, right=0.9, bottom=0.15, top=0.9, wspace=0.3, hspace=0.4)\n",
    "    #plt.grid()\n",
    "    ax.set_facecolor('white')\n",
    "\n",
    "    plt.ylim(0, 100)\n",
    "\n",
    "    # Set y-axis tick format\n",
    "    formatter = mticker.FuncFormatter(lambda x, pos: f\"{int(x)}\")\n",
    "    ax.yaxis.set_major_formatter(formatter)\n",
    "    # Set text in the upper left corner of the figure\n",
    "    fig.text(0.12, 0.98, '1e3', size='12', ha='left', va='top')\n",
    "\n",
    "    if legend is not None:\n",
    "        plt.legend(loc=\"lower right\", fontsize=8, labels=legend)\n",
    "\n",
    "    #save figure\n",
    "    #folder_path = 'figure/rate_prediction'\n",
    "    #if not os.path.exists(folder_path):\n",
    "    #    os.makedirs(folder_path)\n",
    "    #file_path = os.path.join(folder_path, 'accuracy-linear.pdf' )\n",
    "    #plt.savefig(file_path)\n",
    "\n",
    "    plt.show()"
   ],
   "metadata": {
    "collapsed": false,
    "ExecuteTime": {
     "end_time": "2024-03-05T07:31:25.088085Z",
     "start_time": "2024-03-05T07:31:25.073504Z"
    }
   },
   "id": "f363483575fe2712",
   "execution_count": 259
  },
  {
   "cell_type": "code",
   "outputs": [],
   "source": [
    "# orig or dt ?\n",
    "\n",
    "if \"dt\" not in globals():\n",
    "    dt = False\n",
    "\n",
    "if dt:\n",
    "    X_train = X_train_dt\n",
    "    X_val = X_val_dt\n",
    "    y_train = y_train_dt\n",
    "    y_val = y_val_dt\n",
    "    X_test = X_test_dt\n",
    "    y_test = y_test_dt\n",
    "else:\n",
    "    X_train = X_train_orig\n",
    "    X_val = X_val_orig\n",
    "    y_train = y_train_orig\n",
    "    y_val = y_val_orig\n",
    "    X_test = X_test_orig\n",
    "    y_test = y_test_orig\n"
   ],
   "metadata": {
    "collapsed": false,
    "ExecuteTime": {
     "end_time": "2024-03-05T07:31:25.103352Z",
     "start_time": "2024-03-05T07:31:25.090101Z"
    }
   },
   "id": "1607a097b033dafb",
   "execution_count": 260
  },
  {
   "cell_type": "code",
   "outputs": [
    {
     "name": "stderr",
     "output_type": "stream",
     "text": [
      "100%|██████████| 36/36 [00:17<00:00,  2.11it/s, lr=0.5, nt=100] "
     ]
    },
    {
     "name": "stdout",
     "output_type": "stream",
     "text": [
      "[(0.05, 100), (0.2, 20), (0.1, 40), (0.1, 70), (0.05, 70), (0.2, 40), (0.1, 100), (0.5, 5), (0.2, 70), (0.2, 100), (0.5, 10), (0.5, 70), (0.5, 100), (0.2, 10), (0.1, 20), (0.5, 20), (0.5, 40), (0.02, 100), (0.05, 40), (0.02, 70), (0.2, 5), (0.05, 20), (0.1, 10), (0.01, 100), (0.02, 40), (0.01, 70), (0.05, 10), (0.1, 5), (0.01, 40), (0.02, 20), (0.05, 5), (0.01, 20), (0.02, 10), (0.02, 5), (0.01, 10), (0.01, 5)]\n"
     ]
    },
    {
     "name": "stderr",
     "output_type": "stream",
     "text": [
      "\n"
     ]
    }
   ],
   "source": [
    "grid_lr = [0.01, 0.02, 0.05, 0.1, 0.2, 0.5]\n",
    "grid_tree = [5, 10, 20, 40, 70, 100, ]\n",
    "\n",
    "if \"trainer\" not in globals():\n",
    "    trainer = \"gbdt\"\n",
    "\n",
    "acc = {}\n",
    "with tqdm([(lr, nt) for lr in grid_lr for nt in grid_tree]) as prog:\n",
    "    for lr, nt in prog:\n",
    "        prog.set_postfix_str(f\"lr={lr}, nt={nt}\")\n",
    "        train_data = lgb.Dataset(X_train, label=y_train)\n",
    "        param = {'objective': 'mean_squared_error', 'boosting': trainer, 'learning_rate': lr, 'verbosity': 0, }\n",
    "        bst = lgb.train(param, train_data, num_boost_round=nt)\n",
    "        acc[(lr, nt)] = evaluation(bst, X_val, y_val)[0.1]\n",
    "\n",
    "print(sorted(acc.keys(), key=lambda x: acc[x], reverse=True))\n"
   ],
   "metadata": {
    "collapsed": false,
    "ExecuteTime": {
     "end_time": "2024-03-05T07:31:42.182221Z",
     "start_time": "2024-03-05T07:31:25.104871Z"
    }
   },
   "id": "2b7f9bc21431c50a",
   "execution_count": 261
  },
  {
   "cell_type": "code",
   "outputs": [
    {
     "data": {
      "text/plain": "<Figure size 1000x600 with 2 Axes>",
      "image/png": "[encoded data removed]"
     },
     "metadata": {},
     "output_type": "display_data"
    }
   ],
   "source": [
    "# Generate heatmap, plotting use seaborn\n",
    "acc_matrix = np.zeros((len(grid_lr), len(grid_tree)))\n",
    "for i, lr in enumerate(grid_lr):\n",
    "    for j, nt in enumerate(grid_tree):\n",
    "        acc_matrix[i, j] = acc[(lr, nt)]\n",
    "\n",
    "plt.figure(figsize=(10, 6))\n",
    "sns.heatmap(acc_matrix, annot=True, fmt=\".2f\", xticklabels=grid_tree, yticklabels=grid_lr, cmap=\"coolwarm\")\n",
    "plt.xlabel(\"nt\")\n",
    "plt.ylabel(\"lr\")\n",
    "plt.title(f\"Accuracy Heatmap of LGBM (dt={dt}, target={target}, trainer={trainer})\")\n",
    "plt.show()\n"
   ],
   "metadata": {
    "collapsed": false,
    "ExecuteTime": {
     "end_time": "2024-03-05T07:31:42.398787Z",
     "start_time": "2024-03-05T07:31:42.185238Z"
    }
   },
   "id": "5066fa1d2da0c70a",
   "execution_count": 262
  },
  {
   "cell_type": "code",
   "outputs": [],
   "source": [
    "lr, nt = 0.1, 100\n",
    "train_data = lgb.Dataset(X_train, label=y_train)\n",
    "param = {'objective': 'mean_squared_error', 'boosting': trainer, 'learning_rate': lr, 'verbosity': 0, }\n",
    "bst = lgb.train(param, train_data, num_boost_round=nt)"
   ],
   "metadata": {
    "collapsed": false,
    "ExecuteTime": {
     "end_time": "2024-03-05T07:31:43.276414Z",
     "start_time": "2024-03-05T07:31:42.399887Z"
    }
   },
   "id": "d1c8fd437511ad78",
   "execution_count": 263
  },
  {
   "cell_type": "code",
   "outputs": [
    {
     "data": {
      "text/plain": "<Figure size 640x480 with 1 Axes>",
      "image/png": "[encoded data removed]"
     },
     "metadata": {},
     "output_type": "display_data"
    }
   ],
   "source": [
    "test_num = 20\n",
    "\n",
    "XXX = list(range(test_num))\n",
    "YYY_real = y_test[:test_num]\n",
    "YYY_lgb = bst.predict(X_test[:test_num])\n",
    "\n",
    "plt.plot(XXX, YYY_real)\n",
    "plt.plot(XXX, YYY_lgb)\n",
    "plt.legend([\"real\", \"lgb\"])\n",
    "plt.show()"
   ],
   "metadata": {
    "collapsed": false,
    "ExecuteTime": {
     "end_time": "2024-03-05T07:31:43.429483Z",
     "start_time": "2024-03-05T07:31:43.277418Z"
    }
   },
   "id": "3c92ace7d0e796ac",
   "execution_count": 264
  },
  {
   "cell_type": "code",
   "outputs": [],
   "source": [],
   "metadata": {
    "collapsed": false,
    "ExecuteTime": {
     "end_time": "2024-03-05T07:31:43.445518Z",
     "start_time": "2024-03-05T07:31:43.430620Z"
    }
   },
   "id": "3263b5977a2ac30c",
   "execution_count": 264
  }
 ],
 "metadata": {
  "kernelspec": {
   "display_name": "Python 3",
   "language": "python",
   "name": "python3"
  },
  "language_info": {
   "codemirror_mode": {
    "name": "ipython",
    "version": 2
   },
   "file_extension": ".py",
   "mimetype": "text/x-python",
   "name": "python",
   "nbconvert_exporter": "python",
   "pygments_lexer": "ipython2",
   "version": "2.7.6"
  }
 },
 "nbformat": 4,
 "nbformat_minor": 5
}
