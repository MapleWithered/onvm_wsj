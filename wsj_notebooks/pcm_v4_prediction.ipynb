{
 "cells": [
  {
   "cell_type": "code",
   "execution_count": 17,
   "id": "initial_id",
   "metadata": {
    "collapsed": true,
    "ExecuteTime": {
     "end_time": "2024-03-15T04:21:03.943189Z",
     "start_time": "2024-03-15T04:21:03.928882Z"
    }
   },
   "outputs": [],
   "source": [
    "import csv\n",
    "import os\n",
    "from copy import deepcopy\n",
    "\n",
    "import lightgbm as lgb\n",
    "import matplotlib.pyplot as plt\n",
    "import matplotlib.ticker as mticker\n",
    "import numpy as np\n",
    "import pandas as pd\n",
    "import seaborn as sns\n",
    "import tensorflow as tf\n",
    "import sklearn\n",
    "from tqdm import tqdm"
   ]
  },
  {
   "cell_type": "code",
   "outputs": [],
   "source": [
    "dataset = pd.read_csv(\"../dataset/random_input/exp-7_latencylog.csv\")\n",
    "parameters = {\n",
    "    # \"exp\": [f\"exp-{i}\" for i in range(1, 11)],\n",
    "    \"exp\": [\"exp-7\"],\n",
    "    \"target\": \"latency\",     # output_rate / input_rate / latency\n",
    "    \"dt\": True,\n",
    "    \"trainer\": \"gbdt\",\n",
    "    \"droplowcorr\": False,\n",
    "    \"interpolate\": False,\n",
    "    \"latencylog\": False,\n",
    "}\n"
   ],
   "metadata": {
    "collapsed": false,
    "ExecuteTime": {
     "end_time": "2024-03-15T04:21:04.364425Z",
     "start_time": "2024-03-15T04:21:03.954643Z"
    }
   },
   "id": "7a82ec8eec34506e",
   "execution_count": 18
  },
  {
   "cell_type": "code",
   "outputs": [],
   "source": [
    "DEBUG=False"
   ],
   "metadata": {
    "collapsed": false,
    "ExecuteTime": {
     "end_time": "2024-03-15T05:10:57.425306Z",
     "start_time": "2024-03-15T05:10:57.407384Z"
    }
   },
   "id": "eb09d9478ec16bf6",
   "execution_count": 25
  },
  {
   "cell_type": "code",
   "outputs": [],
   "source": [
    "def dataset_to_XY(dataset, target, split=0.3, standardize=True, scaler=None, shuffle=True):\n",
    "    print(type(dataset))\n",
    "    if type(dataset) is pd.core.frame.DataFrame:\n",
    "        X = dataset\n",
    "        if \"input_rate\" in dataset.columns:\n",
    "            X = X.drop([\"input_rate\"], axis=1)\n",
    "        if \"output_rate\" in dataset.columns:\n",
    "            X = X.drop([\"output_rate\"], axis=1)\n",
    "        if \"latency\" in dataset.columns:\n",
    "            X = X.drop([\"latency\"], axis=1)\n",
    "        Y = dataset[target]\n",
    "    else:\n",
    "        X = dataset[0]\n",
    "        Y = dataset[1]\n",
    "\n",
    "    if split:\n",
    "        if shuffle:\n",
    "            X_train, X_val, y_train, y_val = sklearn.model_selection.train_test_split(X, Y, test_size=split, random_state=0)\n",
    "        else:\n",
    "            if split < 1:\n",
    "                X_train, X_val, y_train, y_val = X[:-int(len(X) * split)], X[-int(len(X) * split):], Y[:-int(len(X) * split)], Y[-int(len(X) * split):]\n",
    "            else:\n",
    "                X_train, X_val, y_train, y_val = X[:-split], X[-split:], Y[:-split], Y[-split:]\n",
    "\n",
    "        column_order = X_train.columns\n",
    "        X_val = X_val[column_order]\n",
    "\n",
    "        if standardize:\n",
    "            # Standardize the features\n",
    "            scaler = sklearn.preprocessing.StandardScaler()\n",
    "            X_train = scaler.fit_transform(X_train)\n",
    "            X_val = scaler.transform(X_val)\n",
    "\n",
    "        return X_train, X_val, y_train, y_val, scaler\n",
    "    else:\n",
    "        column_order = X.columns\n",
    "        X = X[column_order]\n",
    "\n",
    "        if standardize:\n",
    "            # Standardize the features\n",
    "            if scaler is None:\n",
    "                raise ValueError(\"scaler is None\")\n",
    "            X = scaler.transform(X)\n",
    "\n",
    "        return X, Y"
   ],
   "metadata": {
    "collapsed": false,
    "ExecuteTime": {
     "end_time": "2024-03-15T05:24:30.292864Z",
     "start_time": "2024-03-15T05:24:30.276542Z"
    }
   },
   "id": "cadd76e9f8530909",
   "execution_count": 37
  },
  {
   "cell_type": "code",
   "outputs": [],
   "source": [
    "if not parameters[\"dt\"]:\n",
    "    dataset = dataset.drop([col for col in dataset.columns if col.endswith(\"_dt\")], axis=1)"
   ],
   "metadata": {
    "collapsed": false,
    "ExecuteTime": {
     "end_time": "2024-03-15T04:21:04.426929Z",
     "start_time": "2024-03-15T04:21:04.414516Z"
    }
   },
   "id": "5cc45a04eec364ef",
   "execution_count": 20
  },
  {
   "cell_type": "code",
   "outputs": [
    {
     "data": {
      "text/plain": "pandas.core.frame.DataFrame"
     },
     "execution_count": 32,
     "metadata": {},
     "output_type": "execute_result"
    }
   ],
   "source": [
    "type(dataset)"
   ],
   "metadata": {
    "collapsed": false,
    "ExecuteTime": {
     "end_time": "2024-03-15T05:22:26.091606Z",
     "start_time": "2024-03-15T05:22:26.082636Z"
    }
   },
   "id": "8796520d1ae830c6",
   "execution_count": 32
  },
  {
   "cell_type": "code",
   "outputs": [
    {
     "name": "stdout",
     "output_type": "stream",
     "text": [
      "<class 'pandas.core.frame.DataFrame'>\n",
      "<class 'tuple'>\n"
     ]
    }
   ],
   "source": [
    "X_train, X_val, y_train, y_val, scaler = dataset_to_XY(dataset, parameters[\"target\"], split=0.4, standardize=False, shuffle=False)\n",
    "X_test, X_val, y_test, y_val, _ = dataset_to_XY((X_val, y_val), parameters[\"target\"], split=0.5, standardize=False, shuffle=False)\n"
   ],
   "metadata": {
    "collapsed": false,
    "ExecuteTime": {
     "end_time": "2024-03-15T05:25:20.742279Z",
     "start_time": "2024-03-15T05:25:20.717145Z"
    }
   },
   "id": "224a1c849bdf1bee",
   "execution_count": 39
  },
  {
   "cell_type": "code",
   "outputs": [
    {
     "data": {
      "text/plain": "<seaborn.axisgrid.FacetGrid at 0x23cc0020100>"
     },
     "execution_count": 41,
     "metadata": {},
     "output_type": "execute_result"
    },
    {
     "data": {
      "text/plain": "<Figure size 500x500 with 1 Axes>",
      "image/png": "[encoded data removed]"
     },
     "metadata": {},
     "output_type": "display_data"
    }
   ],
   "source": [
    "sns.displot(y_train)"
   ],
   "metadata": {
    "collapsed": false,
    "ExecuteTime": {
     "end_time": "2024-03-15T05:25:44.085773Z",
     "start_time": "2024-03-15T05:25:43.881662Z"
    }
   },
   "id": "d9798415c110219f",
   "execution_count": 41
  },
  {
   "cell_type": "code",
   "outputs": [],
   "source": [],
   "metadata": {
    "collapsed": false
   },
   "id": "6e53b518349f8c09"
  }
 ],
 "metadata": {
  "kernelspec": {
   "display_name": "Python 3",
   "language": "python",
   "name": "python3"
  },
  "language_info": {
   "codemirror_mode": {
    "name": "ipython",
    "version": 2
   },
   "file_extension": ".py",
   "mimetype": "text/x-python",
   "name": "python",
   "nbconvert_exporter": "python",
   "pygments_lexer": "ipython2",
   "version": "2.7.6"
  }
 },
 "nbformat": 4,
 "nbformat_minor": 5
}
